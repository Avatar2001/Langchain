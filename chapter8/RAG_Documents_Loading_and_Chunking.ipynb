{
  "nbformat": 4,
  "nbformat_minor": 0,
  "metadata": {
    "colab": {
      "provenance": []
    },
    "kernelspec": {
      "name": "python3",
      "display_name": "Python 3"
    },
    "language_info": {
      "name": "python"
    },
    "widgets": {
      "application/vnd.jupyter.widget-state+json": {
        "4896a2cc284b4dfa864bcc8bc908129f": {
          "model_module": "@jupyter-widgets/controls",
          "model_name": "HBoxModel",
          "model_module_version": "1.5.0",
          "state": {
            "_dom_classes": [],
            "_model_module": "@jupyter-widgets/controls",
            "_model_module_version": "1.5.0",
            "_model_name": "HBoxModel",
            "_view_count": null,
            "_view_module": "@jupyter-widgets/controls",
            "_view_module_version": "1.5.0",
            "_view_name": "HBoxView",
            "box_style": "",
            "children": [
              "IPY_MODEL_0782fb59f6634d4181eba6604ef96c9c",
              "IPY_MODEL_5e33c0a227ed488c8cbc0af4cc37cea3",
              "IPY_MODEL_cca57bcce1d04853b723de4e5f8abf9f"
            ],
            "layout": "IPY_MODEL_c293399ae0a7467eaa110d4b40f0b543"
          }
        },
        "0782fb59f6634d4181eba6604ef96c9c": {
          "model_module": "@jupyter-widgets/controls",
          "model_name": "HTMLModel",
          "model_module_version": "1.5.0",
          "state": {
            "_dom_classes": [],
            "_model_module": "@jupyter-widgets/controls",
            "_model_module_version": "1.5.0",
            "_model_name": "HTMLModel",
            "_view_count": null,
            "_view_module": "@jupyter-widgets/controls",
            "_view_module_version": "1.5.0",
            "_view_name": "HTMLView",
            "description": "",
            "description_tooltip": null,
            "layout": "IPY_MODEL_bbbb6832c708468e8bf529e5488e8ca2",
            "placeholder": "​",
            "style": "IPY_MODEL_56a36c7b8aa249fdbf0006bfab601e9a",
            "value": "tokenizer_config.json: 100%"
          }
        },
        "5e33c0a227ed488c8cbc0af4cc37cea3": {
          "model_module": "@jupyter-widgets/controls",
          "model_name": "FloatProgressModel",
          "model_module_version": "1.5.0",
          "state": {
            "_dom_classes": [],
            "_model_module": "@jupyter-widgets/controls",
            "_model_module_version": "1.5.0",
            "_model_name": "FloatProgressModel",
            "_view_count": null,
            "_view_module": "@jupyter-widgets/controls",
            "_view_module_version": "1.5.0",
            "_view_name": "ProgressView",
            "bar_style": "success",
            "description": "",
            "description_tooltip": null,
            "layout": "IPY_MODEL_49f7b4cd1c6d45ef8ec04cc6d29d341f",
            "max": 264,
            "min": 0,
            "orientation": "horizontal",
            "style": "IPY_MODEL_d45d511825574f3c89816e34ad09a6d4",
            "value": 264
          }
        },
        "cca57bcce1d04853b723de4e5f8abf9f": {
          "model_module": "@jupyter-widgets/controls",
          "model_name": "HTMLModel",
          "model_module_version": "1.5.0",
          "state": {
            "_dom_classes": [],
            "_model_module": "@jupyter-widgets/controls",
            "_model_module_version": "1.5.0",
            "_model_name": "HTMLModel",
            "_view_count": null,
            "_view_module": "@jupyter-widgets/controls",
            "_view_module_version": "1.5.0",
            "_view_name": "HTMLView",
            "description": "",
            "description_tooltip": null,
            "layout": "IPY_MODEL_7d0ba5c29b7143be9d2d31d71aedf17a",
            "placeholder": "​",
            "style": "IPY_MODEL_0d4a60bafe78487395a4d68e0cce6d51",
            "value": " 264/264 [00:00&lt;00:00, 7.54kB/s]"
          }
        },
        "c293399ae0a7467eaa110d4b40f0b543": {
          "model_module": "@jupyter-widgets/base",
          "model_name": "LayoutModel",
          "model_module_version": "1.2.0",
          "state": {
            "_model_module": "@jupyter-widgets/base",
            "_model_module_version": "1.2.0",
            "_model_name": "LayoutModel",
            "_view_count": null,
            "_view_module": "@jupyter-widgets/base",
            "_view_module_version": "1.2.0",
            "_view_name": "LayoutView",
            "align_content": null,
            "align_items": null,
            "align_self": null,
            "border": null,
            "bottom": null,
            "display": null,
            "flex": null,
            "flex_flow": null,
            "grid_area": null,
            "grid_auto_columns": null,
            "grid_auto_flow": null,
            "grid_auto_rows": null,
            "grid_column": null,
            "grid_gap": null,
            "grid_row": null,
            "grid_template_areas": null,
            "grid_template_columns": null,
            "grid_template_rows": null,
            "height": null,
            "justify_content": null,
            "justify_items": null,
            "left": null,
            "margin": null,
            "max_height": null,
            "max_width": null,
            "min_height": null,
            "min_width": null,
            "object_fit": null,
            "object_position": null,
            "order": null,
            "overflow": null,
            "overflow_x": null,
            "overflow_y": null,
            "padding": null,
            "right": null,
            "top": null,
            "visibility": null,
            "width": null
          }
        },
        "bbbb6832c708468e8bf529e5488e8ca2": {
          "model_module": "@jupyter-widgets/base",
          "model_name": "LayoutModel",
          "model_module_version": "1.2.0",
          "state": {
            "_model_module": "@jupyter-widgets/base",
            "_model_module_version": "1.2.0",
            "_model_name": "LayoutModel",
            "_view_count": null,
            "_view_module": "@jupyter-widgets/base",
            "_view_module_version": "1.2.0",
            "_view_name": "LayoutView",
            "align_content": null,
            "align_items": null,
            "align_self": null,
            "border": null,
            "bottom": null,
            "display": null,
            "flex": null,
            "flex_flow": null,
            "grid_area": null,
            "grid_auto_columns": null,
            "grid_auto_flow": null,
            "grid_auto_rows": null,
            "grid_column": null,
            "grid_gap": null,
            "grid_row": null,
            "grid_template_areas": null,
            "grid_template_columns": null,
            "grid_template_rows": null,
            "height": null,
            "justify_content": null,
            "justify_items": null,
            "left": null,
            "margin": null,
            "max_height": null,
            "max_width": null,
            "min_height": null,
            "min_width": null,
            "object_fit": null,
            "object_position": null,
            "order": null,
            "overflow": null,
            "overflow_x": null,
            "overflow_y": null,
            "padding": null,
            "right": null,
            "top": null,
            "visibility": null,
            "width": null
          }
        },
        "56a36c7b8aa249fdbf0006bfab601e9a": {
          "model_module": "@jupyter-widgets/controls",
          "model_name": "DescriptionStyleModel",
          "model_module_version": "1.5.0",
          "state": {
            "_model_module": "@jupyter-widgets/controls",
            "_model_module_version": "1.5.0",
            "_model_name": "DescriptionStyleModel",
            "_view_count": null,
            "_view_module": "@jupyter-widgets/base",
            "_view_module_version": "1.2.0",
            "_view_name": "StyleView",
            "description_width": ""
          }
        },
        "49f7b4cd1c6d45ef8ec04cc6d29d341f": {
          "model_module": "@jupyter-widgets/base",
          "model_name": "LayoutModel",
          "model_module_version": "1.2.0",
          "state": {
            "_model_module": "@jupyter-widgets/base",
            "_model_module_version": "1.2.0",
            "_model_name": "LayoutModel",
            "_view_count": null,
            "_view_module": "@jupyter-widgets/base",
            "_view_module_version": "1.2.0",
            "_view_name": "LayoutView",
            "align_content": null,
            "align_items": null,
            "align_self": null,
            "border": null,
            "bottom": null,
            "display": null,
            "flex": null,
            "flex_flow": null,
            "grid_area": null,
            "grid_auto_columns": null,
            "grid_auto_flow": null,
            "grid_auto_rows": null,
            "grid_column": null,
            "grid_gap": null,
            "grid_row": null,
            "grid_template_areas": null,
            "grid_template_columns": null,
            "grid_template_rows": null,
            "height": null,
            "justify_content": null,
            "justify_items": null,
            "left": null,
            "margin": null,
            "max_height": null,
            "max_width": null,
            "min_height": null,
            "min_width": null,
            "object_fit": null,
            "object_position": null,
            "order": null,
            "overflow": null,
            "overflow_x": null,
            "overflow_y": null,
            "padding": null,
            "right": null,
            "top": null,
            "visibility": null,
            "width": null
          }
        },
        "d45d511825574f3c89816e34ad09a6d4": {
          "model_module": "@jupyter-widgets/controls",
          "model_name": "ProgressStyleModel",
          "model_module_version": "1.5.0",
          "state": {
            "_model_module": "@jupyter-widgets/controls",
            "_model_module_version": "1.5.0",
            "_model_name": "ProgressStyleModel",
            "_view_count": null,
            "_view_module": "@jupyter-widgets/base",
            "_view_module_version": "1.2.0",
            "_view_name": "StyleView",
            "bar_color": null,
            "description_width": ""
          }
        },
        "7d0ba5c29b7143be9d2d31d71aedf17a": {
          "model_module": "@jupyter-widgets/base",
          "model_name": "LayoutModel",
          "model_module_version": "1.2.0",
          "state": {
            "_model_module": "@jupyter-widgets/base",
            "_model_module_version": "1.2.0",
            "_model_name": "LayoutModel",
            "_view_count": null,
            "_view_module": "@jupyter-widgets/base",
            "_view_module_version": "1.2.0",
            "_view_name": "LayoutView",
            "align_content": null,
            "align_items": null,
            "align_self": null,
            "border": null,
            "bottom": null,
            "display": null,
            "flex": null,
            "flex_flow": null,
            "grid_area": null,
            "grid_auto_columns": null,
            "grid_auto_flow": null,
            "grid_auto_rows": null,
            "grid_column": null,
            "grid_gap": null,
            "grid_row": null,
            "grid_template_areas": null,
            "grid_template_columns": null,
            "grid_template_rows": null,
            "height": null,
            "justify_content": null,
            "justify_items": null,
            "left": null,
            "margin": null,
            "max_height": null,
            "max_width": null,
            "min_height": null,
            "min_width": null,
            "object_fit": null,
            "object_position": null,
            "order": null,
            "overflow": null,
            "overflow_x": null,
            "overflow_y": null,
            "padding": null,
            "right": null,
            "top": null,
            "visibility": null,
            "width": null
          }
        },
        "0d4a60bafe78487395a4d68e0cce6d51": {
          "model_module": "@jupyter-widgets/controls",
          "model_name": "DescriptionStyleModel",
          "model_module_version": "1.5.0",
          "state": {
            "_model_module": "@jupyter-widgets/controls",
            "_model_module_version": "1.5.0",
            "_model_name": "DescriptionStyleModel",
            "_view_count": null,
            "_view_module": "@jupyter-widgets/base",
            "_view_module_version": "1.2.0",
            "_view_name": "StyleView",
            "description_width": ""
          }
        },
        "64c24569ebda459fba541bbe47b30336": {
          "model_module": "@jupyter-widgets/controls",
          "model_name": "HBoxModel",
          "model_module_version": "1.5.0",
          "state": {
            "_dom_classes": [],
            "_model_module": "@jupyter-widgets/controls",
            "_model_module_version": "1.5.0",
            "_model_name": "HBoxModel",
            "_view_count": null,
            "_view_module": "@jupyter-widgets/controls",
            "_view_module_version": "1.5.0",
            "_view_name": "HBoxView",
            "box_style": "",
            "children": [
              "IPY_MODEL_801e68a1a2bf47809125b958fddd557d",
              "IPY_MODEL_d9f3a667ca634b14b723d1c4980ab42b",
              "IPY_MODEL_6ff870d694ff49df9968875c1e710f59"
            ],
            "layout": "IPY_MODEL_e36939ccf8eb40cea0268907b13803fd"
          }
        },
        "801e68a1a2bf47809125b958fddd557d": {
          "model_module": "@jupyter-widgets/controls",
          "model_name": "HTMLModel",
          "model_module_version": "1.5.0",
          "state": {
            "_dom_classes": [],
            "_model_module": "@jupyter-widgets/controls",
            "_model_module_version": "1.5.0",
            "_model_name": "HTMLModel",
            "_view_count": null,
            "_view_module": "@jupyter-widgets/controls",
            "_view_module_version": "1.5.0",
            "_view_name": "HTMLView",
            "description": "",
            "description_tooltip": null,
            "layout": "IPY_MODEL_12cc0ab8e1ba4d29b4b8763ac0f445b6",
            "placeholder": "​",
            "style": "IPY_MODEL_15b06d9992b14e66878b943a35219c8c",
            "value": "tokenizer.json: 100%"
          }
        },
        "d9f3a667ca634b14b723d1c4980ab42b": {
          "model_module": "@jupyter-widgets/controls",
          "model_name": "FloatProgressModel",
          "model_module_version": "1.5.0",
          "state": {
            "_dom_classes": [],
            "_model_module": "@jupyter-widgets/controls",
            "_model_module_version": "1.5.0",
            "_model_name": "FloatProgressModel",
            "_view_count": null,
            "_view_module": "@jupyter-widgets/controls",
            "_view_module_version": "1.5.0",
            "_view_name": "ProgressView",
            "bar_style": "success",
            "description": "",
            "description_tooltip": null,
            "layout": "IPY_MODEL_b8805eb69fde42d29d3f76fc5e39048a",
            "max": 2114297,
            "min": 0,
            "orientation": "horizontal",
            "style": "IPY_MODEL_d1d5d0462a4443b29b4a6351ef7517c2",
            "value": 2114297
          }
        },
        "6ff870d694ff49df9968875c1e710f59": {
          "model_module": "@jupyter-widgets/controls",
          "model_name": "HTMLModel",
          "model_module_version": "1.5.0",
          "state": {
            "_dom_classes": [],
            "_model_module": "@jupyter-widgets/controls",
            "_model_module_version": "1.5.0",
            "_model_name": "HTMLModel",
            "_view_count": null,
            "_view_module": "@jupyter-widgets/controls",
            "_view_module_version": "1.5.0",
            "_view_name": "HTMLView",
            "description": "",
            "description_tooltip": null,
            "layout": "IPY_MODEL_ccc0bc2d459d449a9beea44e77f2492b",
            "placeholder": "​",
            "style": "IPY_MODEL_69fcb610090241b0af310adc1831f229",
            "value": " 2.11M/2.11M [00:00&lt;00:00, 8.44MB/s]"
          }
        },
        "e36939ccf8eb40cea0268907b13803fd": {
          "model_module": "@jupyter-widgets/base",
          "model_name": "LayoutModel",
          "model_module_version": "1.2.0",
          "state": {
            "_model_module": "@jupyter-widgets/base",
            "_model_module_version": "1.2.0",
            "_model_name": "LayoutModel",
            "_view_count": null,
            "_view_module": "@jupyter-widgets/base",
            "_view_module_version": "1.2.0",
            "_view_name": "LayoutView",
            "align_content": null,
            "align_items": null,
            "align_self": null,
            "border": null,
            "bottom": null,
            "display": null,
            "flex": null,
            "flex_flow": null,
            "grid_area": null,
            "grid_auto_columns": null,
            "grid_auto_flow": null,
            "grid_auto_rows": null,
            "grid_column": null,
            "grid_gap": null,
            "grid_row": null,
            "grid_template_areas": null,
            "grid_template_columns": null,
            "grid_template_rows": null,
            "height": null,
            "justify_content": null,
            "justify_items": null,
            "left": null,
            "margin": null,
            "max_height": null,
            "max_width": null,
            "min_height": null,
            "min_width": null,
            "object_fit": null,
            "object_position": null,
            "order": null,
            "overflow": null,
            "overflow_x": null,
            "overflow_y": null,
            "padding": null,
            "right": null,
            "top": null,
            "visibility": null,
            "width": null
          }
        },
        "12cc0ab8e1ba4d29b4b8763ac0f445b6": {
          "model_module": "@jupyter-widgets/base",
          "model_name": "LayoutModel",
          "model_module_version": "1.2.0",
          "state": {
            "_model_module": "@jupyter-widgets/base",
            "_model_module_version": "1.2.0",
            "_model_name": "LayoutModel",
            "_view_count": null,
            "_view_module": "@jupyter-widgets/base",
            "_view_module_version": "1.2.0",
            "_view_name": "LayoutView",
            "align_content": null,
            "align_items": null,
            "align_self": null,
            "border": null,
            "bottom": null,
            "display": null,
            "flex": null,
            "flex_flow": null,
            "grid_area": null,
            "grid_auto_columns": null,
            "grid_auto_flow": null,
            "grid_auto_rows": null,
            "grid_column": null,
            "grid_gap": null,
            "grid_row": null,
            "grid_template_areas": null,
            "grid_template_columns": null,
            "grid_template_rows": null,
            "height": null,
            "justify_content": null,
            "justify_items": null,
            "left": null,
            "margin": null,
            "max_height": null,
            "max_width": null,
            "min_height": null,
            "min_width": null,
            "object_fit": null,
            "object_position": null,
            "order": null,
            "overflow": null,
            "overflow_x": null,
            "overflow_y": null,
            "padding": null,
            "right": null,
            "top": null,
            "visibility": null,
            "width": null
          }
        },
        "15b06d9992b14e66878b943a35219c8c": {
          "model_module": "@jupyter-widgets/controls",
          "model_name": "DescriptionStyleModel",
          "model_module_version": "1.5.0",
          "state": {
            "_model_module": "@jupyter-widgets/controls",
            "_model_module_version": "1.5.0",
            "_model_name": "DescriptionStyleModel",
            "_view_count": null,
            "_view_module": "@jupyter-widgets/base",
            "_view_module_version": "1.2.0",
            "_view_name": "StyleView",
            "description_width": ""
          }
        },
        "b8805eb69fde42d29d3f76fc5e39048a": {
          "model_module": "@jupyter-widgets/base",
          "model_name": "LayoutModel",
          "model_module_version": "1.2.0",
          "state": {
            "_model_module": "@jupyter-widgets/base",
            "_model_module_version": "1.2.0",
            "_model_name": "LayoutModel",
            "_view_count": null,
            "_view_module": "@jupyter-widgets/base",
            "_view_module_version": "1.2.0",
            "_view_name": "LayoutView",
            "align_content": null,
            "align_items": null,
            "align_self": null,
            "border": null,
            "bottom": null,
            "display": null,
            "flex": null,
            "flex_flow": null,
            "grid_area": null,
            "grid_auto_columns": null,
            "grid_auto_flow": null,
            "grid_auto_rows": null,
            "grid_column": null,
            "grid_gap": null,
            "grid_row": null,
            "grid_template_areas": null,
            "grid_template_columns": null,
            "grid_template_rows": null,
            "height": null,
            "justify_content": null,
            "justify_items": null,
            "left": null,
            "margin": null,
            "max_height": null,
            "max_width": null,
            "min_height": null,
            "min_width": null,
            "object_fit": null,
            "object_position": null,
            "order": null,
            "overflow": null,
            "overflow_x": null,
            "overflow_y": null,
            "padding": null,
            "right": null,
            "top": null,
            "visibility": null,
            "width": null
          }
        },
        "d1d5d0462a4443b29b4a6351ef7517c2": {
          "model_module": "@jupyter-widgets/controls",
          "model_name": "ProgressStyleModel",
          "model_module_version": "1.5.0",
          "state": {
            "_model_module": "@jupyter-widgets/controls",
            "_model_module_version": "1.5.0",
            "_model_name": "ProgressStyleModel",
            "_view_count": null,
            "_view_module": "@jupyter-widgets/base",
            "_view_module_version": "1.2.0",
            "_view_name": "StyleView",
            "bar_color": null,
            "description_width": ""
          }
        },
        "ccc0bc2d459d449a9beea44e77f2492b": {
          "model_module": "@jupyter-widgets/base",
          "model_name": "LayoutModel",
          "model_module_version": "1.2.0",
          "state": {
            "_model_module": "@jupyter-widgets/base",
            "_model_module_version": "1.2.0",
            "_model_name": "LayoutModel",
            "_view_count": null,
            "_view_module": "@jupyter-widgets/base",
            "_view_module_version": "1.2.0",
            "_view_name": "LayoutView",
            "align_content": null,
            "align_items": null,
            "align_self": null,
            "border": null,
            "bottom": null,
            "display": null,
            "flex": null,
            "flex_flow": null,
            "grid_area": null,
            "grid_auto_columns": null,
            "grid_auto_flow": null,
            "grid_auto_rows": null,
            "grid_column": null,
            "grid_gap": null,
            "grid_row": null,
            "grid_template_areas": null,
            "grid_template_columns": null,
            "grid_template_rows": null,
            "height": null,
            "justify_content": null,
            "justify_items": null,
            "left": null,
            "margin": null,
            "max_height": null,
            "max_width": null,
            "min_height": null,
            "min_width": null,
            "object_fit": null,
            "object_position": null,
            "order": null,
            "overflow": null,
            "overflow_x": null,
            "overflow_y": null,
            "padding": null,
            "right": null,
            "top": null,
            "visibility": null,
            "width": null
          }
        },
        "69fcb610090241b0af310adc1831f229": {
          "model_module": "@jupyter-widgets/controls",
          "model_name": "DescriptionStyleModel",
          "model_module_version": "1.5.0",
          "state": {
            "_model_module": "@jupyter-widgets/controls",
            "_model_module_version": "1.5.0",
            "_model_name": "DescriptionStyleModel",
            "_view_count": null,
            "_view_module": "@jupyter-widgets/base",
            "_view_module_version": "1.2.0",
            "_view_name": "StyleView",
            "description_width": ""
          }
        },
        "e6762e748bd34b86a2685133a557bdc4": {
          "model_module": "@jupyter-widgets/controls",
          "model_name": "HBoxModel",
          "model_module_version": "1.5.0",
          "state": {
            "_dom_classes": [],
            "_model_module": "@jupyter-widgets/controls",
            "_model_module_version": "1.5.0",
            "_model_name": "HBoxModel",
            "_view_count": null,
            "_view_module": "@jupyter-widgets/controls",
            "_view_module_version": "1.5.0",
            "_view_name": "HBoxView",
            "box_style": "",
            "children": [
              "IPY_MODEL_639456768b184fb2828f2f9d94999c0b",
              "IPY_MODEL_9ddd30d4b5904a8984c9047423fa77fe",
              "IPY_MODEL_dc21154adb9c4ad5ad06a2f108f71edf"
            ],
            "layout": "IPY_MODEL_f779eccb280743dfacf4074a774dc0fe"
          }
        },
        "639456768b184fb2828f2f9d94999c0b": {
          "model_module": "@jupyter-widgets/controls",
          "model_name": "HTMLModel",
          "model_module_version": "1.5.0",
          "state": {
            "_dom_classes": [],
            "_model_module": "@jupyter-widgets/controls",
            "_model_module_version": "1.5.0",
            "_model_name": "HTMLModel",
            "_view_count": null,
            "_view_module": "@jupyter-widgets/controls",
            "_view_module_version": "1.5.0",
            "_view_name": "HTMLView",
            "description": "",
            "description_tooltip": null,
            "layout": "IPY_MODEL_4df026aa752e44b4a07088dbe5da4e0b",
            "placeholder": "​",
            "style": "IPY_MODEL_61c975c1629946c4ab0e4a358b48520d",
            "value": "special_tokens_map.json: 100%"
          }
        },
        "9ddd30d4b5904a8984c9047423fa77fe": {
          "model_module": "@jupyter-widgets/controls",
          "model_name": "FloatProgressModel",
          "model_module_version": "1.5.0",
          "state": {
            "_dom_classes": [],
            "_model_module": "@jupyter-widgets/controls",
            "_model_module_version": "1.5.0",
            "_model_name": "FloatProgressModel",
            "_view_count": null,
            "_view_module": "@jupyter-widgets/controls",
            "_view_module_version": "1.5.0",
            "_view_name": "ProgressView",
            "bar_style": "success",
            "description": "",
            "description_tooltip": null,
            "layout": "IPY_MODEL_76c29848c77148c2bd99754aaac3a172",
            "max": 99,
            "min": 0,
            "orientation": "horizontal",
            "style": "IPY_MODEL_50ff654052f9491b997bcd443da68a2d",
            "value": 99
          }
        },
        "dc21154adb9c4ad5ad06a2f108f71edf": {
          "model_module": "@jupyter-widgets/controls",
          "model_name": "HTMLModel",
          "model_module_version": "1.5.0",
          "state": {
            "_dom_classes": [],
            "_model_module": "@jupyter-widgets/controls",
            "_model_module_version": "1.5.0",
            "_model_name": "HTMLModel",
            "_view_count": null,
            "_view_module": "@jupyter-widgets/controls",
            "_view_module_version": "1.5.0",
            "_view_name": "HTMLView",
            "description": "",
            "description_tooltip": null,
            "layout": "IPY_MODEL_8cb110c7d5154cdd998b12d16225183a",
            "placeholder": "​",
            "style": "IPY_MODEL_5f6f8b45e08343eb98a95b413f6b72ae",
            "value": " 99.0/99.0 [00:00&lt;00:00, 2.94kB/s]"
          }
        },
        "f779eccb280743dfacf4074a774dc0fe": {
          "model_module": "@jupyter-widgets/base",
          "model_name": "LayoutModel",
          "model_module_version": "1.2.0",
          "state": {
            "_model_module": "@jupyter-widgets/base",
            "_model_module_version": "1.2.0",
            "_model_name": "LayoutModel",
            "_view_count": null,
            "_view_module": "@jupyter-widgets/base",
            "_view_module_version": "1.2.0",
            "_view_name": "LayoutView",
            "align_content": null,
            "align_items": null,
            "align_self": null,
            "border": null,
            "bottom": null,
            "display": null,
            "flex": null,
            "flex_flow": null,
            "grid_area": null,
            "grid_auto_columns": null,
            "grid_auto_flow": null,
            "grid_auto_rows": null,
            "grid_column": null,
            "grid_gap": null,
            "grid_row": null,
            "grid_template_areas": null,
            "grid_template_columns": null,
            "grid_template_rows": null,
            "height": null,
            "justify_content": null,
            "justify_items": null,
            "left": null,
            "margin": null,
            "max_height": null,
            "max_width": null,
            "min_height": null,
            "min_width": null,
            "object_fit": null,
            "object_position": null,
            "order": null,
            "overflow": null,
            "overflow_x": null,
            "overflow_y": null,
            "padding": null,
            "right": null,
            "top": null,
            "visibility": null,
            "width": null
          }
        },
        "4df026aa752e44b4a07088dbe5da4e0b": {
          "model_module": "@jupyter-widgets/base",
          "model_name": "LayoutModel",
          "model_module_version": "1.2.0",
          "state": {
            "_model_module": "@jupyter-widgets/base",
            "_model_module_version": "1.2.0",
            "_model_name": "LayoutModel",
            "_view_count": null,
            "_view_module": "@jupyter-widgets/base",
            "_view_module_version": "1.2.0",
            "_view_name": "LayoutView",
            "align_content": null,
            "align_items": null,
            "align_self": null,
            "border": null,
            "bottom": null,
            "display": null,
            "flex": null,
            "flex_flow": null,
            "grid_area": null,
            "grid_auto_columns": null,
            "grid_auto_flow": null,
            "grid_auto_rows": null,
            "grid_column": null,
            "grid_gap": null,
            "grid_row": null,
            "grid_template_areas": null,
            "grid_template_columns": null,
            "grid_template_rows": null,
            "height": null,
            "justify_content": null,
            "justify_items": null,
            "left": null,
            "margin": null,
            "max_height": null,
            "max_width": null,
            "min_height": null,
            "min_width": null,
            "object_fit": null,
            "object_position": null,
            "order": null,
            "overflow": null,
            "overflow_x": null,
            "overflow_y": null,
            "padding": null,
            "right": null,
            "top": null,
            "visibility": null,
            "width": null
          }
        },
        "61c975c1629946c4ab0e4a358b48520d": {
          "model_module": "@jupyter-widgets/controls",
          "model_name": "DescriptionStyleModel",
          "model_module_version": "1.5.0",
          "state": {
            "_model_module": "@jupyter-widgets/controls",
            "_model_module_version": "1.5.0",
            "_model_name": "DescriptionStyleModel",
            "_view_count": null,
            "_view_module": "@jupyter-widgets/base",
            "_view_module_version": "1.2.0",
            "_view_name": "StyleView",
            "description_width": ""
          }
        },
        "76c29848c77148c2bd99754aaac3a172": {
          "model_module": "@jupyter-widgets/base",
          "model_name": "LayoutModel",
          "model_module_version": "1.2.0",
          "state": {
            "_model_module": "@jupyter-widgets/base",
            "_model_module_version": "1.2.0",
            "_model_name": "LayoutModel",
            "_view_count": null,
            "_view_module": "@jupyter-widgets/base",
            "_view_module_version": "1.2.0",
            "_view_name": "LayoutView",
            "align_content": null,
            "align_items": null,
            "align_self": null,
            "border": null,
            "bottom": null,
            "display": null,
            "flex": null,
            "flex_flow": null,
            "grid_area": null,
            "grid_auto_columns": null,
            "grid_auto_flow": null,
            "grid_auto_rows": null,
            "grid_column": null,
            "grid_gap": null,
            "grid_row": null,
            "grid_template_areas": null,
            "grid_template_columns": null,
            "grid_template_rows": null,
            "height": null,
            "justify_content": null,
            "justify_items": null,
            "left": null,
            "margin": null,
            "max_height": null,
            "max_width": null,
            "min_height": null,
            "min_width": null,
            "object_fit": null,
            "object_position": null,
            "order": null,
            "overflow": null,
            "overflow_x": null,
            "overflow_y": null,
            "padding": null,
            "right": null,
            "top": null,
            "visibility": null,
            "width": null
          }
        },
        "50ff654052f9491b997bcd443da68a2d": {
          "model_module": "@jupyter-widgets/controls",
          "model_name": "ProgressStyleModel",
          "model_module_version": "1.5.0",
          "state": {
            "_model_module": "@jupyter-widgets/controls",
            "_model_module_version": "1.5.0",
            "_model_name": "ProgressStyleModel",
            "_view_count": null,
            "_view_module": "@jupyter-widgets/base",
            "_view_module_version": "1.2.0",
            "_view_name": "StyleView",
            "bar_color": null,
            "description_width": ""
          }
        },
        "8cb110c7d5154cdd998b12d16225183a": {
          "model_module": "@jupyter-widgets/base",
          "model_name": "LayoutModel",
          "model_module_version": "1.2.0",
          "state": {
            "_model_module": "@jupyter-widgets/base",
            "_model_module_version": "1.2.0",
            "_model_name": "LayoutModel",
            "_view_count": null,
            "_view_module": "@jupyter-widgets/base",
            "_view_module_version": "1.2.0",
            "_view_name": "LayoutView",
            "align_content": null,
            "align_items": null,
            "align_self": null,
            "border": null,
            "bottom": null,
            "display": null,
            "flex": null,
            "flex_flow": null,
            "grid_area": null,
            "grid_auto_columns": null,
            "grid_auto_flow": null,
            "grid_auto_rows": null,
            "grid_column": null,
            "grid_gap": null,
            "grid_row": null,
            "grid_template_areas": null,
            "grid_template_columns": null,
            "grid_template_rows": null,
            "height": null,
            "justify_content": null,
            "justify_items": null,
            "left": null,
            "margin": null,
            "max_height": null,
            "max_width": null,
            "min_height": null,
            "min_width": null,
            "object_fit": null,
            "object_position": null,
            "order": null,
            "overflow": null,
            "overflow_x": null,
            "overflow_y": null,
            "padding": null,
            "right": null,
            "top": null,
            "visibility": null,
            "width": null
          }
        },
        "5f6f8b45e08343eb98a95b413f6b72ae": {
          "model_module": "@jupyter-widgets/controls",
          "model_name": "DescriptionStyleModel",
          "model_module_version": "1.5.0",
          "state": {
            "_model_module": "@jupyter-widgets/controls",
            "_model_module_version": "1.5.0",
            "_model_name": "DescriptionStyleModel",
            "_view_count": null,
            "_view_module": "@jupyter-widgets/base",
            "_view_module_version": "1.2.0",
            "_view_name": "StyleView",
            "description_width": ""
          }
        }
      }
    }
  },
  "cells": [
    {
      "cell_type": "code",
      "execution_count": 64,
      "metadata": {
        "colab": {
          "base_uri": "https://localhost:8080/"
        },
        "id": "mCkF8BIMBX7V",
        "outputId": "99f9c338-a0af-43cb-9f6c-7f5b4b67e93e"
      },
      "outputs": [
        {
          "output_type": "stream",
          "name": "stdout",
          "text": [
            "\u001b[31mERROR: Could not find a version that satisfies the requirement transfomers (from versions: none)\u001b[0m\u001b[31m\n",
            "\u001b[0m\u001b[31mERROR: No matching distribution found for transfomers\u001b[0m\u001b[31m\n",
            "\u001b[0mRequirement already satisfied: langchain-google-genai in /usr/local/lib/python3.11/dist-packages (2.1.5)\n",
            "Requirement already satisfied: filetype<2.0.0,>=1.2.0 in /usr/local/lib/python3.11/dist-packages (from langchain-google-genai) (1.2.0)\n",
            "Requirement already satisfied: google-ai-generativelanguage<0.7.0,>=0.6.18 in /usr/local/lib/python3.11/dist-packages (from langchain-google-genai) (0.6.18)\n",
            "Requirement already satisfied: langchain-core<0.4.0,>=0.3.62 in /usr/local/lib/python3.11/dist-packages (from langchain-google-genai) (0.3.65)\n",
            "Requirement already satisfied: pydantic<3,>=2 in /usr/local/lib/python3.11/dist-packages (from langchain-google-genai) (2.11.5)\n",
            "Requirement already satisfied: google-api-core!=2.0.*,!=2.1.*,!=2.10.*,!=2.2.*,!=2.3.*,!=2.4.*,!=2.5.*,!=2.6.*,!=2.7.*,!=2.8.*,!=2.9.*,<3.0.0,>=1.34.1 in /usr/local/lib/python3.11/dist-packages (from google-api-core[grpc]!=2.0.*,!=2.1.*,!=2.10.*,!=2.2.*,!=2.3.*,!=2.4.*,!=2.5.*,!=2.6.*,!=2.7.*,!=2.8.*,!=2.9.*,<3.0.0,>=1.34.1->google-ai-generativelanguage<0.7.0,>=0.6.18->langchain-google-genai) (2.25.0)\n",
            "Requirement already satisfied: google-auth!=2.24.0,!=2.25.0,<3.0.0,>=2.14.1 in /usr/local/lib/python3.11/dist-packages (from google-ai-generativelanguage<0.7.0,>=0.6.18->langchain-google-genai) (2.38.0)\n",
            "Requirement already satisfied: proto-plus<2.0.0,>=1.22.3 in /usr/local/lib/python3.11/dist-packages (from google-ai-generativelanguage<0.7.0,>=0.6.18->langchain-google-genai) (1.26.1)\n",
            "Requirement already satisfied: protobuf!=4.21.0,!=4.21.1,!=4.21.2,!=4.21.3,!=4.21.4,!=4.21.5,<7.0.0,>=3.20.2 in /usr/local/lib/python3.11/dist-packages (from google-ai-generativelanguage<0.7.0,>=0.6.18->langchain-google-genai) (5.29.5)\n",
            "Requirement already satisfied: langsmith<0.4,>=0.3.45 in /usr/local/lib/python3.11/dist-packages (from langchain-core<0.4.0,>=0.3.62->langchain-google-genai) (0.3.45)\n",
            "Requirement already satisfied: tenacity!=8.4.0,<10.0.0,>=8.1.0 in /usr/local/lib/python3.11/dist-packages (from langchain-core<0.4.0,>=0.3.62->langchain-google-genai) (9.1.2)\n",
            "Requirement already satisfied: jsonpatch<2.0,>=1.33 in /usr/local/lib/python3.11/dist-packages (from langchain-core<0.4.0,>=0.3.62->langchain-google-genai) (1.33)\n",
            "Requirement already satisfied: PyYAML>=5.3 in /usr/local/lib/python3.11/dist-packages (from langchain-core<0.4.0,>=0.3.62->langchain-google-genai) (6.0.2)\n",
            "Requirement already satisfied: packaging<25,>=23.2 in /usr/local/lib/python3.11/dist-packages (from langchain-core<0.4.0,>=0.3.62->langchain-google-genai) (24.2)\n",
            "Requirement already satisfied: typing-extensions>=4.7 in /usr/local/lib/python3.11/dist-packages (from langchain-core<0.4.0,>=0.3.62->langchain-google-genai) (4.14.0)\n",
            "Requirement already satisfied: annotated-types>=0.6.0 in /usr/local/lib/python3.11/dist-packages (from pydantic<3,>=2->langchain-google-genai) (0.7.0)\n",
            "Requirement already satisfied: pydantic-core==2.33.2 in /usr/local/lib/python3.11/dist-packages (from pydantic<3,>=2->langchain-google-genai) (2.33.2)\n",
            "Requirement already satisfied: typing-inspection>=0.4.0 in /usr/local/lib/python3.11/dist-packages (from pydantic<3,>=2->langchain-google-genai) (0.4.1)\n",
            "Requirement already satisfied: googleapis-common-protos<2.0.0,>=1.56.2 in /usr/local/lib/python3.11/dist-packages (from google-api-core!=2.0.*,!=2.1.*,!=2.10.*,!=2.2.*,!=2.3.*,!=2.4.*,!=2.5.*,!=2.6.*,!=2.7.*,!=2.8.*,!=2.9.*,<3.0.0,>=1.34.1->google-api-core[grpc]!=2.0.*,!=2.1.*,!=2.10.*,!=2.2.*,!=2.3.*,!=2.4.*,!=2.5.*,!=2.6.*,!=2.7.*,!=2.8.*,!=2.9.*,<3.0.0,>=1.34.1->google-ai-generativelanguage<0.7.0,>=0.6.18->langchain-google-genai) (1.70.0)\n",
            "Requirement already satisfied: requests<3.0.0,>=2.18.0 in /usr/local/lib/python3.11/dist-packages (from google-api-core!=2.0.*,!=2.1.*,!=2.10.*,!=2.2.*,!=2.3.*,!=2.4.*,!=2.5.*,!=2.6.*,!=2.7.*,!=2.8.*,!=2.9.*,<3.0.0,>=1.34.1->google-api-core[grpc]!=2.0.*,!=2.1.*,!=2.10.*,!=2.2.*,!=2.3.*,!=2.4.*,!=2.5.*,!=2.6.*,!=2.7.*,!=2.8.*,!=2.9.*,<3.0.0,>=1.34.1->google-ai-generativelanguage<0.7.0,>=0.6.18->langchain-google-genai) (2.32.3)\n",
            "Requirement already satisfied: grpcio<2.0.0,>=1.33.2 in /usr/local/lib/python3.11/dist-packages (from google-api-core[grpc]!=2.0.*,!=2.1.*,!=2.10.*,!=2.2.*,!=2.3.*,!=2.4.*,!=2.5.*,!=2.6.*,!=2.7.*,!=2.8.*,!=2.9.*,<3.0.0,>=1.34.1->google-ai-generativelanguage<0.7.0,>=0.6.18->langchain-google-genai) (1.72.1)\n",
            "Requirement already satisfied: grpcio-status<2.0.0,>=1.33.2 in /usr/local/lib/python3.11/dist-packages (from google-api-core[grpc]!=2.0.*,!=2.1.*,!=2.10.*,!=2.2.*,!=2.3.*,!=2.4.*,!=2.5.*,!=2.6.*,!=2.7.*,!=2.8.*,!=2.9.*,<3.0.0,>=1.34.1->google-ai-generativelanguage<0.7.0,>=0.6.18->langchain-google-genai) (1.71.0)\n",
            "Requirement already satisfied: cachetools<6.0,>=2.0.0 in /usr/local/lib/python3.11/dist-packages (from google-auth!=2.24.0,!=2.25.0,<3.0.0,>=2.14.1->google-ai-generativelanguage<0.7.0,>=0.6.18->langchain-google-genai) (5.5.2)\n",
            "Requirement already satisfied: pyasn1-modules>=0.2.1 in /usr/local/lib/python3.11/dist-packages (from google-auth!=2.24.0,!=2.25.0,<3.0.0,>=2.14.1->google-ai-generativelanguage<0.7.0,>=0.6.18->langchain-google-genai) (0.4.2)\n",
            "Requirement already satisfied: rsa<5,>=3.1.4 in /usr/local/lib/python3.11/dist-packages (from google-auth!=2.24.0,!=2.25.0,<3.0.0,>=2.14.1->google-ai-generativelanguage<0.7.0,>=0.6.18->langchain-google-genai) (4.9.1)\n",
            "Requirement already satisfied: jsonpointer>=1.9 in /usr/local/lib/python3.11/dist-packages (from jsonpatch<2.0,>=1.33->langchain-core<0.4.0,>=0.3.62->langchain-google-genai) (3.0.0)\n",
            "Requirement already satisfied: httpx<1,>=0.23.0 in /usr/local/lib/python3.11/dist-packages (from langsmith<0.4,>=0.3.45->langchain-core<0.4.0,>=0.3.62->langchain-google-genai) (0.28.1)\n",
            "Requirement already satisfied: orjson<4.0.0,>=3.9.14 in /usr/local/lib/python3.11/dist-packages (from langsmith<0.4,>=0.3.45->langchain-core<0.4.0,>=0.3.62->langchain-google-genai) (3.10.18)\n",
            "Requirement already satisfied: requests-toolbelt<2.0.0,>=1.0.0 in /usr/local/lib/python3.11/dist-packages (from langsmith<0.4,>=0.3.45->langchain-core<0.4.0,>=0.3.62->langchain-google-genai) (1.0.0)\n",
            "Requirement already satisfied: zstandard<0.24.0,>=0.23.0 in /usr/local/lib/python3.11/dist-packages (from langsmith<0.4,>=0.3.45->langchain-core<0.4.0,>=0.3.62->langchain-google-genai) (0.23.0)\n",
            "Requirement already satisfied: anyio in /usr/local/lib/python3.11/dist-packages (from httpx<1,>=0.23.0->langsmith<0.4,>=0.3.45->langchain-core<0.4.0,>=0.3.62->langchain-google-genai) (4.9.0)\n",
            "Requirement already satisfied: certifi in /usr/local/lib/python3.11/dist-packages (from httpx<1,>=0.23.0->langsmith<0.4,>=0.3.45->langchain-core<0.4.0,>=0.3.62->langchain-google-genai) (2025.4.26)\n",
            "Requirement already satisfied: httpcore==1.* in /usr/local/lib/python3.11/dist-packages (from httpx<1,>=0.23.0->langsmith<0.4,>=0.3.45->langchain-core<0.4.0,>=0.3.62->langchain-google-genai) (1.0.9)\n",
            "Requirement already satisfied: idna in /usr/local/lib/python3.11/dist-packages (from httpx<1,>=0.23.0->langsmith<0.4,>=0.3.45->langchain-core<0.4.0,>=0.3.62->langchain-google-genai) (3.10)\n",
            "Requirement already satisfied: h11>=0.16 in /usr/local/lib/python3.11/dist-packages (from httpcore==1.*->httpx<1,>=0.23.0->langsmith<0.4,>=0.3.45->langchain-core<0.4.0,>=0.3.62->langchain-google-genai) (0.16.0)\n",
            "Requirement already satisfied: pyasn1<0.7.0,>=0.6.1 in /usr/local/lib/python3.11/dist-packages (from pyasn1-modules>=0.2.1->google-auth!=2.24.0,!=2.25.0,<3.0.0,>=2.14.1->google-ai-generativelanguage<0.7.0,>=0.6.18->langchain-google-genai) (0.6.1)\n",
            "Requirement already satisfied: charset-normalizer<4,>=2 in /usr/local/lib/python3.11/dist-packages (from requests<3.0.0,>=2.18.0->google-api-core!=2.0.*,!=2.1.*,!=2.10.*,!=2.2.*,!=2.3.*,!=2.4.*,!=2.5.*,!=2.6.*,!=2.7.*,!=2.8.*,!=2.9.*,<3.0.0,>=1.34.1->google-api-core[grpc]!=2.0.*,!=2.1.*,!=2.10.*,!=2.2.*,!=2.3.*,!=2.4.*,!=2.5.*,!=2.6.*,!=2.7.*,!=2.8.*,!=2.9.*,<3.0.0,>=1.34.1->google-ai-generativelanguage<0.7.0,>=0.6.18->langchain-google-genai) (3.4.2)\n",
            "Requirement already satisfied: urllib3<3,>=1.21.1 in /usr/local/lib/python3.11/dist-packages (from requests<3.0.0,>=2.18.0->google-api-core!=2.0.*,!=2.1.*,!=2.10.*,!=2.2.*,!=2.3.*,!=2.4.*,!=2.5.*,!=2.6.*,!=2.7.*,!=2.8.*,!=2.9.*,<3.0.0,>=1.34.1->google-api-core[grpc]!=2.0.*,!=2.1.*,!=2.10.*,!=2.2.*,!=2.3.*,!=2.4.*,!=2.5.*,!=2.6.*,!=2.7.*,!=2.8.*,!=2.9.*,<3.0.0,>=1.34.1->google-ai-generativelanguage<0.7.0,>=0.6.18->langchain-google-genai) (2.4.0)\n",
            "Requirement already satisfied: sniffio>=1.1 in /usr/local/lib/python3.11/dist-packages (from anyio->httpx<1,>=0.23.0->langsmith<0.4,>=0.3.45->langchain-core<0.4.0,>=0.3.62->langchain-google-genai) (1.3.1)\n",
            "Requirement already satisfied: google-colab in /usr/local/lib/python3.11/dist-packages (1.0.0)\n",
            "Requirement already satisfied: google-auth==2.38.0 in /usr/local/lib/python3.11/dist-packages (from google-colab) (2.38.0)\n",
            "Requirement already satisfied: ipykernel==6.17.1 in /usr/local/lib/python3.11/dist-packages (from google-colab) (6.17.1)\n",
            "Requirement already satisfied: ipyparallel==8.8.0 in /usr/local/lib/python3.11/dist-packages (from google-colab) (8.8.0)\n",
            "Requirement already satisfied: ipython==7.34.0 in /usr/local/lib/python3.11/dist-packages (from google-colab) (7.34.0)\n",
            "Requirement already satisfied: notebook==6.5.7 in /usr/local/lib/python3.11/dist-packages (from google-colab) (6.5.7)\n",
            "Requirement already satisfied: pandas==2.2.2 in /usr/local/lib/python3.11/dist-packages (from google-colab) (2.2.2)\n",
            "Requirement already satisfied: portpicker==1.5.2 in /usr/local/lib/python3.11/dist-packages (from google-colab) (1.5.2)\n",
            "Requirement already satisfied: requests==2.32.3 in /usr/local/lib/python3.11/dist-packages (from google-colab) (2.32.3)\n",
            "Requirement already satisfied: tornado==6.4.2 in /usr/local/lib/python3.11/dist-packages (from google-colab) (6.4.2)\n",
            "Requirement already satisfied: cachetools<6.0,>=2.0.0 in /usr/local/lib/python3.11/dist-packages (from google-auth==2.38.0->google-colab) (5.5.2)\n",
            "Requirement already satisfied: pyasn1-modules>=0.2.1 in /usr/local/lib/python3.11/dist-packages (from google-auth==2.38.0->google-colab) (0.4.2)\n",
            "Requirement already satisfied: rsa<5,>=3.1.4 in /usr/local/lib/python3.11/dist-packages (from google-auth==2.38.0->google-colab) (4.9.1)\n",
            "Requirement already satisfied: debugpy>=1.0 in /usr/local/lib/python3.11/dist-packages (from ipykernel==6.17.1->google-colab) (1.8.0)\n",
            "Requirement already satisfied: jupyter-client>=6.1.12 in /usr/local/lib/python3.11/dist-packages (from ipykernel==6.17.1->google-colab) (6.1.12)\n",
            "Requirement already satisfied: matplotlib-inline>=0.1 in /usr/local/lib/python3.11/dist-packages (from ipykernel==6.17.1->google-colab) (0.1.7)\n",
            "Requirement already satisfied: nest-asyncio in /usr/local/lib/python3.11/dist-packages (from ipykernel==6.17.1->google-colab) (1.6.0)\n",
            "Requirement already satisfied: packaging in /usr/local/lib/python3.11/dist-packages (from ipykernel==6.17.1->google-colab) (24.2)\n",
            "Requirement already satisfied: psutil in /usr/local/lib/python3.11/dist-packages (from ipykernel==6.17.1->google-colab) (5.9.5)\n",
            "Requirement already satisfied: pyzmq>=17 in /usr/local/lib/python3.11/dist-packages (from ipykernel==6.17.1->google-colab) (24.0.1)\n",
            "Requirement already satisfied: traitlets>=5.1.0 in /usr/local/lib/python3.11/dist-packages (from ipykernel==6.17.1->google-colab) (5.7.1)\n",
            "Requirement already satisfied: decorator in /usr/local/lib/python3.11/dist-packages (from ipyparallel==8.8.0->google-colab) (4.4.2)\n",
            "Requirement already satisfied: entrypoints in /usr/local/lib/python3.11/dist-packages (from ipyparallel==8.8.0->google-colab) (0.4)\n",
            "Requirement already satisfied: python-dateutil>=2.1 in /usr/local/lib/python3.11/dist-packages (from ipyparallel==8.8.0->google-colab) (2.9.0.post0)\n",
            "Requirement already satisfied: tqdm in /usr/local/lib/python3.11/dist-packages (from ipyparallel==8.8.0->google-colab) (4.67.1)\n",
            "Requirement already satisfied: setuptools>=18.5 in /usr/local/lib/python3.11/dist-packages (from ipython==7.34.0->google-colab) (75.2.0)\n",
            "Requirement already satisfied: jedi>=0.16 in /usr/local/lib/python3.11/dist-packages (from ipython==7.34.0->google-colab) (0.19.2)\n",
            "Requirement already satisfied: pickleshare in /usr/local/lib/python3.11/dist-packages (from ipython==7.34.0->google-colab) (0.7.5)\n",
            "Requirement already satisfied: prompt-toolkit!=3.0.0,!=3.0.1,<3.1.0,>=2.0.0 in /usr/local/lib/python3.11/dist-packages (from ipython==7.34.0->google-colab) (3.0.51)\n",
            "Requirement already satisfied: pygments in /usr/local/lib/python3.11/dist-packages (from ipython==7.34.0->google-colab) (2.19.1)\n",
            "Requirement already satisfied: backcall in /usr/local/lib/python3.11/dist-packages (from ipython==7.34.0->google-colab) (0.2.0)\n",
            "Requirement already satisfied: pexpect>4.3 in /usr/local/lib/python3.11/dist-packages (from ipython==7.34.0->google-colab) (4.9.0)\n",
            "Requirement already satisfied: jinja2 in /usr/local/lib/python3.11/dist-packages (from notebook==6.5.7->google-colab) (3.1.6)\n",
            "Requirement already satisfied: argon2-cffi in /usr/local/lib/python3.11/dist-packages (from notebook==6.5.7->google-colab) (25.1.0)\n",
            "Requirement already satisfied: jupyter-core>=4.6.1 in /usr/local/lib/python3.11/dist-packages (from notebook==6.5.7->google-colab) (5.8.1)\n",
            "Requirement already satisfied: ipython-genutils in /usr/local/lib/python3.11/dist-packages (from notebook==6.5.7->google-colab) (0.2.0)\n",
            "Requirement already satisfied: nbformat in /usr/local/lib/python3.11/dist-packages (from notebook==6.5.7->google-colab) (5.10.4)\n",
            "Requirement already satisfied: nbconvert>=5 in /usr/local/lib/python3.11/dist-packages (from notebook==6.5.7->google-colab) (7.16.6)\n",
            "Requirement already satisfied: Send2Trash>=1.8.0 in /usr/local/lib/python3.11/dist-packages (from notebook==6.5.7->google-colab) (1.8.3)\n",
            "Requirement already satisfied: terminado>=0.8.3 in /usr/local/lib/python3.11/dist-packages (from notebook==6.5.7->google-colab) (0.18.1)\n",
            "Requirement already satisfied: prometheus-client in /usr/local/lib/python3.11/dist-packages (from notebook==6.5.7->google-colab) (0.22.1)\n",
            "Requirement already satisfied: nbclassic>=0.4.7 in /usr/local/lib/python3.11/dist-packages (from notebook==6.5.7->google-colab) (1.3.1)\n",
            "Requirement already satisfied: numpy>=1.23.2 in /usr/local/lib/python3.11/dist-packages (from pandas==2.2.2->google-colab) (2.0.2)\n",
            "Requirement already satisfied: pytz>=2020.1 in /usr/local/lib/python3.11/dist-packages (from pandas==2.2.2->google-colab) (2025.2)\n",
            "Requirement already satisfied: tzdata>=2022.7 in /usr/local/lib/python3.11/dist-packages (from pandas==2.2.2->google-colab) (2025.2)\n",
            "Requirement already satisfied: charset-normalizer<4,>=2 in /usr/local/lib/python3.11/dist-packages (from requests==2.32.3->google-colab) (3.4.2)\n",
            "Requirement already satisfied: idna<4,>=2.5 in /usr/local/lib/python3.11/dist-packages (from requests==2.32.3->google-colab) (3.10)\n",
            "Requirement already satisfied: urllib3<3,>=1.21.1 in /usr/local/lib/python3.11/dist-packages (from requests==2.32.3->google-colab) (2.4.0)\n",
            "Requirement already satisfied: certifi>=2017.4.17 in /usr/local/lib/python3.11/dist-packages (from requests==2.32.3->google-colab) (2025.4.26)\n",
            "Requirement already satisfied: parso<0.9.0,>=0.8.4 in /usr/local/lib/python3.11/dist-packages (from jedi>=0.16->ipython==7.34.0->google-colab) (0.8.4)\n",
            "Requirement already satisfied: platformdirs>=2.5 in /usr/local/lib/python3.11/dist-packages (from jupyter-core>=4.6.1->notebook==6.5.7->google-colab) (4.3.8)\n",
            "Requirement already satisfied: notebook-shim>=0.2.3 in /usr/local/lib/python3.11/dist-packages (from nbclassic>=0.4.7->notebook==6.5.7->google-colab) (0.2.4)\n",
            "Requirement already satisfied: beautifulsoup4 in /usr/local/lib/python3.11/dist-packages (from nbconvert>=5->notebook==6.5.7->google-colab) (4.13.4)\n",
            "Requirement already satisfied: bleach!=5.0.0 in /usr/local/lib/python3.11/dist-packages (from bleach[css]!=5.0.0->nbconvert>=5->notebook==6.5.7->google-colab) (6.2.0)\n",
            "Requirement already satisfied: defusedxml in /usr/local/lib/python3.11/dist-packages (from nbconvert>=5->notebook==6.5.7->google-colab) (0.7.1)\n",
            "Requirement already satisfied: jupyterlab-pygments in /usr/local/lib/python3.11/dist-packages (from nbconvert>=5->notebook==6.5.7->google-colab) (0.3.0)\n",
            "Requirement already satisfied: markupsafe>=2.0 in /usr/local/lib/python3.11/dist-packages (from nbconvert>=5->notebook==6.5.7->google-colab) (3.0.2)\n",
            "Requirement already satisfied: mistune<4,>=2.0.3 in /usr/local/lib/python3.11/dist-packages (from nbconvert>=5->notebook==6.5.7->google-colab) (3.1.3)\n",
            "Requirement already satisfied: nbclient>=0.5.0 in /usr/local/lib/python3.11/dist-packages (from nbconvert>=5->notebook==6.5.7->google-colab) (0.10.2)\n",
            "Requirement already satisfied: pandocfilters>=1.4.1 in /usr/local/lib/python3.11/dist-packages (from nbconvert>=5->notebook==6.5.7->google-colab) (1.5.1)\n",
            "Requirement already satisfied: fastjsonschema>=2.15 in /usr/local/lib/python3.11/dist-packages (from nbformat->notebook==6.5.7->google-colab) (2.21.1)\n",
            "Requirement already satisfied: jsonschema>=2.6 in /usr/local/lib/python3.11/dist-packages (from nbformat->notebook==6.5.7->google-colab) (4.24.0)\n",
            "Requirement already satisfied: ptyprocess>=0.5 in /usr/local/lib/python3.11/dist-packages (from pexpect>4.3->ipython==7.34.0->google-colab) (0.7.0)\n",
            "Requirement already satisfied: wcwidth in /usr/local/lib/python3.11/dist-packages (from prompt-toolkit!=3.0.0,!=3.0.1,<3.1.0,>=2.0.0->ipython==7.34.0->google-colab) (0.2.13)\n",
            "Requirement already satisfied: pyasn1<0.7.0,>=0.6.1 in /usr/local/lib/python3.11/dist-packages (from pyasn1-modules>=0.2.1->google-auth==2.38.0->google-colab) (0.6.1)\n",
            "Requirement already satisfied: six>=1.5 in /usr/local/lib/python3.11/dist-packages (from python-dateutil>=2.1->ipyparallel==8.8.0->google-colab) (1.17.0)\n",
            "Requirement already satisfied: argon2-cffi-bindings in /usr/local/lib/python3.11/dist-packages (from argon2-cffi->notebook==6.5.7->google-colab) (21.2.0)\n",
            "Requirement already satisfied: webencodings in /usr/local/lib/python3.11/dist-packages (from bleach!=5.0.0->bleach[css]!=5.0.0->nbconvert>=5->notebook==6.5.7->google-colab) (0.5.1)\n",
            "Requirement already satisfied: tinycss2<1.5,>=1.1.0 in /usr/local/lib/python3.11/dist-packages (from bleach[css]!=5.0.0->nbconvert>=5->notebook==6.5.7->google-colab) (1.4.0)\n",
            "Requirement already satisfied: attrs>=22.2.0 in /usr/local/lib/python3.11/dist-packages (from jsonschema>=2.6->nbformat->notebook==6.5.7->google-colab) (25.3.0)\n",
            "Requirement already satisfied: jsonschema-specifications>=2023.03.6 in /usr/local/lib/python3.11/dist-packages (from jsonschema>=2.6->nbformat->notebook==6.5.7->google-colab) (2025.4.1)\n",
            "Requirement already satisfied: referencing>=0.28.4 in /usr/local/lib/python3.11/dist-packages (from jsonschema>=2.6->nbformat->notebook==6.5.7->google-colab) (0.36.2)\n",
            "Requirement already satisfied: rpds-py>=0.7.1 in /usr/local/lib/python3.11/dist-packages (from jsonschema>=2.6->nbformat->notebook==6.5.7->google-colab) (0.25.1)\n",
            "Requirement already satisfied: jupyter-server<3,>=1.8 in /usr/local/lib/python3.11/dist-packages (from notebook-shim>=0.2.3->nbclassic>=0.4.7->notebook==6.5.7->google-colab) (1.16.0)\n",
            "Requirement already satisfied: cffi>=1.0.1 in /usr/local/lib/python3.11/dist-packages (from argon2-cffi-bindings->argon2-cffi->notebook==6.5.7->google-colab) (1.17.1)\n",
            "Requirement already satisfied: soupsieve>1.2 in /usr/local/lib/python3.11/dist-packages (from beautifulsoup4->nbconvert>=5->notebook==6.5.7->google-colab) (2.7)\n",
            "Requirement already satisfied: typing-extensions>=4.0.0 in /usr/local/lib/python3.11/dist-packages (from beautifulsoup4->nbconvert>=5->notebook==6.5.7->google-colab) (4.14.0)\n",
            "Requirement already satisfied: pycparser in /usr/local/lib/python3.11/dist-packages (from cffi>=1.0.1->argon2-cffi-bindings->argon2-cffi->notebook==6.5.7->google-colab) (2.22)\n",
            "Requirement already satisfied: anyio>=3.1.0 in /usr/local/lib/python3.11/dist-packages (from jupyter-server<3,>=1.8->notebook-shim>=0.2.3->nbclassic>=0.4.7->notebook==6.5.7->google-colab) (4.9.0)\n",
            "Requirement already satisfied: websocket-client in /usr/local/lib/python3.11/dist-packages (from jupyter-server<3,>=1.8->notebook-shim>=0.2.3->nbclassic>=0.4.7->notebook==6.5.7->google-colab) (1.8.0)\n",
            "Requirement already satisfied: sniffio>=1.1 in /usr/local/lib/python3.11/dist-packages (from anyio>=3.1.0->jupyter-server<3,>=1.8->notebook-shim>=0.2.3->nbclassic>=0.4.7->notebook==6.5.7->google-colab) (1.3.1)\n",
            "Requirement already satisfied: langchain in /usr/local/lib/python3.11/dist-packages (0.3.25)\n",
            "Requirement already satisfied: langchain-community in /usr/local/lib/python3.11/dist-packages (0.3.25)\n",
            "Requirement already satisfied: langchain-core<1.0.0,>=0.3.58 in /usr/local/lib/python3.11/dist-packages (from langchain) (0.3.65)\n",
            "Requirement already satisfied: langchain-text-splitters<1.0.0,>=0.3.8 in /usr/local/lib/python3.11/dist-packages (from langchain) (0.3.8)\n",
            "Requirement already satisfied: langsmith<0.4,>=0.1.17 in /usr/local/lib/python3.11/dist-packages (from langchain) (0.3.45)\n",
            "Requirement already satisfied: pydantic<3.0.0,>=2.7.4 in /usr/local/lib/python3.11/dist-packages (from langchain) (2.11.5)\n",
            "Requirement already satisfied: SQLAlchemy<3,>=1.4 in /usr/local/lib/python3.11/dist-packages (from langchain) (2.0.41)\n",
            "Requirement already satisfied: requests<3,>=2 in /usr/local/lib/python3.11/dist-packages (from langchain) (2.32.3)\n",
            "Requirement already satisfied: PyYAML>=5.3 in /usr/local/lib/python3.11/dist-packages (from langchain) (6.0.2)\n",
            "Requirement already satisfied: aiohttp<4.0.0,>=3.8.3 in /usr/local/lib/python3.11/dist-packages (from langchain-community) (3.11.15)\n",
            "Requirement already satisfied: tenacity!=8.4.0,<10,>=8.1.0 in /usr/local/lib/python3.11/dist-packages (from langchain-community) (9.1.2)\n",
            "Requirement already satisfied: dataclasses-json<0.7,>=0.5.7 in /usr/local/lib/python3.11/dist-packages (from langchain-community) (0.6.7)\n",
            "Requirement already satisfied: pydantic-settings<3.0.0,>=2.4.0 in /usr/local/lib/python3.11/dist-packages (from langchain-community) (2.9.1)\n",
            "Requirement already satisfied: httpx-sse<1.0.0,>=0.4.0 in /usr/local/lib/python3.11/dist-packages (from langchain-community) (0.4.0)\n",
            "Requirement already satisfied: numpy>=1.26.2 in /usr/local/lib/python3.11/dist-packages (from langchain-community) (2.0.2)\n",
            "Requirement already satisfied: aiohappyeyeballs>=2.3.0 in /usr/local/lib/python3.11/dist-packages (from aiohttp<4.0.0,>=3.8.3->langchain-community) (2.6.1)\n",
            "Requirement already satisfied: aiosignal>=1.1.2 in /usr/local/lib/python3.11/dist-packages (from aiohttp<4.0.0,>=3.8.3->langchain-community) (1.3.2)\n",
            "Requirement already satisfied: attrs>=17.3.0 in /usr/local/lib/python3.11/dist-packages (from aiohttp<4.0.0,>=3.8.3->langchain-community) (25.3.0)\n",
            "Requirement already satisfied: frozenlist>=1.1.1 in /usr/local/lib/python3.11/dist-packages (from aiohttp<4.0.0,>=3.8.3->langchain-community) (1.6.0)\n",
            "Requirement already satisfied: multidict<7.0,>=4.5 in /usr/local/lib/python3.11/dist-packages (from aiohttp<4.0.0,>=3.8.3->langchain-community) (6.4.4)\n",
            "Requirement already satisfied: propcache>=0.2.0 in /usr/local/lib/python3.11/dist-packages (from aiohttp<4.0.0,>=3.8.3->langchain-community) (0.3.1)\n",
            "Requirement already satisfied: yarl<2.0,>=1.17.0 in /usr/local/lib/python3.11/dist-packages (from aiohttp<4.0.0,>=3.8.3->langchain-community) (1.20.0)\n",
            "Requirement already satisfied: marshmallow<4.0.0,>=3.18.0 in /usr/local/lib/python3.11/dist-packages (from dataclasses-json<0.7,>=0.5.7->langchain-community) (3.26.1)\n",
            "Requirement already satisfied: typing-inspect<1,>=0.4.0 in /usr/local/lib/python3.11/dist-packages (from dataclasses-json<0.7,>=0.5.7->langchain-community) (0.9.0)\n",
            "Requirement already satisfied: jsonpatch<2.0,>=1.33 in /usr/local/lib/python3.11/dist-packages (from langchain-core<1.0.0,>=0.3.58->langchain) (1.33)\n",
            "Requirement already satisfied: packaging<25,>=23.2 in /usr/local/lib/python3.11/dist-packages (from langchain-core<1.0.0,>=0.3.58->langchain) (24.2)\n",
            "Requirement already satisfied: typing-extensions>=4.7 in /usr/local/lib/python3.11/dist-packages (from langchain-core<1.0.0,>=0.3.58->langchain) (4.14.0)\n",
            "Requirement already satisfied: httpx<1,>=0.23.0 in /usr/local/lib/python3.11/dist-packages (from langsmith<0.4,>=0.1.17->langchain) (0.28.1)\n",
            "Requirement already satisfied: orjson<4.0.0,>=3.9.14 in /usr/local/lib/python3.11/dist-packages (from langsmith<0.4,>=0.1.17->langchain) (3.10.18)\n",
            "Requirement already satisfied: requests-toolbelt<2.0.0,>=1.0.0 in /usr/local/lib/python3.11/dist-packages (from langsmith<0.4,>=0.1.17->langchain) (1.0.0)\n",
            "Requirement already satisfied: zstandard<0.24.0,>=0.23.0 in /usr/local/lib/python3.11/dist-packages (from langsmith<0.4,>=0.1.17->langchain) (0.23.0)\n",
            "Requirement already satisfied: annotated-types>=0.6.0 in /usr/local/lib/python3.11/dist-packages (from pydantic<3.0.0,>=2.7.4->langchain) (0.7.0)\n",
            "Requirement already satisfied: pydantic-core==2.33.2 in /usr/local/lib/python3.11/dist-packages (from pydantic<3.0.0,>=2.7.4->langchain) (2.33.2)\n",
            "Requirement already satisfied: typing-inspection>=0.4.0 in /usr/local/lib/python3.11/dist-packages (from pydantic<3.0.0,>=2.7.4->langchain) (0.4.1)\n",
            "Requirement already satisfied: python-dotenv>=0.21.0 in /usr/local/lib/python3.11/dist-packages (from pydantic-settings<3.0.0,>=2.4.0->langchain-community) (1.1.0)\n",
            "Requirement already satisfied: charset-normalizer<4,>=2 in /usr/local/lib/python3.11/dist-packages (from requests<3,>=2->langchain) (3.4.2)\n",
            "Requirement already satisfied: idna<4,>=2.5 in /usr/local/lib/python3.11/dist-packages (from requests<3,>=2->langchain) (3.10)\n",
            "Requirement already satisfied: urllib3<3,>=1.21.1 in /usr/local/lib/python3.11/dist-packages (from requests<3,>=2->langchain) (2.4.0)\n",
            "Requirement already satisfied: certifi>=2017.4.17 in /usr/local/lib/python3.11/dist-packages (from requests<3,>=2->langchain) (2025.4.26)\n",
            "Requirement already satisfied: greenlet>=1 in /usr/local/lib/python3.11/dist-packages (from SQLAlchemy<3,>=1.4->langchain) (3.2.2)\n",
            "Requirement already satisfied: anyio in /usr/local/lib/python3.11/dist-packages (from httpx<1,>=0.23.0->langsmith<0.4,>=0.1.17->langchain) (4.9.0)\n",
            "Requirement already satisfied: httpcore==1.* in /usr/local/lib/python3.11/dist-packages (from httpx<1,>=0.23.0->langsmith<0.4,>=0.1.17->langchain) (1.0.9)\n",
            "Requirement already satisfied: h11>=0.16 in /usr/local/lib/python3.11/dist-packages (from httpcore==1.*->httpx<1,>=0.23.0->langsmith<0.4,>=0.1.17->langchain) (0.16.0)\n",
            "Requirement already satisfied: jsonpointer>=1.9 in /usr/local/lib/python3.11/dist-packages (from jsonpatch<2.0,>=1.33->langchain-core<1.0.0,>=0.3.58->langchain) (3.0.0)\n",
            "Requirement already satisfied: mypy-extensions>=0.3.0 in /usr/local/lib/python3.11/dist-packages (from typing-inspect<1,>=0.4.0->dataclasses-json<0.7,>=0.5.7->langchain-community) (1.1.0)\n",
            "Requirement already satisfied: sniffio>=1.1 in /usr/local/lib/python3.11/dist-packages (from anyio->httpx<1,>=0.23.0->langsmith<0.4,>=0.1.17->langchain) (1.3.1)\n",
            "Requirement already satisfied: nltk in /usr/local/lib/python3.11/dist-packages (3.9.1)\n",
            "Requirement already satisfied: click in /usr/local/lib/python3.11/dist-packages (from nltk) (8.2.1)\n",
            "Requirement already satisfied: joblib in /usr/local/lib/python3.11/dist-packages (from nltk) (1.5.1)\n",
            "Requirement already satisfied: regex>=2021.8.3 in /usr/local/lib/python3.11/dist-packages (from nltk) (2024.11.6)\n",
            "Requirement already satisfied: tqdm in /usr/local/lib/python3.11/dist-packages (from nltk) (4.67.1)\n"
          ]
        }
      ],
      "source": [
        "!pip install -q langchain\n",
        "!pip install -q transfomers sentencepiece accelerate bitsandbytes\n",
        "!pip install -q python-dotenv\n",
        "!pip install langchain-google-genai\n",
        "!pip install google-colab\n",
        "!pip install langchain langchain-community\n",
        "!pip install -q unstructured\n",
        "!pip install nltk\n",
        "!pip install -q wikipedia\n",
        "!pip install -q pypdf\n",
        "!pip install -q tiktoken"
      ]
    },
    {
      "cell_type": "code",
      "source": [
        "from dotenv import dotenv_values\n",
        "from langchain.prompts import PromptTemplate\n",
        "from langchain_core.messages import HumanMessage\n",
        "from langchain_google_genai import ChatGoogleGenerativeAI\n",
        "from langchain.schema import HumanMessage,SystemMessage,AIMessage\n",
        "from langchain_community.chat_models import ChatGooglePalm\n",
        "import os\n",
        "import pandas as pd\n",
        "from langchain.document_loaders import DataFrameLoader\n",
        "from langchain.document_loaders import UnstructuredURLLoader\n",
        "from langchain.document_loaders import WikipediaLoader\n",
        "from langchain.document_loaders import PyPDFLoader\n",
        "from langchain.document_loaders import OnlinePDFLoader\n",
        "from langchain.document_loaders import DirectoryLoader\n",
        "from transformers import AutoTokenizer\n",
        "from langchain.text_splitter import CharacterTextSplitter\n",
        "from langchain.text_splitter import RecursiveCharacterTextSplitter\n",
        "from langchain.text_splitter import TokenTextSplitter\n",
        "\n",
        "\n",
        "\n",
        "env_values = dotenv_values(\"./app.env\")\n",
        "\n",
        "google_api_key = env_values['GOOGLE_API_KEY']\n",
        "\n",
        "llm = ChatGoogleGenerativeAI(\n",
        "    model=\"gemini-2.0-flash\",\n",
        "    temperature=0.7,\n",
        "    google_api_key=google_api_key\n",
        ")"
      ],
      "metadata": {
        "id": "qCir-KknCW9X"
      },
      "execution_count": 96,
      "outputs": []
    },
    {
      "cell_type": "code",
      "source": [
        "!wget -O youtube-sub.csv https://raw.githubusercontent.com/Petlja/JupyterBookSrCyr/master/podaci/Top%2025%20YouTubers.csv"
      ],
      "metadata": {
        "colab": {
          "base_uri": "https://localhost:8080/"
        },
        "id": "axDn_vZfDTsi",
        "outputId": "0b691596-e1b9-4e92-9a20-0adb9d5de5c7"
      },
      "execution_count": 66,
      "outputs": [
        {
          "output_type": "stream",
          "name": "stdout",
          "text": [
            "--2025-06-16 15:07:21--  https://raw.githubusercontent.com/Petlja/JupyterBookSrCyr/master/podaci/Top%2025%20YouTubers.csv\n",
            "Resolving raw.githubusercontent.com (raw.githubusercontent.com)... 185.199.110.133, 185.199.108.133, 185.199.111.133, ...\n",
            "Connecting to raw.githubusercontent.com (raw.githubusercontent.com)|185.199.110.133|:443... connected.\n",
            "HTTP request sent, awaiting response... 200 OK\n",
            "Length: 1153 (1.1K) [text/plain]\n",
            "Saving to: ‘youtube-sub.csv’\n",
            "\n",
            "\ryoutube-sub.csv       0%[                    ]       0  --.-KB/s               \ryoutube-sub.csv     100%[===================>]   1.13K  --.-KB/s    in 0s      \n",
            "\n",
            "2025-06-16 15:07:21 (64.2 MB/s) - ‘youtube-sub.csv’ saved [1153/1153]\n",
            "\n"
          ]
        }
      ]
    },
    {
      "cell_type": "code",
      "source": [
        "df=pd.read_csv(\"youtube-sub.csv\")\n",
        "df"
      ],
      "metadata": {
        "colab": {
          "base_uri": "https://localhost:8080/",
          "height": 833
        },
        "id": "9cZ30_TBGt1K",
        "outputId": "3610a71b-647e-46fb-e8d6-aae20b2f633f"
      },
      "execution_count": 67,
      "outputs": [
        {
          "output_type": "execute_result",
          "data": {
            "text/plain": [
              "    RANK GRADE                        NAME  VIDEOS  SUBSCRIBERS       VIEWES\n",
              "0      1   A++                    T-Series   13629    105783888  76945588449\n",
              "1      2     A                   PewDiePie    3898     97853589  22298927681\n",
              "2      3    A+             5-Minute Crafts    3341     58629572  14860695079\n",
              "3      4   A++  Cocomelon - Nursery Rhymes     441     53163816  33519273951\n",
              "4      5   A++                   SET India   31923     51784081  36464793233\n",
              "5      6    A+             Canal KondZilla    1100     50560964  25446405744\n",
              "6      7    A+                         WWE   42404     46098586  34085586984\n",
              "7      8    B+               Justin Bieber     134     45873439    625649566\n",
              "8      9     A                Dude Perfect     209     43796634   8354321862\n",
              "9     10    A+                     Badabun    4406     41131131  13175713909\n",
              "10    11    A+                  Ed Sheeran     151     40883164  17420235764\n",
              "11    12    A+           Zee Music Company    4305     40675210  18597258212\n",
              "12    13    B+              HolaSoyGerman.     137     39549835   3963774207\n",
              "13    14     B                 EminemMusic     117     38321579    723182792\n",
              "14    15     A                  Marshmello     323     36937062   6495653129\n",
              "15    16    B+               Ariana Grande     128     36748165    852378143\n",
              "16    17    B+            whinderssonnunes     363     36059417   2965932071\n",
              "17    18     A                 JuegaGerman    1635     35648722   9524890177\n",
              "18    19    A-                 elrubiusOMG     809     35324033   7772447040\n",
              "19    20     B                Taylor Swift     166     34920060    255089844\n",
              "20    21    B-                  Katy Perry      97     34416819    361332307\n",
              "21    22     A                 Felipe Neto    1872     33549096   7458531306\n",
              "22    23     A            JustinBieberVEVO     122     33514535  18873475304\n",
              "23    24     A                  Fernanfloo     534     33378699   7201866552\n",
              "24    25     A                TheEllenShow   10542     33362512  16519572219"
            ],
            "text/html": [
              "\n",
              "  <div id=\"df-a1cfc111-c23b-46b2-8211-5ba4dc556d0a\" class=\"colab-df-container\">\n",
              "    <div>\n",
              "<style scoped>\n",
              "    .dataframe tbody tr th:only-of-type {\n",
              "        vertical-align: middle;\n",
              "    }\n",
              "\n",
              "    .dataframe tbody tr th {\n",
              "        vertical-align: top;\n",
              "    }\n",
              "\n",
              "    .dataframe thead th {\n",
              "        text-align: right;\n",
              "    }\n",
              "</style>\n",
              "<table border=\"1\" class=\"dataframe\">\n",
              "  <thead>\n",
              "    <tr style=\"text-align: right;\">\n",
              "      <th></th>\n",
              "      <th>RANK</th>\n",
              "      <th>GRADE</th>\n",
              "      <th>NAME</th>\n",
              "      <th>VIDEOS</th>\n",
              "      <th>SUBSCRIBERS</th>\n",
              "      <th>VIEWES</th>\n",
              "    </tr>\n",
              "  </thead>\n",
              "  <tbody>\n",
              "    <tr>\n",
              "      <th>0</th>\n",
              "      <td>1</td>\n",
              "      <td>A++</td>\n",
              "      <td>T-Series</td>\n",
              "      <td>13629</td>\n",
              "      <td>105783888</td>\n",
              "      <td>76945588449</td>\n",
              "    </tr>\n",
              "    <tr>\n",
              "      <th>1</th>\n",
              "      <td>2</td>\n",
              "      <td>A</td>\n",
              "      <td>PewDiePie</td>\n",
              "      <td>3898</td>\n",
              "      <td>97853589</td>\n",
              "      <td>22298927681</td>\n",
              "    </tr>\n",
              "    <tr>\n",
              "      <th>2</th>\n",
              "      <td>3</td>\n",
              "      <td>A+</td>\n",
              "      <td>5-Minute Crafts</td>\n",
              "      <td>3341</td>\n",
              "      <td>58629572</td>\n",
              "      <td>14860695079</td>\n",
              "    </tr>\n",
              "    <tr>\n",
              "      <th>3</th>\n",
              "      <td>4</td>\n",
              "      <td>A++</td>\n",
              "      <td>Cocomelon - Nursery Rhymes</td>\n",
              "      <td>441</td>\n",
              "      <td>53163816</td>\n",
              "      <td>33519273951</td>\n",
              "    </tr>\n",
              "    <tr>\n",
              "      <th>4</th>\n",
              "      <td>5</td>\n",
              "      <td>A++</td>\n",
              "      <td>SET India</td>\n",
              "      <td>31923</td>\n",
              "      <td>51784081</td>\n",
              "      <td>36464793233</td>\n",
              "    </tr>\n",
              "    <tr>\n",
              "      <th>5</th>\n",
              "      <td>6</td>\n",
              "      <td>A+</td>\n",
              "      <td>Canal KondZilla</td>\n",
              "      <td>1100</td>\n",
              "      <td>50560964</td>\n",
              "      <td>25446405744</td>\n",
              "    </tr>\n",
              "    <tr>\n",
              "      <th>6</th>\n",
              "      <td>7</td>\n",
              "      <td>A+</td>\n",
              "      <td>WWE</td>\n",
              "      <td>42404</td>\n",
              "      <td>46098586</td>\n",
              "      <td>34085586984</td>\n",
              "    </tr>\n",
              "    <tr>\n",
              "      <th>7</th>\n",
              "      <td>8</td>\n",
              "      <td>B+</td>\n",
              "      <td>Justin Bieber</td>\n",
              "      <td>134</td>\n",
              "      <td>45873439</td>\n",
              "      <td>625649566</td>\n",
              "    </tr>\n",
              "    <tr>\n",
              "      <th>8</th>\n",
              "      <td>9</td>\n",
              "      <td>A</td>\n",
              "      <td>Dude Perfect</td>\n",
              "      <td>209</td>\n",
              "      <td>43796634</td>\n",
              "      <td>8354321862</td>\n",
              "    </tr>\n",
              "    <tr>\n",
              "      <th>9</th>\n",
              "      <td>10</td>\n",
              "      <td>A+</td>\n",
              "      <td>Badabun</td>\n",
              "      <td>4406</td>\n",
              "      <td>41131131</td>\n",
              "      <td>13175713909</td>\n",
              "    </tr>\n",
              "    <tr>\n",
              "      <th>10</th>\n",
              "      <td>11</td>\n",
              "      <td>A+</td>\n",
              "      <td>Ed Sheeran</td>\n",
              "      <td>151</td>\n",
              "      <td>40883164</td>\n",
              "      <td>17420235764</td>\n",
              "    </tr>\n",
              "    <tr>\n",
              "      <th>11</th>\n",
              "      <td>12</td>\n",
              "      <td>A+</td>\n",
              "      <td>Zee Music Company</td>\n",
              "      <td>4305</td>\n",
              "      <td>40675210</td>\n",
              "      <td>18597258212</td>\n",
              "    </tr>\n",
              "    <tr>\n",
              "      <th>12</th>\n",
              "      <td>13</td>\n",
              "      <td>B+</td>\n",
              "      <td>HolaSoyGerman.</td>\n",
              "      <td>137</td>\n",
              "      <td>39549835</td>\n",
              "      <td>3963774207</td>\n",
              "    </tr>\n",
              "    <tr>\n",
              "      <th>13</th>\n",
              "      <td>14</td>\n",
              "      <td>B</td>\n",
              "      <td>EminemMusic</td>\n",
              "      <td>117</td>\n",
              "      <td>38321579</td>\n",
              "      <td>723182792</td>\n",
              "    </tr>\n",
              "    <tr>\n",
              "      <th>14</th>\n",
              "      <td>15</td>\n",
              "      <td>A</td>\n",
              "      <td>Marshmello</td>\n",
              "      <td>323</td>\n",
              "      <td>36937062</td>\n",
              "      <td>6495653129</td>\n",
              "    </tr>\n",
              "    <tr>\n",
              "      <th>15</th>\n",
              "      <td>16</td>\n",
              "      <td>B+</td>\n",
              "      <td>Ariana Grande</td>\n",
              "      <td>128</td>\n",
              "      <td>36748165</td>\n",
              "      <td>852378143</td>\n",
              "    </tr>\n",
              "    <tr>\n",
              "      <th>16</th>\n",
              "      <td>17</td>\n",
              "      <td>B+</td>\n",
              "      <td>whinderssonnunes</td>\n",
              "      <td>363</td>\n",
              "      <td>36059417</td>\n",
              "      <td>2965932071</td>\n",
              "    </tr>\n",
              "    <tr>\n",
              "      <th>17</th>\n",
              "      <td>18</td>\n",
              "      <td>A</td>\n",
              "      <td>JuegaGerman</td>\n",
              "      <td>1635</td>\n",
              "      <td>35648722</td>\n",
              "      <td>9524890177</td>\n",
              "    </tr>\n",
              "    <tr>\n",
              "      <th>18</th>\n",
              "      <td>19</td>\n",
              "      <td>A-</td>\n",
              "      <td>elrubiusOMG</td>\n",
              "      <td>809</td>\n",
              "      <td>35324033</td>\n",
              "      <td>7772447040</td>\n",
              "    </tr>\n",
              "    <tr>\n",
              "      <th>19</th>\n",
              "      <td>20</td>\n",
              "      <td>B</td>\n",
              "      <td>Taylor Swift</td>\n",
              "      <td>166</td>\n",
              "      <td>34920060</td>\n",
              "      <td>255089844</td>\n",
              "    </tr>\n",
              "    <tr>\n",
              "      <th>20</th>\n",
              "      <td>21</td>\n",
              "      <td>B-</td>\n",
              "      <td>Katy Perry</td>\n",
              "      <td>97</td>\n",
              "      <td>34416819</td>\n",
              "      <td>361332307</td>\n",
              "    </tr>\n",
              "    <tr>\n",
              "      <th>21</th>\n",
              "      <td>22</td>\n",
              "      <td>A</td>\n",
              "      <td>Felipe Neto</td>\n",
              "      <td>1872</td>\n",
              "      <td>33549096</td>\n",
              "      <td>7458531306</td>\n",
              "    </tr>\n",
              "    <tr>\n",
              "      <th>22</th>\n",
              "      <td>23</td>\n",
              "      <td>A</td>\n",
              "      <td>JustinBieberVEVO</td>\n",
              "      <td>122</td>\n",
              "      <td>33514535</td>\n",
              "      <td>18873475304</td>\n",
              "    </tr>\n",
              "    <tr>\n",
              "      <th>23</th>\n",
              "      <td>24</td>\n",
              "      <td>A</td>\n",
              "      <td>Fernanfloo</td>\n",
              "      <td>534</td>\n",
              "      <td>33378699</td>\n",
              "      <td>7201866552</td>\n",
              "    </tr>\n",
              "    <tr>\n",
              "      <th>24</th>\n",
              "      <td>25</td>\n",
              "      <td>A</td>\n",
              "      <td>TheEllenShow</td>\n",
              "      <td>10542</td>\n",
              "      <td>33362512</td>\n",
              "      <td>16519572219</td>\n",
              "    </tr>\n",
              "  </tbody>\n",
              "</table>\n",
              "</div>\n",
              "    <div class=\"colab-df-buttons\">\n",
              "\n",
              "  <div class=\"colab-df-container\">\n",
              "    <button class=\"colab-df-convert\" onclick=\"convertToInteractive('df-a1cfc111-c23b-46b2-8211-5ba4dc556d0a')\"\n",
              "            title=\"Convert this dataframe to an interactive table.\"\n",
              "            style=\"display:none;\">\n",
              "\n",
              "  <svg xmlns=\"http://www.w3.org/2000/svg\" height=\"24px\" viewBox=\"0 -960 960 960\">\n",
              "    <path d=\"M120-120v-720h720v720H120Zm60-500h600v-160H180v160Zm220 220h160v-160H400v160Zm0 220h160v-160H400v160ZM180-400h160v-160H180v160Zm440 0h160v-160H620v160ZM180-180h160v-160H180v160Zm440 0h160v-160H620v160Z\"/>\n",
              "  </svg>\n",
              "    </button>\n",
              "\n",
              "  <style>\n",
              "    .colab-df-container {\n",
              "      display:flex;\n",
              "      gap: 12px;\n",
              "    }\n",
              "\n",
              "    .colab-df-convert {\n",
              "      background-color: #E8F0FE;\n",
              "      border: none;\n",
              "      border-radius: 50%;\n",
              "      cursor: pointer;\n",
              "      display: none;\n",
              "      fill: #1967D2;\n",
              "      height: 32px;\n",
              "      padding: 0 0 0 0;\n",
              "      width: 32px;\n",
              "    }\n",
              "\n",
              "    .colab-df-convert:hover {\n",
              "      background-color: #E2EBFA;\n",
              "      box-shadow: 0px 1px 2px rgba(60, 64, 67, 0.3), 0px 1px 3px 1px rgba(60, 64, 67, 0.15);\n",
              "      fill: #174EA6;\n",
              "    }\n",
              "\n",
              "    .colab-df-buttons div {\n",
              "      margin-bottom: 4px;\n",
              "    }\n",
              "\n",
              "    [theme=dark] .colab-df-convert {\n",
              "      background-color: #3B4455;\n",
              "      fill: #D2E3FC;\n",
              "    }\n",
              "\n",
              "    [theme=dark] .colab-df-convert:hover {\n",
              "      background-color: #434B5C;\n",
              "      box-shadow: 0px 1px 3px 1px rgba(0, 0, 0, 0.15);\n",
              "      filter: drop-shadow(0px 1px 2px rgba(0, 0, 0, 0.3));\n",
              "      fill: #FFFFFF;\n",
              "    }\n",
              "  </style>\n",
              "\n",
              "    <script>\n",
              "      const buttonEl =\n",
              "        document.querySelector('#df-a1cfc111-c23b-46b2-8211-5ba4dc556d0a button.colab-df-convert');\n",
              "      buttonEl.style.display =\n",
              "        google.colab.kernel.accessAllowed ? 'block' : 'none';\n",
              "\n",
              "      async function convertToInteractive(key) {\n",
              "        const element = document.querySelector('#df-a1cfc111-c23b-46b2-8211-5ba4dc556d0a');\n",
              "        const dataTable =\n",
              "          await google.colab.kernel.invokeFunction('convertToInteractive',\n",
              "                                                    [key], {});\n",
              "        if (!dataTable) return;\n",
              "\n",
              "        const docLinkHtml = 'Like what you see? Visit the ' +\n",
              "          '<a target=\"_blank\" href=https://colab.research.google.com/notebooks/data_table.ipynb>data table notebook</a>'\n",
              "          + ' to learn more about interactive tables.';\n",
              "        element.innerHTML = '';\n",
              "        dataTable['output_type'] = 'display_data';\n",
              "        await google.colab.output.renderOutput(dataTable, element);\n",
              "        const docLink = document.createElement('div');\n",
              "        docLink.innerHTML = docLinkHtml;\n",
              "        element.appendChild(docLink);\n",
              "      }\n",
              "    </script>\n",
              "  </div>\n",
              "\n",
              "\n",
              "    <div id=\"df-e5149f25-81c7-4a37-aa04-a14de4b2a012\">\n",
              "      <button class=\"colab-df-quickchart\" onclick=\"quickchart('df-e5149f25-81c7-4a37-aa04-a14de4b2a012')\"\n",
              "                title=\"Suggest charts\"\n",
              "                style=\"display:none;\">\n",
              "\n",
              "<svg xmlns=\"http://www.w3.org/2000/svg\" height=\"24px\"viewBox=\"0 0 24 24\"\n",
              "     width=\"24px\">\n",
              "    <g>\n",
              "        <path d=\"M19 3H5c-1.1 0-2 .9-2 2v14c0 1.1.9 2 2 2h14c1.1 0 2-.9 2-2V5c0-1.1-.9-2-2-2zM9 17H7v-7h2v7zm4 0h-2V7h2v10zm4 0h-2v-4h2v4z\"/>\n",
              "    </g>\n",
              "</svg>\n",
              "      </button>\n",
              "\n",
              "<style>\n",
              "  .colab-df-quickchart {\n",
              "      --bg-color: #E8F0FE;\n",
              "      --fill-color: #1967D2;\n",
              "      --hover-bg-color: #E2EBFA;\n",
              "      --hover-fill-color: #174EA6;\n",
              "      --disabled-fill-color: #AAA;\n",
              "      --disabled-bg-color: #DDD;\n",
              "  }\n",
              "\n",
              "  [theme=dark] .colab-df-quickchart {\n",
              "      --bg-color: #3B4455;\n",
              "      --fill-color: #D2E3FC;\n",
              "      --hover-bg-color: #434B5C;\n",
              "      --hover-fill-color: #FFFFFF;\n",
              "      --disabled-bg-color: #3B4455;\n",
              "      --disabled-fill-color: #666;\n",
              "  }\n",
              "\n",
              "  .colab-df-quickchart {\n",
              "    background-color: var(--bg-color);\n",
              "    border: none;\n",
              "    border-radius: 50%;\n",
              "    cursor: pointer;\n",
              "    display: none;\n",
              "    fill: var(--fill-color);\n",
              "    height: 32px;\n",
              "    padding: 0;\n",
              "    width: 32px;\n",
              "  }\n",
              "\n",
              "  .colab-df-quickchart:hover {\n",
              "    background-color: var(--hover-bg-color);\n",
              "    box-shadow: 0 1px 2px rgba(60, 64, 67, 0.3), 0 1px 3px 1px rgba(60, 64, 67, 0.15);\n",
              "    fill: var(--button-hover-fill-color);\n",
              "  }\n",
              "\n",
              "  .colab-df-quickchart-complete:disabled,\n",
              "  .colab-df-quickchart-complete:disabled:hover {\n",
              "    background-color: var(--disabled-bg-color);\n",
              "    fill: var(--disabled-fill-color);\n",
              "    box-shadow: none;\n",
              "  }\n",
              "\n",
              "  .colab-df-spinner {\n",
              "    border: 2px solid var(--fill-color);\n",
              "    border-color: transparent;\n",
              "    border-bottom-color: var(--fill-color);\n",
              "    animation:\n",
              "      spin 1s steps(1) infinite;\n",
              "  }\n",
              "\n",
              "  @keyframes spin {\n",
              "    0% {\n",
              "      border-color: transparent;\n",
              "      border-bottom-color: var(--fill-color);\n",
              "      border-left-color: var(--fill-color);\n",
              "    }\n",
              "    20% {\n",
              "      border-color: transparent;\n",
              "      border-left-color: var(--fill-color);\n",
              "      border-top-color: var(--fill-color);\n",
              "    }\n",
              "    30% {\n",
              "      border-color: transparent;\n",
              "      border-left-color: var(--fill-color);\n",
              "      border-top-color: var(--fill-color);\n",
              "      border-right-color: var(--fill-color);\n",
              "    }\n",
              "    40% {\n",
              "      border-color: transparent;\n",
              "      border-right-color: var(--fill-color);\n",
              "      border-top-color: var(--fill-color);\n",
              "    }\n",
              "    60% {\n",
              "      border-color: transparent;\n",
              "      border-right-color: var(--fill-color);\n",
              "    }\n",
              "    80% {\n",
              "      border-color: transparent;\n",
              "      border-right-color: var(--fill-color);\n",
              "      border-bottom-color: var(--fill-color);\n",
              "    }\n",
              "    90% {\n",
              "      border-color: transparent;\n",
              "      border-bottom-color: var(--fill-color);\n",
              "    }\n",
              "  }\n",
              "</style>\n",
              "\n",
              "      <script>\n",
              "        async function quickchart(key) {\n",
              "          const quickchartButtonEl =\n",
              "            document.querySelector('#' + key + ' button');\n",
              "          quickchartButtonEl.disabled = true;  // To prevent multiple clicks.\n",
              "          quickchartButtonEl.classList.add('colab-df-spinner');\n",
              "          try {\n",
              "            const charts = await google.colab.kernel.invokeFunction(\n",
              "                'suggestCharts', [key], {});\n",
              "          } catch (error) {\n",
              "            console.error('Error during call to suggestCharts:', error);\n",
              "          }\n",
              "          quickchartButtonEl.classList.remove('colab-df-spinner');\n",
              "          quickchartButtonEl.classList.add('colab-df-quickchart-complete');\n",
              "        }\n",
              "        (() => {\n",
              "          let quickchartButtonEl =\n",
              "            document.querySelector('#df-e5149f25-81c7-4a37-aa04-a14de4b2a012 button');\n",
              "          quickchartButtonEl.style.display =\n",
              "            google.colab.kernel.accessAllowed ? 'block' : 'none';\n",
              "        })();\n",
              "      </script>\n",
              "    </div>\n",
              "\n",
              "  <div id=\"id_8cf0f715-2de7-42b3-b485-1b2d9341029d\">\n",
              "    <style>\n",
              "      .colab-df-generate {\n",
              "        background-color: #E8F0FE;\n",
              "        border: none;\n",
              "        border-radius: 50%;\n",
              "        cursor: pointer;\n",
              "        display: none;\n",
              "        fill: #1967D2;\n",
              "        height: 32px;\n",
              "        padding: 0 0 0 0;\n",
              "        width: 32px;\n",
              "      }\n",
              "\n",
              "      .colab-df-generate:hover {\n",
              "        background-color: #E2EBFA;\n",
              "        box-shadow: 0px 1px 2px rgba(60, 64, 67, 0.3), 0px 1px 3px 1px rgba(60, 64, 67, 0.15);\n",
              "        fill: #174EA6;\n",
              "      }\n",
              "\n",
              "      [theme=dark] .colab-df-generate {\n",
              "        background-color: #3B4455;\n",
              "        fill: #D2E3FC;\n",
              "      }\n",
              "\n",
              "      [theme=dark] .colab-df-generate:hover {\n",
              "        background-color: #434B5C;\n",
              "        box-shadow: 0px 1px 3px 1px rgba(0, 0, 0, 0.15);\n",
              "        filter: drop-shadow(0px 1px 2px rgba(0, 0, 0, 0.3));\n",
              "        fill: #FFFFFF;\n",
              "      }\n",
              "    </style>\n",
              "    <button class=\"colab-df-generate\" onclick=\"generateWithVariable('df')\"\n",
              "            title=\"Generate code using this dataframe.\"\n",
              "            style=\"display:none;\">\n",
              "\n",
              "  <svg xmlns=\"http://www.w3.org/2000/svg\" height=\"24px\"viewBox=\"0 0 24 24\"\n",
              "       width=\"24px\">\n",
              "    <path d=\"M7,19H8.4L18.45,9,17,7.55,7,17.6ZM5,21V16.75L18.45,3.32a2,2,0,0,1,2.83,0l1.4,1.43a1.91,1.91,0,0,1,.58,1.4,1.91,1.91,0,0,1-.58,1.4L9.25,21ZM18.45,9,17,7.55Zm-12,3A5.31,5.31,0,0,0,4.9,8.1,5.31,5.31,0,0,0,1,6.5,5.31,5.31,0,0,0,4.9,4.9,5.31,5.31,0,0,0,6.5,1,5.31,5.31,0,0,0,8.1,4.9,5.31,5.31,0,0,0,12,6.5,5.46,5.46,0,0,0,6.5,12Z\"/>\n",
              "  </svg>\n",
              "    </button>\n",
              "    <script>\n",
              "      (() => {\n",
              "      const buttonEl =\n",
              "        document.querySelector('#id_8cf0f715-2de7-42b3-b485-1b2d9341029d button.colab-df-generate');\n",
              "      buttonEl.style.display =\n",
              "        google.colab.kernel.accessAllowed ? 'block' : 'none';\n",
              "\n",
              "      buttonEl.onclick = () => {\n",
              "        google.colab.notebook.generateWithVariable('df');\n",
              "      }\n",
              "      })();\n",
              "    </script>\n",
              "  </div>\n",
              "\n",
              "    </div>\n",
              "  </div>\n"
            ],
            "application/vnd.google.colaboratory.intrinsic+json": {
              "type": "dataframe",
              "variable_name": "df",
              "summary": "{\n  \"name\": \"df\",\n  \"rows\": 25,\n  \"fields\": [\n    {\n      \"column\": \"RANK\",\n      \"properties\": {\n        \"dtype\": \"number\",\n        \"std\": 7,\n        \"min\": 1,\n        \"max\": 25,\n        \"num_unique_values\": 25,\n        \"samples\": [\n          9,\n          17,\n          1\n        ],\n        \"semantic_type\": \"\",\n        \"description\": \"\"\n      }\n    },\n    {\n      \"column\": \"GRADE\",\n      \"properties\": {\n        \"dtype\": \"category\",\n        \"num_unique_values\": 7,\n        \"samples\": [\n          \"A++\",\n          \"A\",\n          \"A-\"\n        ],\n        \"semantic_type\": \"\",\n        \"description\": \"\"\n      }\n    },\n    {\n      \"column\": \"NAME\",\n      \"properties\": {\n        \"dtype\": \"string\",\n        \"num_unique_values\": 25,\n        \"samples\": [\n          \"Dude Perfect\",\n          \"whinderssonnunes\",\n          \"T-Series\"\n        ],\n        \"semantic_type\": \"\",\n        \"description\": \"\"\n      }\n    },\n    {\n      \"column\": \"VIDEOS\",\n      \"properties\": {\n        \"dtype\": \"number\",\n        \"std\": 10376,\n        \"min\": 97,\n        \"max\": 42404,\n        \"num_unique_values\": 25,\n        \"samples\": [\n          209,\n          363,\n          13629\n        ],\n        \"semantic_type\": \"\",\n        \"description\": \"\"\n      }\n    },\n    {\n      \"column\": \"SUBSCRIBERS\",\n      \"properties\": {\n        \"dtype\": \"number\",\n        \"std\": 18348940,\n        \"min\": 33362512,\n        \"max\": 105783888,\n        \"num_unique_values\": 25,\n        \"samples\": [\n          43796634,\n          36059417,\n          105783888\n        ],\n        \"semantic_type\": \"\",\n        \"description\": \"\"\n      }\n    },\n    {\n      \"column\": \"VIEWES\",\n      \"properties\": {\n        \"dtype\": \"number\",\n        \"std\": 16867839990,\n        \"min\": 255089844,\n        \"max\": 76945588449,\n        \"num_unique_values\": 25,\n        \"samples\": [\n          8354321862,\n          2965932071,\n          76945588449\n        ],\n        \"semantic_type\": \"\",\n        \"description\": \"\"\n      }\n    }\n  ]\n}"
            }
          },
          "metadata": {},
          "execution_count": 67
        }
      ]
    },
    {
      "cell_type": "code",
      "source": [
        "df=df[[\"NAME\",\"VIDEOS\",\"SUBSCRIBERS\",\"VIEWES\"]]\n",
        "df"
      ],
      "metadata": {
        "colab": {
          "base_uri": "https://localhost:8080/",
          "height": 833
        },
        "id": "u3GgVybvHB3E",
        "outputId": "0045e2e9-b57b-4daf-86a0-e033537296eb"
      },
      "execution_count": 68,
      "outputs": [
        {
          "output_type": "execute_result",
          "data": {
            "text/plain": [
              "                          NAME  VIDEOS  SUBSCRIBERS       VIEWES\n",
              "0                     T-Series   13629    105783888  76945588449\n",
              "1                    PewDiePie    3898     97853589  22298927681\n",
              "2              5-Minute Crafts    3341     58629572  14860695079\n",
              "3   Cocomelon - Nursery Rhymes     441     53163816  33519273951\n",
              "4                    SET India   31923     51784081  36464793233\n",
              "5              Canal KondZilla    1100     50560964  25446405744\n",
              "6                          WWE   42404     46098586  34085586984\n",
              "7                Justin Bieber     134     45873439    625649566\n",
              "8                 Dude Perfect     209     43796634   8354321862\n",
              "9                      Badabun    4406     41131131  13175713909\n",
              "10                  Ed Sheeran     151     40883164  17420235764\n",
              "11           Zee Music Company    4305     40675210  18597258212\n",
              "12              HolaSoyGerman.     137     39549835   3963774207\n",
              "13                 EminemMusic     117     38321579    723182792\n",
              "14                  Marshmello     323     36937062   6495653129\n",
              "15               Ariana Grande     128     36748165    852378143\n",
              "16            whinderssonnunes     363     36059417   2965932071\n",
              "17                 JuegaGerman    1635     35648722   9524890177\n",
              "18                 elrubiusOMG     809     35324033   7772447040\n",
              "19                Taylor Swift     166     34920060    255089844\n",
              "20                  Katy Perry      97     34416819    361332307\n",
              "21                 Felipe Neto    1872     33549096   7458531306\n",
              "22            JustinBieberVEVO     122     33514535  18873475304\n",
              "23                  Fernanfloo     534     33378699   7201866552\n",
              "24                TheEllenShow   10542     33362512  16519572219"
            ],
            "text/html": [
              "\n",
              "  <div id=\"df-dbb9cb26-7c61-470c-8440-200a156d83b2\" class=\"colab-df-container\">\n",
              "    <div>\n",
              "<style scoped>\n",
              "    .dataframe tbody tr th:only-of-type {\n",
              "        vertical-align: middle;\n",
              "    }\n",
              "\n",
              "    .dataframe tbody tr th {\n",
              "        vertical-align: top;\n",
              "    }\n",
              "\n",
              "    .dataframe thead th {\n",
              "        text-align: right;\n",
              "    }\n",
              "</style>\n",
              "<table border=\"1\" class=\"dataframe\">\n",
              "  <thead>\n",
              "    <tr style=\"text-align: right;\">\n",
              "      <th></th>\n",
              "      <th>NAME</th>\n",
              "      <th>VIDEOS</th>\n",
              "      <th>SUBSCRIBERS</th>\n",
              "      <th>VIEWES</th>\n",
              "    </tr>\n",
              "  </thead>\n",
              "  <tbody>\n",
              "    <tr>\n",
              "      <th>0</th>\n",
              "      <td>T-Series</td>\n",
              "      <td>13629</td>\n",
              "      <td>105783888</td>\n",
              "      <td>76945588449</td>\n",
              "    </tr>\n",
              "    <tr>\n",
              "      <th>1</th>\n",
              "      <td>PewDiePie</td>\n",
              "      <td>3898</td>\n",
              "      <td>97853589</td>\n",
              "      <td>22298927681</td>\n",
              "    </tr>\n",
              "    <tr>\n",
              "      <th>2</th>\n",
              "      <td>5-Minute Crafts</td>\n",
              "      <td>3341</td>\n",
              "      <td>58629572</td>\n",
              "      <td>14860695079</td>\n",
              "    </tr>\n",
              "    <tr>\n",
              "      <th>3</th>\n",
              "      <td>Cocomelon - Nursery Rhymes</td>\n",
              "      <td>441</td>\n",
              "      <td>53163816</td>\n",
              "      <td>33519273951</td>\n",
              "    </tr>\n",
              "    <tr>\n",
              "      <th>4</th>\n",
              "      <td>SET India</td>\n",
              "      <td>31923</td>\n",
              "      <td>51784081</td>\n",
              "      <td>36464793233</td>\n",
              "    </tr>\n",
              "    <tr>\n",
              "      <th>5</th>\n",
              "      <td>Canal KondZilla</td>\n",
              "      <td>1100</td>\n",
              "      <td>50560964</td>\n",
              "      <td>25446405744</td>\n",
              "    </tr>\n",
              "    <tr>\n",
              "      <th>6</th>\n",
              "      <td>WWE</td>\n",
              "      <td>42404</td>\n",
              "      <td>46098586</td>\n",
              "      <td>34085586984</td>\n",
              "    </tr>\n",
              "    <tr>\n",
              "      <th>7</th>\n",
              "      <td>Justin Bieber</td>\n",
              "      <td>134</td>\n",
              "      <td>45873439</td>\n",
              "      <td>625649566</td>\n",
              "    </tr>\n",
              "    <tr>\n",
              "      <th>8</th>\n",
              "      <td>Dude Perfect</td>\n",
              "      <td>209</td>\n",
              "      <td>43796634</td>\n",
              "      <td>8354321862</td>\n",
              "    </tr>\n",
              "    <tr>\n",
              "      <th>9</th>\n",
              "      <td>Badabun</td>\n",
              "      <td>4406</td>\n",
              "      <td>41131131</td>\n",
              "      <td>13175713909</td>\n",
              "    </tr>\n",
              "    <tr>\n",
              "      <th>10</th>\n",
              "      <td>Ed Sheeran</td>\n",
              "      <td>151</td>\n",
              "      <td>40883164</td>\n",
              "      <td>17420235764</td>\n",
              "    </tr>\n",
              "    <tr>\n",
              "      <th>11</th>\n",
              "      <td>Zee Music Company</td>\n",
              "      <td>4305</td>\n",
              "      <td>40675210</td>\n",
              "      <td>18597258212</td>\n",
              "    </tr>\n",
              "    <tr>\n",
              "      <th>12</th>\n",
              "      <td>HolaSoyGerman.</td>\n",
              "      <td>137</td>\n",
              "      <td>39549835</td>\n",
              "      <td>3963774207</td>\n",
              "    </tr>\n",
              "    <tr>\n",
              "      <th>13</th>\n",
              "      <td>EminemMusic</td>\n",
              "      <td>117</td>\n",
              "      <td>38321579</td>\n",
              "      <td>723182792</td>\n",
              "    </tr>\n",
              "    <tr>\n",
              "      <th>14</th>\n",
              "      <td>Marshmello</td>\n",
              "      <td>323</td>\n",
              "      <td>36937062</td>\n",
              "      <td>6495653129</td>\n",
              "    </tr>\n",
              "    <tr>\n",
              "      <th>15</th>\n",
              "      <td>Ariana Grande</td>\n",
              "      <td>128</td>\n",
              "      <td>36748165</td>\n",
              "      <td>852378143</td>\n",
              "    </tr>\n",
              "    <tr>\n",
              "      <th>16</th>\n",
              "      <td>whinderssonnunes</td>\n",
              "      <td>363</td>\n",
              "      <td>36059417</td>\n",
              "      <td>2965932071</td>\n",
              "    </tr>\n",
              "    <tr>\n",
              "      <th>17</th>\n",
              "      <td>JuegaGerman</td>\n",
              "      <td>1635</td>\n",
              "      <td>35648722</td>\n",
              "      <td>9524890177</td>\n",
              "    </tr>\n",
              "    <tr>\n",
              "      <th>18</th>\n",
              "      <td>elrubiusOMG</td>\n",
              "      <td>809</td>\n",
              "      <td>35324033</td>\n",
              "      <td>7772447040</td>\n",
              "    </tr>\n",
              "    <tr>\n",
              "      <th>19</th>\n",
              "      <td>Taylor Swift</td>\n",
              "      <td>166</td>\n",
              "      <td>34920060</td>\n",
              "      <td>255089844</td>\n",
              "    </tr>\n",
              "    <tr>\n",
              "      <th>20</th>\n",
              "      <td>Katy Perry</td>\n",
              "      <td>97</td>\n",
              "      <td>34416819</td>\n",
              "      <td>361332307</td>\n",
              "    </tr>\n",
              "    <tr>\n",
              "      <th>21</th>\n",
              "      <td>Felipe Neto</td>\n",
              "      <td>1872</td>\n",
              "      <td>33549096</td>\n",
              "      <td>7458531306</td>\n",
              "    </tr>\n",
              "    <tr>\n",
              "      <th>22</th>\n",
              "      <td>JustinBieberVEVO</td>\n",
              "      <td>122</td>\n",
              "      <td>33514535</td>\n",
              "      <td>18873475304</td>\n",
              "    </tr>\n",
              "    <tr>\n",
              "      <th>23</th>\n",
              "      <td>Fernanfloo</td>\n",
              "      <td>534</td>\n",
              "      <td>33378699</td>\n",
              "      <td>7201866552</td>\n",
              "    </tr>\n",
              "    <tr>\n",
              "      <th>24</th>\n",
              "      <td>TheEllenShow</td>\n",
              "      <td>10542</td>\n",
              "      <td>33362512</td>\n",
              "      <td>16519572219</td>\n",
              "    </tr>\n",
              "  </tbody>\n",
              "</table>\n",
              "</div>\n",
              "    <div class=\"colab-df-buttons\">\n",
              "\n",
              "  <div class=\"colab-df-container\">\n",
              "    <button class=\"colab-df-convert\" onclick=\"convertToInteractive('df-dbb9cb26-7c61-470c-8440-200a156d83b2')\"\n",
              "            title=\"Convert this dataframe to an interactive table.\"\n",
              "            style=\"display:none;\">\n",
              "\n",
              "  <svg xmlns=\"http://www.w3.org/2000/svg\" height=\"24px\" viewBox=\"0 -960 960 960\">\n",
              "    <path d=\"M120-120v-720h720v720H120Zm60-500h600v-160H180v160Zm220 220h160v-160H400v160Zm0 220h160v-160H400v160ZM180-400h160v-160H180v160Zm440 0h160v-160H620v160ZM180-180h160v-160H180v160Zm440 0h160v-160H620v160Z\"/>\n",
              "  </svg>\n",
              "    </button>\n",
              "\n",
              "  <style>\n",
              "    .colab-df-container {\n",
              "      display:flex;\n",
              "      gap: 12px;\n",
              "    }\n",
              "\n",
              "    .colab-df-convert {\n",
              "      background-color: #E8F0FE;\n",
              "      border: none;\n",
              "      border-radius: 50%;\n",
              "      cursor: pointer;\n",
              "      display: none;\n",
              "      fill: #1967D2;\n",
              "      height: 32px;\n",
              "      padding: 0 0 0 0;\n",
              "      width: 32px;\n",
              "    }\n",
              "\n",
              "    .colab-df-convert:hover {\n",
              "      background-color: #E2EBFA;\n",
              "      box-shadow: 0px 1px 2px rgba(60, 64, 67, 0.3), 0px 1px 3px 1px rgba(60, 64, 67, 0.15);\n",
              "      fill: #174EA6;\n",
              "    }\n",
              "\n",
              "    .colab-df-buttons div {\n",
              "      margin-bottom: 4px;\n",
              "    }\n",
              "\n",
              "    [theme=dark] .colab-df-convert {\n",
              "      background-color: #3B4455;\n",
              "      fill: #D2E3FC;\n",
              "    }\n",
              "\n",
              "    [theme=dark] .colab-df-convert:hover {\n",
              "      background-color: #434B5C;\n",
              "      box-shadow: 0px 1px 3px 1px rgba(0, 0, 0, 0.15);\n",
              "      filter: drop-shadow(0px 1px 2px rgba(0, 0, 0, 0.3));\n",
              "      fill: #FFFFFF;\n",
              "    }\n",
              "  </style>\n",
              "\n",
              "    <script>\n",
              "      const buttonEl =\n",
              "        document.querySelector('#df-dbb9cb26-7c61-470c-8440-200a156d83b2 button.colab-df-convert');\n",
              "      buttonEl.style.display =\n",
              "        google.colab.kernel.accessAllowed ? 'block' : 'none';\n",
              "\n",
              "      async function convertToInteractive(key) {\n",
              "        const element = document.querySelector('#df-dbb9cb26-7c61-470c-8440-200a156d83b2');\n",
              "        const dataTable =\n",
              "          await google.colab.kernel.invokeFunction('convertToInteractive',\n",
              "                                                    [key], {});\n",
              "        if (!dataTable) return;\n",
              "\n",
              "        const docLinkHtml = 'Like what you see? Visit the ' +\n",
              "          '<a target=\"_blank\" href=https://colab.research.google.com/notebooks/data_table.ipynb>data table notebook</a>'\n",
              "          + ' to learn more about interactive tables.';\n",
              "        element.innerHTML = '';\n",
              "        dataTable['output_type'] = 'display_data';\n",
              "        await google.colab.output.renderOutput(dataTable, element);\n",
              "        const docLink = document.createElement('div');\n",
              "        docLink.innerHTML = docLinkHtml;\n",
              "        element.appendChild(docLink);\n",
              "      }\n",
              "    </script>\n",
              "  </div>\n",
              "\n",
              "\n",
              "    <div id=\"df-63742c41-dadf-4d30-baf5-634e74dacfa2\">\n",
              "      <button class=\"colab-df-quickchart\" onclick=\"quickchart('df-63742c41-dadf-4d30-baf5-634e74dacfa2')\"\n",
              "                title=\"Suggest charts\"\n",
              "                style=\"display:none;\">\n",
              "\n",
              "<svg xmlns=\"http://www.w3.org/2000/svg\" height=\"24px\"viewBox=\"0 0 24 24\"\n",
              "     width=\"24px\">\n",
              "    <g>\n",
              "        <path d=\"M19 3H5c-1.1 0-2 .9-2 2v14c0 1.1.9 2 2 2h14c1.1 0 2-.9 2-2V5c0-1.1-.9-2-2-2zM9 17H7v-7h2v7zm4 0h-2V7h2v10zm4 0h-2v-4h2v4z\"/>\n",
              "    </g>\n",
              "</svg>\n",
              "      </button>\n",
              "\n",
              "<style>\n",
              "  .colab-df-quickchart {\n",
              "      --bg-color: #E8F0FE;\n",
              "      --fill-color: #1967D2;\n",
              "      --hover-bg-color: #E2EBFA;\n",
              "      --hover-fill-color: #174EA6;\n",
              "      --disabled-fill-color: #AAA;\n",
              "      --disabled-bg-color: #DDD;\n",
              "  }\n",
              "\n",
              "  [theme=dark] .colab-df-quickchart {\n",
              "      --bg-color: #3B4455;\n",
              "      --fill-color: #D2E3FC;\n",
              "      --hover-bg-color: #434B5C;\n",
              "      --hover-fill-color: #FFFFFF;\n",
              "      --disabled-bg-color: #3B4455;\n",
              "      --disabled-fill-color: #666;\n",
              "  }\n",
              "\n",
              "  .colab-df-quickchart {\n",
              "    background-color: var(--bg-color);\n",
              "    border: none;\n",
              "    border-radius: 50%;\n",
              "    cursor: pointer;\n",
              "    display: none;\n",
              "    fill: var(--fill-color);\n",
              "    height: 32px;\n",
              "    padding: 0;\n",
              "    width: 32px;\n",
              "  }\n",
              "\n",
              "  .colab-df-quickchart:hover {\n",
              "    background-color: var(--hover-bg-color);\n",
              "    box-shadow: 0 1px 2px rgba(60, 64, 67, 0.3), 0 1px 3px 1px rgba(60, 64, 67, 0.15);\n",
              "    fill: var(--button-hover-fill-color);\n",
              "  }\n",
              "\n",
              "  .colab-df-quickchart-complete:disabled,\n",
              "  .colab-df-quickchart-complete:disabled:hover {\n",
              "    background-color: var(--disabled-bg-color);\n",
              "    fill: var(--disabled-fill-color);\n",
              "    box-shadow: none;\n",
              "  }\n",
              "\n",
              "  .colab-df-spinner {\n",
              "    border: 2px solid var(--fill-color);\n",
              "    border-color: transparent;\n",
              "    border-bottom-color: var(--fill-color);\n",
              "    animation:\n",
              "      spin 1s steps(1) infinite;\n",
              "  }\n",
              "\n",
              "  @keyframes spin {\n",
              "    0% {\n",
              "      border-color: transparent;\n",
              "      border-bottom-color: var(--fill-color);\n",
              "      border-left-color: var(--fill-color);\n",
              "    }\n",
              "    20% {\n",
              "      border-color: transparent;\n",
              "      border-left-color: var(--fill-color);\n",
              "      border-top-color: var(--fill-color);\n",
              "    }\n",
              "    30% {\n",
              "      border-color: transparent;\n",
              "      border-left-color: var(--fill-color);\n",
              "      border-top-color: var(--fill-color);\n",
              "      border-right-color: var(--fill-color);\n",
              "    }\n",
              "    40% {\n",
              "      border-color: transparent;\n",
              "      border-right-color: var(--fill-color);\n",
              "      border-top-color: var(--fill-color);\n",
              "    }\n",
              "    60% {\n",
              "      border-color: transparent;\n",
              "      border-right-color: var(--fill-color);\n",
              "    }\n",
              "    80% {\n",
              "      border-color: transparent;\n",
              "      border-right-color: var(--fill-color);\n",
              "      border-bottom-color: var(--fill-color);\n",
              "    }\n",
              "    90% {\n",
              "      border-color: transparent;\n",
              "      border-bottom-color: var(--fill-color);\n",
              "    }\n",
              "  }\n",
              "</style>\n",
              "\n",
              "      <script>\n",
              "        async function quickchart(key) {\n",
              "          const quickchartButtonEl =\n",
              "            document.querySelector('#' + key + ' button');\n",
              "          quickchartButtonEl.disabled = true;  // To prevent multiple clicks.\n",
              "          quickchartButtonEl.classList.add('colab-df-spinner');\n",
              "          try {\n",
              "            const charts = await google.colab.kernel.invokeFunction(\n",
              "                'suggestCharts', [key], {});\n",
              "          } catch (error) {\n",
              "            console.error('Error during call to suggestCharts:', error);\n",
              "          }\n",
              "          quickchartButtonEl.classList.remove('colab-df-spinner');\n",
              "          quickchartButtonEl.classList.add('colab-df-quickchart-complete');\n",
              "        }\n",
              "        (() => {\n",
              "          let quickchartButtonEl =\n",
              "            document.querySelector('#df-63742c41-dadf-4d30-baf5-634e74dacfa2 button');\n",
              "          quickchartButtonEl.style.display =\n",
              "            google.colab.kernel.accessAllowed ? 'block' : 'none';\n",
              "        })();\n",
              "      </script>\n",
              "    </div>\n",
              "\n",
              "  <div id=\"id_49cc3643-2815-440f-b9a9-b25e835ea9b6\">\n",
              "    <style>\n",
              "      .colab-df-generate {\n",
              "        background-color: #E8F0FE;\n",
              "        border: none;\n",
              "        border-radius: 50%;\n",
              "        cursor: pointer;\n",
              "        display: none;\n",
              "        fill: #1967D2;\n",
              "        height: 32px;\n",
              "        padding: 0 0 0 0;\n",
              "        width: 32px;\n",
              "      }\n",
              "\n",
              "      .colab-df-generate:hover {\n",
              "        background-color: #E2EBFA;\n",
              "        box-shadow: 0px 1px 2px rgba(60, 64, 67, 0.3), 0px 1px 3px 1px rgba(60, 64, 67, 0.15);\n",
              "        fill: #174EA6;\n",
              "      }\n",
              "\n",
              "      [theme=dark] .colab-df-generate {\n",
              "        background-color: #3B4455;\n",
              "        fill: #D2E3FC;\n",
              "      }\n",
              "\n",
              "      [theme=dark] .colab-df-generate:hover {\n",
              "        background-color: #434B5C;\n",
              "        box-shadow: 0px 1px 3px 1px rgba(0, 0, 0, 0.15);\n",
              "        filter: drop-shadow(0px 1px 2px rgba(0, 0, 0, 0.3));\n",
              "        fill: #FFFFFF;\n",
              "      }\n",
              "    </style>\n",
              "    <button class=\"colab-df-generate\" onclick=\"generateWithVariable('df')\"\n",
              "            title=\"Generate code using this dataframe.\"\n",
              "            style=\"display:none;\">\n",
              "\n",
              "  <svg xmlns=\"http://www.w3.org/2000/svg\" height=\"24px\"viewBox=\"0 0 24 24\"\n",
              "       width=\"24px\">\n",
              "    <path d=\"M7,19H8.4L18.45,9,17,7.55,7,17.6ZM5,21V16.75L18.45,3.32a2,2,0,0,1,2.83,0l1.4,1.43a1.91,1.91,0,0,1,.58,1.4,1.91,1.91,0,0,1-.58,1.4L9.25,21ZM18.45,9,17,7.55Zm-12,3A5.31,5.31,0,0,0,4.9,8.1,5.31,5.31,0,0,0,1,6.5,5.31,5.31,0,0,0,4.9,4.9,5.31,5.31,0,0,0,6.5,1,5.31,5.31,0,0,0,8.1,4.9,5.31,5.31,0,0,0,12,6.5,5.46,5.46,0,0,0,6.5,12Z\"/>\n",
              "  </svg>\n",
              "    </button>\n",
              "    <script>\n",
              "      (() => {\n",
              "      const buttonEl =\n",
              "        document.querySelector('#id_49cc3643-2815-440f-b9a9-b25e835ea9b6 button.colab-df-generate');\n",
              "      buttonEl.style.display =\n",
              "        google.colab.kernel.accessAllowed ? 'block' : 'none';\n",
              "\n",
              "      buttonEl.onclick = () => {\n",
              "        google.colab.notebook.generateWithVariable('df');\n",
              "      }\n",
              "      })();\n",
              "    </script>\n",
              "  </div>\n",
              "\n",
              "    </div>\n",
              "  </div>\n"
            ],
            "application/vnd.google.colaboratory.intrinsic+json": {
              "type": "dataframe",
              "variable_name": "df",
              "summary": "{\n  \"name\": \"df\",\n  \"rows\": 25,\n  \"fields\": [\n    {\n      \"column\": \"NAME\",\n      \"properties\": {\n        \"dtype\": \"string\",\n        \"num_unique_values\": 25,\n        \"samples\": [\n          \"Dude Perfect\",\n          \"whinderssonnunes\",\n          \"T-Series\"\n        ],\n        \"semantic_type\": \"\",\n        \"description\": \"\"\n      }\n    },\n    {\n      \"column\": \"VIDEOS\",\n      \"properties\": {\n        \"dtype\": \"number\",\n        \"std\": 10376,\n        \"min\": 97,\n        \"max\": 42404,\n        \"num_unique_values\": 25,\n        \"samples\": [\n          209,\n          363,\n          13629\n        ],\n        \"semantic_type\": \"\",\n        \"description\": \"\"\n      }\n    },\n    {\n      \"column\": \"SUBSCRIBERS\",\n      \"properties\": {\n        \"dtype\": \"number\",\n        \"std\": 18348940,\n        \"min\": 33362512,\n        \"max\": 105783888,\n        \"num_unique_values\": 25,\n        \"samples\": [\n          43796634,\n          36059417,\n          105783888\n        ],\n        \"semantic_type\": \"\",\n        \"description\": \"\"\n      }\n    },\n    {\n      \"column\": \"VIEWES\",\n      \"properties\": {\n        \"dtype\": \"number\",\n        \"std\": 16867839990,\n        \"min\": 255089844,\n        \"max\": 76945588449,\n        \"num_unique_values\": 25,\n        \"samples\": [\n          8354321862,\n          2965932071,\n          76945588449\n        ],\n        \"semantic_type\": \"\",\n        \"description\": \"\"\n      }\n    }\n  ]\n}"
            }
          },
          "metadata": {},
          "execution_count": 68
        }
      ]
    },
    {
      "cell_type": "code",
      "source": [
        "llm_loader=DataFrameLoader(df,page_content_column=\"NAME\")\n",
        "docs=llm_loader.load()\n",
        "docs"
      ],
      "metadata": {
        "colab": {
          "base_uri": "https://localhost:8080/"
        },
        "id": "3L9fkWxaIAmi",
        "outputId": "bef6f4d4-87fe-47c2-db1f-1b02390ce1c1"
      },
      "execution_count": 69,
      "outputs": [
        {
          "output_type": "execute_result",
          "data": {
            "text/plain": [
              "[Document(metadata={'VIDEOS': 13629, 'SUBSCRIBERS': 105783888, 'VIEWES': 76945588449}, page_content='T-Series'),\n",
              " Document(metadata={'VIDEOS': 3898, 'SUBSCRIBERS': 97853589, 'VIEWES': 22298927681}, page_content='PewDiePie'),\n",
              " Document(metadata={'VIDEOS': 3341, 'SUBSCRIBERS': 58629572, 'VIEWES': 14860695079}, page_content='5-Minute Crafts'),\n",
              " Document(metadata={'VIDEOS': 441, 'SUBSCRIBERS': 53163816, 'VIEWES': 33519273951}, page_content='Cocomelon - Nursery Rhymes'),\n",
              " Document(metadata={'VIDEOS': 31923, 'SUBSCRIBERS': 51784081, 'VIEWES': 36464793233}, page_content='SET India'),\n",
              " Document(metadata={'VIDEOS': 1100, 'SUBSCRIBERS': 50560964, 'VIEWES': 25446405744}, page_content='Canal KondZilla'),\n",
              " Document(metadata={'VIDEOS': 42404, 'SUBSCRIBERS': 46098586, 'VIEWES': 34085586984}, page_content='WWE'),\n",
              " Document(metadata={'VIDEOS': 134, 'SUBSCRIBERS': 45873439, 'VIEWES': 625649566}, page_content='Justin Bieber'),\n",
              " Document(metadata={'VIDEOS': 209, 'SUBSCRIBERS': 43796634, 'VIEWES': 8354321862}, page_content='Dude Perfect'),\n",
              " Document(metadata={'VIDEOS': 4406, 'SUBSCRIBERS': 41131131, 'VIEWES': 13175713909}, page_content='Badabun'),\n",
              " Document(metadata={'VIDEOS': 151, 'SUBSCRIBERS': 40883164, 'VIEWES': 17420235764}, page_content='Ed Sheeran'),\n",
              " Document(metadata={'VIDEOS': 4305, 'SUBSCRIBERS': 40675210, 'VIEWES': 18597258212}, page_content='Zee Music Company'),\n",
              " Document(metadata={'VIDEOS': 137, 'SUBSCRIBERS': 39549835, 'VIEWES': 3963774207}, page_content='HolaSoyGerman.'),\n",
              " Document(metadata={'VIDEOS': 117, 'SUBSCRIBERS': 38321579, 'VIEWES': 723182792}, page_content='EminemMusic'),\n",
              " Document(metadata={'VIDEOS': 323, 'SUBSCRIBERS': 36937062, 'VIEWES': 6495653129}, page_content='Marshmello'),\n",
              " Document(metadata={'VIDEOS': 128, 'SUBSCRIBERS': 36748165, 'VIEWES': 852378143}, page_content='Ariana Grande'),\n",
              " Document(metadata={'VIDEOS': 363, 'SUBSCRIBERS': 36059417, 'VIEWES': 2965932071}, page_content='whinderssonnunes'),\n",
              " Document(metadata={'VIDEOS': 1635, 'SUBSCRIBERS': 35648722, 'VIEWES': 9524890177}, page_content='JuegaGerman'),\n",
              " Document(metadata={'VIDEOS': 809, 'SUBSCRIBERS': 35324033, 'VIEWES': 7772447040}, page_content='elrubiusOMG'),\n",
              " Document(metadata={'VIDEOS': 166, 'SUBSCRIBERS': 34920060, 'VIEWES': 255089844}, page_content='Taylor Swift'),\n",
              " Document(metadata={'VIDEOS': 97, 'SUBSCRIBERS': 34416819, 'VIEWES': 361332307}, page_content='Katy Perry'),\n",
              " Document(metadata={'VIDEOS': 1872, 'SUBSCRIBERS': 33549096, 'VIEWES': 7458531306}, page_content='Felipe Neto'),\n",
              " Document(metadata={'VIDEOS': 122, 'SUBSCRIBERS': 33514535, 'VIEWES': 18873475304}, page_content='JustinBieberVEVO'),\n",
              " Document(metadata={'VIDEOS': 534, 'SUBSCRIBERS': 33378699, 'VIEWES': 7201866552}, page_content='Fernanfloo'),\n",
              " Document(metadata={'VIDEOS': 10542, 'SUBSCRIBERS': 33362512, 'VIEWES': 16519572219}, page_content='TheEllenShow')]"
            ]
          },
          "metadata": {},
          "execution_count": 69
        }
      ]
    },
    {
      "cell_type": "code",
      "source": [
        "urls = [\n",
        "    \"https://www.apple.com/in/support/products/faqs.html\",\n",
        "    \"https://www.apple.com/legal/sales-support/\",\n",
        "]\n",
        "loader = UnstructuredURLLoader(urls=urls)\n",
        "data = loader.load()\n",
        "data"
      ],
      "metadata": {
        "colab": {
          "base_uri": "https://localhost:8080/"
        },
        "id": "eRFWci_NJ97N",
        "outputId": "2972963d-2075-4106-b0ed-1ab459698980"
      },
      "execution_count": 70,
      "outputs": [
        {
          "output_type": "execute_result",
          "data": {
            "text/plain": [
              "[Document(metadata={'source': 'https://www.apple.com/in/support/products/faqs.html'}, page_content='Frequently Asked Questions\\n\\nWhere can I purchase the AppleCare Protection Plan?\\n\\nThe AppleCare Protection Plan is available at the Apple Online Store and many Apple-authorised resellers and wireless service providers.\\n\\nHow do I initiate repair service under the AppleCare Protection Plan?\\n\\nCarry-in service. Carry your product into an Apple Authorised Service Provider.\\n\\nOnsite service. Contact us and we’ll help you arrange an Apple-authorised repair for your desktop Mac at your location, at no additional charge.\\n\\nDo-It-Yourself service. Contact us and we may be able to send you what you need to service your own product, such as accessories.\\n\\nThe AppleCare Protection Plan for Mac, for iPod and for Apple TV provide global repair coverage. Service will be limited to the options available in the country where service is requested. Service options, parts availability and response times vary by country.\\n\\nAll repairs will be completed using genuine Apple parts for repair service. All repairs are performed by Apple-authorised technicians.\\n\\nPlease see the AppleCare Protection Plan Terms and Conditions for complete details.\\n\\nIs the AppleCare Protection Plan transferable?\\n\\nYes. If you choose to sell or give away your Apple product, you can also transfer the ownership of the AppleCare Protection Plan. Please see the Terms and Conditions for complete details.\\n\\nWhen I purchase the AppleCare Protection Plan, do I need to register it?\\n\\nIn most cases, if you purchase the AppleCare Protection Plan at the same time as your Apple hardware from selected Apple resellers, you will not need to register it as your AppleCare agreement will be automatically registered.\\n\\nWith automatic registration, you will receive a proof of coverage, either immediately in the form of a receipt that indicates the end date of your AppleCare product coverage, or within 30 days in the form of a Proof of Coverage certificate.\\n\\nYou’ll need to register your AppleCare Protection Plan only if you purchase the plan and your covered product separately, or if you purchase your hardware from a reseller who does not automatically register the plan.\\n\\nYou can register your AppleCare Protection Plan here or contact Apple at the phone number included in your AppleCare Protection Plan package. To verify that your hardware is covered under the AppleCare Protection Plan, click here. The registration process can take up to 24 hours to be visible in Apple’s systems.\\n\\nFor example, after you register, Apple will have your hardware, AppleCare Protection Plan and personal contact information on file. When you contact Apple for service or support, Apple can access your information straight away and start addressing your issue, rather than spending time verifying your eligibility.\\n\\nHow can I verify how much coverage I have left?\\n\\nYou can verify your coverage here.\\n\\nMore ways to shop: Find an Apple Store or other retailer near you. Or call 000800 040 1966.\\n\\nIndia\\n\\nCopyright © 2025 Apple Inc. All rights reserved.\\n\\nPrivacy Policy\\n\\nTerms of Use\\n\\nSales Policy\\n\\nLegal\\n\\nSite Map'),\n",
              " Document(metadata={'source': 'https://www.apple.com/legal/sales-support/'}, page_content='Sales & Support\\n\\nGet familiar with the policies, terms, and conditions for the purchase, support, and servicing of your Apple products.\\n\\nAppleCare+ with Theft and Loss\\n\\nAppleCare+ with Theft and Loss provides everything included in AppleCare+ and up to two incidents of theft or loss coverage every 12 months.\\n\\nView the Theft and Loss Insurance Documents\\n\\nAppleCare+\\n\\nAppleCare+ provides additional hardware service and technical support from Apple, including coverage for unlimited incidents of accidental damage per device covered.\\n\\nExplore the AppleCare+ Terms and Conditions\\n\\nAppleCare Plans\\n\\nSome services and repairs are covered under AppleCare plans. Check the terms and conditions of specific plans to verify which support services may be included with your Apple products.\\n\\nAppleCare Protection Plan for Macs, iPods, Apple TV\\n\\nAppleCare Protection Plan for iPhone\\n\\nAppleCare Protection Plan for iPad\\n\\nAppleCare for Enterprise\\n\\nAppleCare+ for Business Essentials\\n\\nAppleCare+ for Business Essentials Service Plan Support\\n\\nAppleCare+ for Schools\\n\\nAppleCare Repair Agreement\\n\\nAppleCare Parts Agreement\\n\\nAppleCare Technical Support Services Terms and Conditions\\n\\nAppleCare Protection Plan for 1:1 Learning Solutions\\n\\nAppleCare Service Plan\\n\\nAppleCare Cooperative Support Terms and Conditions\\n\\nRepairs\\n\\nInformation about repairs or service for Apple products that are not covered under an Apple warranty, extended service contract, or statutory warranty rights.\\n\\nExplore Repair Terms and Conditions\\n\\nExpress Replacement Service\\n\\nView the terms of our Express Replacement Service.\\n\\nWarranty or AppleCare Plan\\n\\nOut of Warranty\\n\\nRemote Access Technical Assistance Terms and Conditions\\n\\nFind provisions specific to your country in the Remote Access Technical Assistance terms and conditions.\\n\\nRead the Technical Support terms\\n\\nRemote Support Terms and Conditions (Bomgar Software)\\n\\nFor details on the use of Bomgar™Software and the provision of remote support by Apple, review the terms and conditions (not applicable in Europe, the Middle East, Africa, or India).\\n\\nSee the Bomgar terms\\n\\nSales Policies\\n\\nRead the sales, purchase, return, and refund policies for various Apple sales channels.\\n\\nApple Online Store\\n\\nApple Online Store for Enterprise\\n\\nApple Online Store for K-12 Schools\\n\\nApple Online Store for Higher Education\\n\\nApple Online Store for Education Individuals\\n\\nApple Retail Store\\n\\nApple Authorized Reseller\\n\\nGlobal Trade Compliance\\n\\niPhone Upgrade Program\\n\\nLearn about the Terms &Conditions related to the purchase of an iPhone under the iPhone Upgrade Program.\\n\\niPhone Upgrade Program\\n\\niPhone Upgrade Program Text Notifications\\n\\niPhone Payments\\n\\nTerms and Conditions for purchasing an iPhone with iPhone Payments.\\n\\nLearn about iPhone Payments\\n\\nTrade In\\n\\nTerms and Conditions for trading in a device under the Trade In program.\\n\\nLearn about the Trade In program\\n\\nApple Reuse & Recycle Program\\n\\nTerms and Conditions for recycling a device under the Apple Reuse & Recycling program.\\n\\nLearn more about Apple Reuse & Recycle Program\\n\\nApple Gift Cards and Codes\\n\\nTerms and conditions for the Apple Gift Card and App Store & iTunes gift card.\\n\\nReview Apple Gift Card terms\\n\\nTraining Service Terms and Conditions\\n\\nSpecifics about the training and services provided by Apple at customers’ requests.\\n\\nLearn about Training Service\\n\\nCertification Agreements and Policies\\n\\nParticipation in Apple Training and Certification programs is dependent on adherence to the program terms and conditions that are, or were, in effect at the time of the relevant certification exam or training.\\n\\nExplore Training and Certification\\n\\nSupport Communities Terms of Use\\n\\nGuidelines for participating in the Apple Discussion Forums.\\n\\nLearn about Support Communities\\n\\n1 If you purchased AppleCare+ with Theft and Loss prior to September 15, 2020, your coverage is an insurance product providing two claims for accidental damage from handling, theft or loss every 24 months. View the Theft and Loss Insurance Documents applicable to your coverage.')]"
            ]
          },
          "metadata": {},
          "execution_count": 70
        }
      ]
    },
    {
      "cell_type": "code",
      "source": [
        "query=\"Nikola Tesla\"\n",
        "llm_data=WikipediaLoader(query=query,load_max_docs=3,doc_content_chars_max=20000)\n",
        "data=llm_data.load()\n",
        "data"
      ],
      "metadata": {
        "colab": {
          "base_uri": "https://localhost:8080/"
        },
        "id": "i4SoHO3ARIIo",
        "outputId": "c9101df9-e915-44a9-b073-5067cd12150d"
      },
      "execution_count": 71,
      "outputs": [
        {
          "output_type": "execute_result",
          "data": {
            "text/plain": [
              "[Document(metadata={'title': 'Nikola Tesla', 'summary': \"Nikola Tesla (; Serbian Cyrillic: Никола Тесла [nǐkola têsla]; 10 July 1856 – 7 January 1943) was a Serbian-American engineer, futurist, and inventor. He is known for his contributions to the design of the modern alternating current (AC) electricity supply system.\\nBorn and raised in the Austrian Empire, Tesla first studied engineering and physics in the 1870s without receiving a degree. He then gained practical experience in the early 1880s working in telephony and at Continental Edison in the new electric power industry. In 1884 he immigrated to the United States, where he became a naturalized citizen. He worked for a short time at the Edison Machine Works in New York City before he struck out on his own. With the help of partners to finance and market his ideas, Tesla set up laboratories and companies in New York to develop a range of electrical and mechanical devices. His AC induction motor and related polyphase AC patents, licensed by Westinghouse Electric in 1888, earned him a considerable amount of money and became the cornerstone of the polyphase system which that company eventually marketed.\\nAttempting to develop inventions he could patent and market, Tesla conducted a range of experiments with mechanical oscillators/generators, electrical discharge tubes, and early X-ray imaging. He also built a wirelessly controlled boat, one of the first ever exhibited. Tesla became well known as an inventor and demonstrated his achievements to celebrities and wealthy patrons at his lab, and was noted for his showmanship at public lectures. Throughout the 1890s, Tesla pursued his ideas for wireless lighting and worldwide wireless electric power distribution in his high-voltage, high-frequency power experiments in New York and Colorado Springs. In 1893, he made pronouncements on the possibility of wireless communication with his devices. Tesla tried to put these ideas to practical use in his unfinished Wardenclyffe Tower project, an intercontinental wireless communication and power transmitter, but ran out of funding before he could complete it.\\nAfter Wardenclyffe, Tesla experimented with a series of inventions in the 1910s and 1920s with varying degrees of success. Having spent most of his money, Tesla lived in a series of New York hotels, leaving behind unpaid bills. He died in New York City in January 1943. Tesla's work fell into relative obscurity following his death, until 1960, when the General Conference on Weights and Measures named the International System of Units (SI) measurement of magnetic flux density the tesla in his honor. There has been a resurgence in popular interest in Tesla since the 1990s.\\n\\n\", 'source': 'https://en.wikipedia.org/wiki/Nikola_Tesla'}, page_content='Nikola Tesla (; Serbian Cyrillic: Никола Тесла [nǐkola têsla]; 10 July 1856 – 7 January 1943) was a Serbian-American engineer, futurist, and inventor. He is known for his contributions to the design of the modern alternating current (AC) electricity supply system.\\nBorn and raised in the Austrian Empire, Tesla first studied engineering and physics in the 1870s without receiving a degree. He then gained practical experience in the early 1880s working in telephony and at Continental Edison in the new electric power industry. In 1884 he immigrated to the United States, where he became a naturalized citizen. He worked for a short time at the Edison Machine Works in New York City before he struck out on his own. With the help of partners to finance and market his ideas, Tesla set up laboratories and companies in New York to develop a range of electrical and mechanical devices. His AC induction motor and related polyphase AC patents, licensed by Westinghouse Electric in 1888, earned him a considerable amount of money and became the cornerstone of the polyphase system which that company eventually marketed.\\nAttempting to develop inventions he could patent and market, Tesla conducted a range of experiments with mechanical oscillators/generators, electrical discharge tubes, and early X-ray imaging. He also built a wirelessly controlled boat, one of the first ever exhibited. Tesla became well known as an inventor and demonstrated his achievements to celebrities and wealthy patrons at his lab, and was noted for his showmanship at public lectures. Throughout the 1890s, Tesla pursued his ideas for wireless lighting and worldwide wireless electric power distribution in his high-voltage, high-frequency power experiments in New York and Colorado Springs. In 1893, he made pronouncements on the possibility of wireless communication with his devices. Tesla tried to put these ideas to practical use in his unfinished Wardenclyffe Tower project, an intercontinental wireless communication and power transmitter, but ran out of funding before he could complete it.\\nAfter Wardenclyffe, Tesla experimented with a series of inventions in the 1910s and 1920s with varying degrees of success. Having spent most of his money, Tesla lived in a series of New York hotels, leaving behind unpaid bills. He died in New York City in January 1943. Tesla\\'s work fell into relative obscurity following his death, until 1960, when the General Conference on Weights and Measures named the International System of Units (SI) measurement of magnetic flux density the tesla in his honor. There has been a resurgence in popular interest in Tesla since the 1990s.\\n\\n\\n== Early years ==\\n\\nNikola Tesla was born into an ethnic Serb family in the village of Smiljan, within the Military Frontier, in the Austrian Empire (present-day Croatia), on 10 July 1856. His father, Milutin Tesla (1819–1879), was a priest of the Eastern Orthodox Church. His father\\'s brother Josif was a lecturer at a military academy who wrote several textbooks on mathematics.\\nTesla\\'s mother, Georgina \"Đuka\" Mandić (1822–1892), whose father was also an Eastern Orthodox priest, had a talent for making home craft tools and mechanical appliances and the ability to memorize Serbian epic poems. Đuka had never received a formal education. Tesla credited his eidetic memory and creative abilities to his mother\\'s genetics and influence.\\nTesla was the fourth of five children. He had three sisters, Milka, Angelina, and Marica, and an older brother named Dane, who was killed in a horse-riding accident when Tesla was aged six or seven. In 1861, Tesla attended primary school in Smiljan where he studied German, arithmetic, and religion. In 1862, the Tesla family moved to the nearby town of Gospić, where Tesla\\'s father worked as parish priest. Nikola completed primary school, followed by middle school. In 1870, Tesla moved to Karlovac to attend high school at the Higher Real Gymnasium where the classes were held in German, as it was usual throughout schools within the Austro-Hungarian Military Frontier. Later in his patent applications, before he obtained American citizenship, Tesla would identify himself as \"of Smiljan, Lika, border country of Austria-Hungary\".\\n\\nTesla later wrote that he became interested in demonstrations of electricity by his physics professor. Tesla noted that these demonstrations of this \"mysterious phenomena\" made him want \"to know more of this wonderful force\". Tesla was able to perform integral calculus in his head, which prompted his teachers to believe that he was cheating. He finished a four-year term in three years, graduating in 1873.\\nAfter graduating Tesla returned to Smiljan but soon contracted cholera, was bedridden for nine months and was near death several times. In a moment of despair, Tesla\\'s father (who had originally wanted him to enter the priesthood), promised to send him to the best engineering school if he recovered from the illness. Tesla later said that he had read Mark Twain\\'s earlier works while recovering from his illness.\\nThe next year Tesla evaded conscription into the Austro-Hungarian Army in Smiljan by running away southeast of Lika to Tomingaj, near Gračac. There he explored the mountains wearing hunter\\'s garb. Tesla said that this contact with nature made him stronger, both physically and mentally. He enrolled at the Imperial-Royal Technical College in Graz in 1875 on a Military Frontier scholarship. Tesla passed nine exams (nearly twice as many as required) and received a letter of commendation from the dean of the technical faculty to his father, which stated, \"Your son is a star of first rank.\" At Graz, Tesla noted his fascination with the detailed lectures on electricity presented by Professor Jakob Pöschl and described how he made suggestions on improving the design of an electric motor the professor was demonstrating. But by his third year he was failing in school and never graduated, leaving Graz in December 1878. One biographer suggests Tesla was not studying and may have been expelled for gambling and womanizing.\\n\\nTesla\\'s family did not hear from him after he left school. There was a rumor among his classmates that he had drowned in the nearby river Mur but in January one of them ran into Tesla in the town of Maribor and reported that encounter to Tesla\\'s family. It turned out Tesla had been working there as a draftsman for 60 florins per month. In March 1879, Milutin finally located his son and tried to convince him to return home and take up his education in Prague. Tesla returned to Gospić later that month when he was deported for not having a residence permit. Tesla\\'s father died the next month, on 17 April 1879, at the age of 60 after an unspecified illness. During the rest of the year Tesla taught a large class of students in his old school in Gospić.\\nIn January 1880, two of Tesla\\'s uncles put together enough money to help him leave Gospić for Prague, where he was to study. He arrived too late to enroll at Charles-Ferdinand University; he had never studied Greek, a required subject; and he was illiterate in Czech, another required subject. Tesla did, however, attend lectures in philosophy at the university as an auditor but he did not receive grades for the courses.\\n\\n\\n=== Working at Budapest Telephone Exchange ===\\nTesla moved to Budapest, Hungary, in 1881 to work under Tivadar Puskás at a telegraph company, the Budapest Telephone Exchange. Upon arrival, Tesla realized that the company, then under construction, was not functional, so he worked as a draftsman in the Central Telegraph Office instead. Within a few months, the Budapest Telephone Exchange became functional, and Tesla was allocated the chief electrician position. During his employment, Tesla made many improvements to the Central Station equipment and claimed to have perfected a telephone repeater or amplifier, which was never patented nor publicly described.\\n\\n\\n== Working at Edison ==\\nIn 1882, Tivadar Puskás got Tesla another job in Paris with the Continental Edison Company. Tesla began working in what was then a brand new industry, installing indoor incandescent lighting citywide in large scale electric power utility. The company had several subdivisions and Tesla worked at the Société Electrique Edison, the division in the Ivry-sur-Seine suburb of Paris in charge of installing the lighting system. There he gained a great deal of practical experience in electrical engineering. Management took notice of his advanced knowledge in engineering and physics and soon had him designing and building improved versions of generating dynamos and motors. They also sent him on to troubleshoot engineering problems at other Edison utilities being built around France and in Germany.\\n\\n\\n=== Moving to the United States ===\\n\\nIn 1884, Edison manager Charles Batchelor, who had been overseeing the Paris installation, was brought back to the United States to manage the Edison Machine Works, a manufacturing division situated in New York City, and asked that Tesla be brought to the United States as well. In June 1884, Tesla emigrated and began working almost immediately at the Machine Works on Manhattan\\'s Lower East Side, an overcrowded shop with a workforce of several hundred machinists, laborers, managing staff, and 20 \"field engineers\" struggling with the task of building the large electric utility in that city. As in Paris, Tesla was working on troubleshooting installations and improving generators. Historian W. Bernard Carlson notes Tesla may have met company founder Thomas Edison only a couple of times. One of those times was noted in Tesla\\'s autobiography where, after staying up all night repairing the damaged dynamos on the ocean liner SS Oregon, he ran into Batchelor and Edison, who made a quip about their \"Parisian\" being out all night. After Tesla told them he had been up all night fixing the Oregon, Edison commented to Batchelor that \"this is a damned good man\". One of the projects given to Tesla was to develop an arc lamp–based street lighting system. Arc lighting was the most popular type of street lighting but it required high voltages and was incompatible with the Edison low-voltage incandescent system, causing the company to lose contracts in some cities. Tesla\\'s designs were never put into production, possibly because of technical improvements in incandescent street lighting or because of an installation deal that Edison made with an arc lighting company.\\nTesla had been working at the Machine Works for a total of six months when he quit. What event precipitated his leaving is unclear. It may have been over a bonus he did not receive, either for redesigning generators or for the arc lighting system that was shelved. Tesla had previous run-ins with the Edison company over unpaid bonuses he believed he had earned. In his autobiography, Tesla stated the manager of the Edison Machine Works offered a $50,000 bonus to design \"twenty-four different types of standard machines\" \"but it turned out to be a practical joke\". Later versions of this story have Thomas Edison himself offering and then reneging on the deal, quipping: \"Tesla, you don\\'t understand our American humor\". The size of the bonus in either story has been noted as odd, since Machine Works manager Batchelor was stingy with pay, and the company did not have that amount of cash (equal to $1,749,815 today) on hand. Tesla\\'s diary contains just one comment on what happened at the end of his employment, a note he scrawled across the two pages covering 7 December 1884, to 4 January 1885, saying \"Good By to the Edison Machine Works\".\\n\\n\\n== Tesla Electric Light and Manufacturing ==\\nSoon after leaving the Edison company, Tesla was working on patenting an arc lighting system, possibly the same one he had developed at Edison. In March 1885, he met with patent attorney Lemuel W. Serrell, the same attorney used by Edison, to obtain help with submitting the patents. Serrell introduced Tesla to two businessmen, Robert Lane and Benjamin Vail, who agreed to finance an arc lighting manufacturing and utility company in Tesla\\'s name, the Tesla Electric Light and Manufacturing Company. Tesla worked for the rest of the year obtaining the patents that included an improved DC generator, the first patents issued to Tesla in the US, and building and installing the system in Rahway, New Jersey. Tesla\\'s new system gained notice in the technical press, which commented on its advanced features.\\nThe investors showed little interest in Tesla\\'s ideas for new types of alternating current motors and electrical transmission equipment. After the utility was up and running in 1886, they decided that the manufacturing side of the business was too competitive and opted to simply run an electric utility. They formed a new utility company, abandoning Tesla\\'s company and leaving the inventor penniless. Tesla even lost control of the patents he had generated, since he had assigned them to the company in exchange for stock. He had to work at various electrical repair jobs and as a ditch digger for $2 per day. Later in life, Tesla recounted that part of 1886 as a time of hardship, writing \"My high education in various branches of science, mechanics and literature seemed to me like a mockery\".\\n\\n\\n== AC and the induction motor ==\\n\\nIn late 1886, Tesla met Alfred S. Brown, a Western Union superintendent, and New York attorney Charles Fletcher Peck. The two men were experienced in setting up companies and promoting inventions and patents for financial gain. Based on Tesla\\'s new ideas for electrical equipment, including a thermo-magnetic motor idea, they agreed to back the inventor financially and handle his patents. Together they formed the Tesla Electric Company in April 1887, with an agreement that profits from generated patents would go 1⁄3 to Tesla, 1⁄3 to Peck and Brown, and 1⁄3 to fund development. They set up a laboratory for Tesla at 89 Liberty Street in Manhattan, where he worked on improving and developing new types of electric motors, generators, and other devices.\\nIn 1887, Tesla developed an induction motor that ran on alternating current (AC), a power system format that was rapidly expanding in Europe and the United States because of its advantages in long-distance, high-voltage transmission. The motor used polyphase current, which generated a rotating magnetic field to turn the motor (a principle that Tesla claimed to have conceived in 1882). This innovative electric motor, patented in May 1888, was a simple self-starting design that did not need a commutator, thus avoiding sparking and the high maintenance of constantly servicing and replacing mechanical brushes.\\nAlong with getting the motor patented, Peck and Brown arranged to get the motor publicized, starting with independent testing to verify it was a functional improvement, followed by press releases sent to technical publications for articles to run concurrently with the issue of the patent. Physicist William Arnold Anthony (who tested the motor) and Electrical World magazine editor Thomas Commerford Martin arranged for Tesla to demonstrate his AC motor on 16 May 1888 at the American Institute of Electrical Engineers. Engineers working for the Westinghouse Electric & Manufacturing Company reported to George Westinghouse that Tesla had a viable AC motor and related power system—something Westinghouse needed for the alternating current system he was already marketing. Westinghouse looked into getting a patent on a similar commutator-less, rotating magnetic field-based induction motor developed in 1885 and presented in a paper in March 1888 by Italian physicist Galileo Ferraris, but decided that Tesla\\'s patent would probably control the market.\\n\\nIn July 1888, Brown and Peck negotiated a licensing deal with George Westinghouse for Tesla\\'s polyphase induction motor and transformer designs for $60,000 in cash and stock and a royalty of $2.50 per AC horsepower produced by each motor. Westinghouse also hired Tesla for one year for the large fee of $2,000 ($70,000 in today\\'s dollars) per month to be a consultant at the Westinghouse Electric & Manufacturing Company\\'s Pittsburgh labs.\\nDuring that year, Tesla worked in Pittsburgh, helping to create an alternating current system to power the city\\'s streetcars. He found it a frustrating period because of conflicts with the other Westinghouse engineers over how best to implement AC power. Between them, they settled on a 60-cycle AC system that Tesla proposed (to match the working frequency of Tesla\\'s motor), but they soon found that it would not work for streetcars, since Tesla\\'s induction motor could run only at a constant speed. They ended up using a DC traction motor instead.\\n\\n\\n=== Market turmoil ===\\nTesla\\'s demonstration of his induction motor and Westinghouse\\'s subsequent licensing of the patent, both in 1888, came at the time of extreme competition between electric companies. The three big firms, Westinghouse, Edison, and Thomson-Houston Electric Company, were trying to grow in a capital-intensive business while financially undercutting each other. There was even a \"war of currents\" propaganda campaign going on, with Edison Electric claiming their direct current system was better and safer than the Westinghouse alternating current system and Thomson-Houston sometimes siding with Edison. Competing in this market meant Westinghouse would not have the cash or engineering resources to develop Tesla\\'s motor and the related polyphase system right away.\\nTwo years after signing the Tesla contract, Westinghouse Electric was in trouble. The near collapse of Barings Bank in London triggered the financial panic of 1890, causing investors to call in their loans to Westinghouse Electric. The sudden cash shortage forced the company to refinance its debts. The new lenders demanded that Westinghouse cut back on what looked like excessive spending on acquisition of other companies, research, and patents, including the per motor royalty in the Tesla contract. At that point, the Tesla induction motor had been unsuccessful and was stuck in development. Westinghouse was paying a $15,000-a-year guaranteed royalty even though operating examples of the motor were rare and polyphase power systems needed to run it were even rarer. In early 1891, George Westinghouse explained his financial difficulties to Tesla in stark terms, saying that, if he did not meet the demands of his lenders, he would no longer be in control of Westinghouse Electric and Tesla would have to \"deal with the bankers\" to try to collect future royalties. The advantages of having Westinghouse continue to champion the motor probably seemed obvious to Tesla and he agreed to release the company from the royalty payment clause in the contract. Six years later Westinghouse purchased Tesla\\'s patent for a lump sum payment of $216,000 as part of a patent-sharing agreement signed with General Electric (a company created from the 1892 merger of Edison and Thomson-Houston).\\n\\n\\n== New York laboratories ==\\n\\nThe money Tesla made from licensing his AC patents made him independently wealthy and gave him the time and funds to pursue his own interests. In 1889, Tesla moved out of the Liberty Street shop Peck and Brown had rented and for the next dozen years worked out of a series of workshop/laboratory spaces in Manhattan. These included a lab at 175 Grand Street (1889–1892), the fourth floor of 33–35 South Fifth Avenue (1892–1895), and sixth and seventh floors of 46 & 48 East Houston Street (1895–1902). Tesla and his hired staff conducted some of his most significant work in these workshops.\\n\\n\\n=== Tesla coil ===\\n\\nIn the summer of 1889, Tesla traveled to the 1889 Exposition Universelle in Paris and learned of Heinrich Hertz\\'s 1886–1888 experiments that proved the existence of electromagnetic radiation, including radio waves. In repeating and then expanding on these experiments Tesla tried powering a Ruhmkorff coil with a high speed alternator he had been developing as par'),\n",
              " Document(metadata={'title': 'Belgrade Nikola Tesla Airport', 'summary': 'Belgrade Nikola Tesla Airport (Serbian: Аеродром Никола Тесла Београд / Aerodrom Nikola Tesla Beograd) or Belgrade Airport (Serbian: Аеродром Београд / Aerodrom Beograd) (IATA: BEG, ICAO: LYBE) is an international airport serving Belgrade, Serbia. It is the largest and the busiest airport in Serbia, situated 18 km (11 mi) west of downtown Belgrade near the suburb of Surčin, surrounded by fertile lowlands. It is operated by Vinci Airports (subsidiary of the French conglomerate Vinci) and is named after Serbian-American inventor Nikola Tesla (1856–1943).\\nThe flag carrier and the largest airline of Serbia, Air Serbia, uses Belgrade Nikola Tesla as its hub. It is also one of the many operating bases for low-cost airline Wizz Air. The air taxi services Air Pink, Eagle Express and Prince Aviation also call the airport their home.\\n\\n', 'source': 'https://en.wikipedia.org/wiki/Belgrade_Nikola_Tesla_Airport'}, page_content='Belgrade Nikola Tesla Airport (Serbian: Аеродром Никола Тесла Београд / Aerodrom Nikola Tesla Beograd) or Belgrade Airport (Serbian: Аеродром Београд / Aerodrom Beograd) (IATA: BEG, ICAO: LYBE) is an international airport serving Belgrade, Serbia. It is the largest and the busiest airport in Serbia, situated 18 km (11 mi) west of downtown Belgrade near the suburb of Surčin, surrounded by fertile lowlands. It is operated by Vinci Airports (subsidiary of the French conglomerate Vinci) and is named after Serbian-American inventor Nikola Tesla (1856–1943).\\nThe flag carrier and the largest airline of Serbia, Air Serbia, uses Belgrade Nikola Tesla as its hub. It is also one of the many operating bases for low-cost airline Wizz Air. The air taxi services Air Pink, Eagle Express and Prince Aviation also call the airport their home.\\n\\n\\n== History ==\\n\\n\\n=== First airfields ===\\nThe first airfield in Belgrade was inaugurated in 1910 in the neighbourhood of Banjica and was initially used by aviation pioneers such as Simon, Maslenikov, Vidmar and Čermak. Two years later a wooden hangar was built for the Serbian Air Force, which was at the time engaged in the First Balkan War against Turkey. In 1914, the Banjica airfield was the base for the Serbian Air Force squadron and the Balloon Company. After the end of the First World War, the Banjica airfield was used for airmail traffic and included the routes Novi Sad–Belgrade–Niš–Skoplje and Belgrade–Sarajevo–Mostar.\\nIn 1911 another airfield was inaugurated in Belgrade, in the lower city of the Kalemegdan Fortress at the location of today\\'s Belgrade Planetarium.\\n\\n\\n=== Airport in Pančevo ===\\nAn airport on the outskirts of Pančevo, a town located northeast of Belgrade, began its operations in 1923 when CFRNA inaugurated the international route Paris–Istanbul, which was flown via Belgrade. In the same year, on that route, the first ever world night flight occurred. The same year airmail service began operating from the airport. The Pančevo airport was also used by the Royal Yugoslav Air Force academy. After World War II, the airport was used by the Yugoslav Air Force before it became the airfield of the Utva Aviation Industry after its relocation from Zemun to Pančevo.\\n\\n\\n=== Airport in Dojno Polje (New Belgrade) ===\\nBecause of the distance from Pančevo to downtown Belgrade, which at that time required crossing the Danube, a decision was made to build a new airport that would be closer. The airport was planned to be built just across the river Sava, in a neighborhood today known as Novi Beograd. It was opened on 25 March 1927 under the official name of Belgrade International Airport (also known as Dojno Polje Airport). From February 1928, the aircraft owned by the first local airline Aeroput started taking off from the new airport. The airport had four 1,100–2,900 metres (3,610–9,510 ft) long grass runways. The design for a reinforced concrete hangar that was built at the airfield was made by the Serbian scientist Milutin Milanković, better known for his theory of climate change. A modern terminal building was built in 1931, while the landing equipment for conditions of poor visibility was installed in 1936.\\nBefore World War II, Belgrade was also used as a stopover for some major air races, such as The Schlesinger African Air Race.\\nBesides Aeroput, Air France, Deutsche Luft Hansa, KLM, Imperial Airways, LOT Polish Airlines and airlines from Italy, Austria, Hungary and Romania also used the airport until the outbreak of the Second World War. Belgrade gained further prominence when Imperial Airways introduced inter-continental routes through Belgrade, when London was linked with India through the airport. Belgrade was linked with Paris and Breslau because CIDNA and Deutsche Luft Hansa, respectively, included Belgrade on its routes to Istanbul. By 1931, Belgrade became a major air hub being linked with regular flights with international destinations such as London, Madrid, Venice, Brussels, Berlin, Cologne, Warsaw, Prague, Vienna, Graz, Klagenfurt, Budapest, Bucharest, Sofia, Varna, Thessaloniki, Athens, Istanbul, and also intercontinental links with Cairo, Karachi and India.\\nStarting from April 1941, German occupation forces used the airport. During 1944 it was bombed by the Allies, and in October of the same year the German army destroyed the remaining facilities while withdrawing from the country.\\nThe airport was rebuilt by October 1944, and until the end of the war was used by the Soviet Union and Yugoslavia as part of the Allied war effort.\\nCivil transport by Yugoslav Air Force cargo planes from this airport was reinstated at the end of 1945. At the beginning of 1947 JAT Yugoslav Airlines and JUSTA took over domestic and international traffic, and from 1948 Western European airlines resumed flights to Belgrade.\\nA constant increase in traffic and the beginning of the passenger jet era called for a significant expansion of the airport. In the meantime, a plan to build a residential and business district called Novi Beograd on the location of the airport was introduced. The officials decided therefore that a new international airport should be built near the village of Surčin to the west. The last flight to depart from the old airport was early in 1964.\\n\\n\\n=== Airport in Surčin ===\\nThe new location for the airport was on the Surčin plateau, 15 km (9.3 mi) from Belgrade\\'s city centre. Thanks to the original planners\\' vision, two conditions for the airport\\'s development were fulfilled: a location was chosen that met the navigational, meteorological, construction, technical, and traffic requirements; and the special needs for the airport\\'s long-term development were established.\\nBuilding of the new airport started in April 1958 and lasted until 28 April 1962, when it was officially opened by President Josip Broz Tito. During that period a 3,000-metre-long (1.9 mi) runway was built, with the parallel taxiway and concrete aprons for sixteen airplanes. The passenger terminal building occupied an area of 8,000 m2 (86,000 sq ft). Cargo storage spaces were also built, as well as a technical block with the air-traffic control tower and other accompanying facilities. Modern navigational equipment was installed, earning the airport the highest international classification according to the International Civil Aviation Organization.\\nThe airport stagnated during the 1990s after the outbreak of the Yugoslav wars and the United Nations sanctions imposed on the Serbia and Montenegro. The sanctions also included a ban on air travel. The airport had minimal passenger movement, and many facilities were in need of reparation.\\nWith a change in government and international sentiment, normal air traffic resumed in 2001. A few years later the airport\\'s terminal 2 underwent a major reconstruction. The runway was upgraded to CAT IIIb in 2005, as part of a large renovation project. CAT IIIb is an Instrument Landing System (ILS), giving aircraft the security of landing during fog and storms. In 2006, the airport was renamed to Belgrade Nikola Tesla Airport. Nikola Tesla was a Serbian-American inventor and scientist, generally considered one of the world\\'s most famous inventors. The construction of the new air traffic control centre was completed in 2010. In 2011 Belgrade Nikola Tesla Airport shares (AERO) began trading on the Belgrade Stock Exchange (BELEX).\\n\\n\\n=== 2012–2018 ===\\nIn 2012, construction work on the modernization and expansion of the airport began. It was carried out on the expansion and reconstruction of the A-gate and C-gate departure and transit areas. As a result, an extra 2,750 square metres (29,600 sq ft) was added. Jetways at the A and C gates were also replaced.\\nAlso, there were plans for the construction of a new control tower as the current air control tower was built in 1962. Future expansion of current terminals should see additional 17,000 sqm added, with terminal 2 obtaining an additional 4 jetways.\\n\\n\\n=== 2018–present ===\\nIn January 2018, the Government of Serbia granted a 25-year concession of the Belgrade Nikola Tesla Airport to the French airport operator Vinci Airports for a sum of 501 million euros. On 21 December 2018, Vinci formally took over the airport. In 2018, the airport had a sizeable increase in revenue and net income, due to Vinci Airports transaction. On 24 April 2024, Serbian finance minister Siniša Mali announced that the concession of Belgrade Nikola Tesla Airport had been extended by 18 months in order to minimize the influence of COVID-19 Pandemic. The concession is to last until 1 July 2044.\\n\\n\\n== Terminals ==\\nThe airport\\'s two terminals have a combined area of 44,000 square metres (470,000 sq ft), with Terminal 2 being larger of the two, the two terminals are connected by a hallway. The airport has 90 check-in counters and 32 gates (of which 24 are equipped with jetways). Gates A1-A10 and C1-C14 are equipped with jetways, gates A7a, A7b and C10a-C10e use buses, while gate A11 is used for domestic flights to Niš.\\n\\n\\n=== Terminal 1 ===\\nTerminal 1 (T1) was the original and only terminal when the airport was built. The terminal handled domestic flights during the time of Yugoslavia and Serbia and Montenegro, and subsequently has come to be used for international flights, mostly by low-cost and charter airlines. The terminal went through a major renovation in 2016 and 2017 when the interior was overhauled.\\n\\n\\n=== Terminal 2 ===\\nTerminal 2 (T2) was constructed in 1979 for the airport\\'s growing passenger numbers. The terminal has a capacity of 5 million passengers. The terminal contains airline offices, transfer desks and various retail shops. The terminal went through two major renovations: from 2004 through 2006, with the arrivals and departures areas of the terminal completely reconstructed, and another one in 2012 and 2013 when there were works on expansion and overhaul of the C platform. While not officially confirmed, it is believed that the overhauled T1 will be used by foreign carriers, while Air Serbia and Etihad Airways Partners would gain exclusive use of Terminal 2.\\n\\n\\n== Airlines and destinations ==\\n\\n\\n=== Passenger ===\\nThe following airlines operate regular scheduled and charter flights as of June 2025:\\n\\n\\n=== Cargo ===\\nThe following cargo airlines served the airport on a regular basis:\\n\\n\\n== Statistics ==\\n\\n\\n=== Traffic figures ===\\n\\n\\n=== Passenger numbers ===\\n\\n\\n=== Busiest routes ===\\n\\n\\n== Services ==\\n\\n\\n=== Security ===\\nBefore the 2020/2021-2023 remodelling, Belgrade Nikola Tesla Airport was built with only one airside hallway for both departing and arriving passengers. As such, security checks used to be located at gate entrances rather than on a central location. An additional security check used to exist on the hallway entrance, but it was removed in 2013 as it inconvenienced passengers and was not essential for security. Since 2021, however, there has been a central security hall directly above the ticketing area, before passport control, where all passengers must be screened.\\nPassport control for departing passengers is located on the first floor in Terminal 2, just before the security screening, while the passport control for arriving passengers is located on the ground level. All passengers must pass the passport control, except those traveling domestically. An additional passport control booth exists in Terminal 1; however, it is no longer available for passengers, only for flight crews. In mid-December 2024 eGates for passport controls were introduced, with 10 eGates in the departures area and 10 eGates in the arrivals area, totalling in 20 eGates.\\nIn 2007 the airport prohibited cars parking next to the airport terminal, instead they have to use the car park provided, as a result of the 2007 Glasgow Airport attack.\\n\\n\\n=== Lounges ===\\nBelgrade Nikola Tesla Airport offers a business class lounge operated by Dufry, \"Business Club\", for the majority of airlines operating from the airport. \"Business Club\", opened in 2011, covers an area of 250 m2 (2,700 sq ft), and can seat 30 guests.\\nThe airport also has a VIP Lounge, with separate check-in and passport control facilities. The VIP Lounge is entered from the public area and directly from the apron, so it functions as a separate and independent element. Passport and customs control and baggage control are located at the very entrance into the lounge.\\nAir Serbia Premium Lounge is the first dedicated airline-owned and -operated lounge at the airport, located between gates A4 and A5. Air Serbia plans to open a new Premium Lounge next to gate C10 at Belgrade Nikola Tesla Airport by the end of 2024. The new lounge will occupy an area of 630 m2 (6,800 sq ft) (twice the size of the existing lounge) and will be able to accommodate up to 160 guests simultaneously.\\n\\n\\n== Ground transport ==\\n\\n\\n=== Car ===\\nThe airport is connected to the A3 motorway via a nearby interchange. The toll station on A3 is located to the west of the interchange, and the sections to the Belgrade downtown and the Belgrade bypass are toll-free. Licensed taxis from the airport to the city are available.\\n\\n\\n=== Bus ===\\nThe following scheduled bus services connect the airport with its surroundings:\\n\\n\\n=== Rail ===\\nThe Serbian Ministry of Construction, Transportation and Infrastructure has announced a construction project for a new railway line between the city and the airport. The construction is scheduled to start in 2024, and should be completed in 18 months.\\n\\n\\n== Accidents and incidents ==\\nOn 18 February 2024, Air Serbia Flight 324, an Embraer E-195 wet-leased from Marathon Airlines with 106 passengers and crew on board, sustained serious damage to its fuselage and tail after hitting the airport runway\\'s instrument landing system array during takeoff on its way to Düsseldorf. The aircraft turned back after failing to gain altitude and was safely evacuated upon landing.\\n\\n\\n== See also ==\\nAeronautical Museum Belgrade\\nList of airlines of Serbia\\nList of airports in Serbia\\n\\n\\n== References ==\\n\\n\\n== External links ==\\n Media related to Belgrade Nikola Tesla Airport at Wikimedia Commons\\n\\nOfficial website\\nBelgrade Nikola Tesla International Airport at Airport-Data.com'),\n",
              " Document(metadata={'title': 'Nikola Tesla Museum', 'summary': \"The Nikola Tesla Museum (Serbian Cyrillic: Музеј Николе Тесле, romanized: Muzej Nikole Tesle) is a science museum located in Belgrade, Serbia. It is dedicated to honoring and displaying the life and work of Nikola Tesla as well as the final resting place for Tesla. It holds more than 160,000 original documents, over 2,000 books and journals, over 1,200 historical technical exhibits, over 1,500 photographs and photo plates of original, technical objects, instruments and apparatus, and over 1,000 plans and drawings. Very little is on display in the small ground floor exhibition space.\\nThe Nikola Tesla Archive was inscribed on UNESCO's Memory of the World Programme Register in 2003 due to its critical role regarding history of electrification of the world and future technological advancements in this area.\\n\\n\", 'source': 'https://en.wikipedia.org/wiki/Nikola_Tesla_Museum'}, page_content=\"The Nikola Tesla Museum (Serbian Cyrillic: Музеј Николе Тесле, romanized: Muzej Nikole Tesle) is a science museum located in Belgrade, Serbia. It is dedicated to honoring and displaying the life and work of Nikola Tesla as well as the final resting place for Tesla. It holds more than 160,000 original documents, over 2,000 books and journals, over 1,200 historical technical exhibits, over 1,500 photographs and photo plates of original, technical objects, instruments and apparatus, and over 1,000 plans and drawings. Very little is on display in the small ground floor exhibition space.\\nThe Nikola Tesla Archive was inscribed on UNESCO's Memory of the World Programme Register in 2003 due to its critical role regarding history of electrification of the world and future technological advancements in this area.\\n\\n\\n== History ==\\nThe Nikola Tesla Museum is housed in a residential villa built in 1927 according to the designs of Dragiša Brašovan, a distinguished Serbian architect. The building was used for various purposes until December 5, 1952, when the Nikola Tesla Museum was founded in accordance with the decision of the Government of the Federal People's Republic of Yugoslavia. Certain items for the museum were shipped from New York City to Belgrade, Yugoslavia, on September 7, 1951, as a result of efforts by Sava Kosanović, Tesla's nephew and closest relative and his attorney Philip Wittenberg.\\n\\n\\n=== Exhibitions ===\\nThe permanent exhibition was arranged in 1955. It consists of four rooms on the ground floor. From time to time there have been some modifications, but for many years the basic concept has remained the same. Its first part is primarily a memorial exhibition, while the second part is an interactive one, with 3D computer generated models of Tesla's inventions. From time to time, the museum organizes thematic exhibitions of documents, photographs and other material in order to display some periods from Tesla's inventive life.\\n\\n\\n=== Reconstruction ===\\nReconstruction of the Tesla Museum started on November 3, 2006. The first phase of the project was scheduled to have been complete by the end of 2006. The garden on the roof of the museum was designed to be enclosed by glass windows, which would turn the roof into a computer room. This reconstruction is now complete, and the museum is available to visit.\\n\\n\\n== Gallery ==\\n\\n\\t\\t\\n\\t\\t\\t\\n\\t\\t\\t\\n\\t\\t\\n\\t\\t\\n\\t\\t\\t\\n\\t\\t\\t\\n\\t\\t\\n\\t\\t\\n\\t\\t\\t\\n\\t\\t\\t\\n\\t\\t\\n\\t\\t\\n\\t\\t\\t\\n\\t\\t\\t\\n\\t\\t\\n\\t\\t\\n\\t\\t\\t\\n\\t\\t\\t\\n\\t\\t\\n\\t\\t\\n\\t\\t\\t\\n\\t\\t\\t\\n\\t\\t\\n\\t\\t\\n\\t\\t\\t\\n\\t\\t\\t\\n\\t\\t\\n\\t\\t\\n\\t\\t\\t\\n\\t\\t\\t\\n\\t\\t\\n\\t\\t\\n\\t\\t\\t\\n\\t\\t\\t\\n\\t\\t\\n\\t\\t\\n\\t\\t\\t\\n\\t\\t\\t\\n\\t\\t\\n\\t\\t\\n\\t\\t\\t\\n\\t\\t\\t\\n\\t\\t\\n\\t\\t\\n\\t\\t\\t\\n\\t\\t\\t\\n\\t\\t\\n\\t\\t\\n\\t\\t\\t\\n\\t\\t\\t\\n\\t\\t\\n\\t\\t\\n\\t\\t\\t\\n\\t\\t\\t\\n\\t\\t\\n\\n\\tDemonstrations of Tesla's inventions during a guided tour at the Museum\\n\\t\\t\\n\\t\\t\\t\\n\\t\\t\\t\\n\\t\\t\\n\\t\\t\\n\\t\\t\\t\\n\\t\\t\\t\\n\\t\\t\\n\\t\\t\\n\\t\\t\\t\\n\\t\\t\\t\\n\\t\\t\\n\\t\\t\\n\\t\\t\\t\\n\\t\\t\\t\\n\\t\\t\\n\\t\\t\\n\\t\\t\\t\\n\\t\\t\\t\\n\\t\\t\\n\\t\\t\\n\\t\\t\\t\\n\\t\\t\\t\\n\\t\\t\\n\\n\\n== See also ==\\nNikola Tesla Memorial Center, museum in Smiljan, Croatia\\nNikola Tesla\\nWardenclyffe tower\\nWireless energy transmission\\nTesla Science Center at Wardenclyffe\\nGenčić Family House\\nList of museums in Serbia\\n\\n\\n== References ==\\n\\n\\n== External links ==\\n\\nOfficial website\")]"
            ]
          },
          "metadata": {},
          "execution_count": 71
        }
      ]
    },
    {
      "cell_type": "code",
      "source": [
        "len(data)"
      ],
      "metadata": {
        "colab": {
          "base_uri": "https://localhost:8080/"
        },
        "id": "QBGoiHd1UAXf",
        "outputId": "1ca1811f-6d76-4691-ded4-b2ef5d3ed9b2"
      },
      "execution_count": 72,
      "outputs": [
        {
          "output_type": "execute_result",
          "data": {
            "text/plain": [
              "3"
            ]
          },
          "metadata": {},
          "execution_count": 72
        }
      ]
    },
    {
      "cell_type": "code",
      "source": [
        "data[0].page_content"
      ],
      "metadata": {
        "colab": {
          "base_uri": "https://localhost:8080/",
          "height": 140
        },
        "id": "rqMzdOvJUnwn",
        "outputId": "826d4362-6724-4ad4-a0aa-67e2a5e211ee"
      },
      "execution_count": 73,
      "outputs": [
        {
          "output_type": "execute_result",
          "data": {
            "text/plain": [
              "'Nikola Tesla (; Serbian Cyrillic: Никола Тесла [nǐkola têsla]; 10 July 1856 – 7 January 1943) was a Serbian-American engineer, futurist, and inventor. He is known for his contributions to the design of the modern alternating current (AC) electricity supply system.\\nBorn and raised in the Austrian Empire, Tesla first studied engineering and physics in the 1870s without receiving a degree. He then gained practical experience in the early 1880s working in telephony and at Continental Edison in the new electric power industry. In 1884 he immigrated to the United States, where he became a naturalized citizen. He worked for a short time at the Edison Machine Works in New York City before he struck out on his own. With the help of partners to finance and market his ideas, Tesla set up laboratories and companies in New York to develop a range of electrical and mechanical devices. His AC induction motor and related polyphase AC patents, licensed by Westinghouse Electric in 1888, earned him a considerable amount of money and became the cornerstone of the polyphase system which that company eventually marketed.\\nAttempting to develop inventions he could patent and market, Tesla conducted a range of experiments with mechanical oscillators/generators, electrical discharge tubes, and early X-ray imaging. He also built a wirelessly controlled boat, one of the first ever exhibited. Tesla became well known as an inventor and demonstrated his achievements to celebrities and wealthy patrons at his lab, and was noted for his showmanship at public lectures. Throughout the 1890s, Tesla pursued his ideas for wireless lighting and worldwide wireless electric power distribution in his high-voltage, high-frequency power experiments in New York and Colorado Springs. In 1893, he made pronouncements on the possibility of wireless communication with his devices. Tesla tried to put these ideas to practical use in his unfinished Wardenclyffe Tower project, an intercontinental wireless communication and power transmitter, but ran out of funding before he could complete it.\\nAfter Wardenclyffe, Tesla experimented with a series of inventions in the 1910s and 1920s with varying degrees of success. Having spent most of his money, Tesla lived in a series of New York hotels, leaving behind unpaid bills. He died in New York City in January 1943. Tesla\\'s work fell into relative obscurity following his death, until 1960, when the General Conference on Weights and Measures named the International System of Units (SI) measurement of magnetic flux density the tesla in his honor. There has been a resurgence in popular interest in Tesla since the 1990s.\\n\\n\\n== Early years ==\\n\\nNikola Tesla was born into an ethnic Serb family in the village of Smiljan, within the Military Frontier, in the Austrian Empire (present-day Croatia), on 10 July 1856. His father, Milutin Tesla (1819–1879), was a priest of the Eastern Orthodox Church. His father\\'s brother Josif was a lecturer at a military academy who wrote several textbooks on mathematics.\\nTesla\\'s mother, Georgina \"Đuka\" Mandić (1822–1892), whose father was also an Eastern Orthodox priest, had a talent for making home craft tools and mechanical appliances and the ability to memorize Serbian epic poems. Đuka had never received a formal education. Tesla credited his eidetic memory and creative abilities to his mother\\'s genetics and influence.\\nTesla was the fourth of five children. He had three sisters, Milka, Angelina, and Marica, and an older brother named Dane, who was killed in a horse-riding accident when Tesla was aged six or seven. In 1861, Tesla attended primary school in Smiljan where he studied German, arithmetic, and religion. In 1862, the Tesla family moved to the nearby town of Gospić, where Tesla\\'s father worked as parish priest. Nikola completed primary school, followed by middle school. In 1870, Tesla moved to Karlovac to attend high school at the Higher Real Gymnasium where the classes were held in German, as it was usual throughout schools within the Austro-Hungarian Military Frontier. Later in his patent applications, before he obtained American citizenship, Tesla would identify himself as \"of Smiljan, Lika, border country of Austria-Hungary\".\\n\\nTesla later wrote that he became interested in demonstrations of electricity by his physics professor. Tesla noted that these demonstrations of this \"mysterious phenomena\" made him want \"to know more of this wonderful force\". Tesla was able to perform integral calculus in his head, which prompted his teachers to believe that he was cheating. He finished a four-year term in three years, graduating in 1873.\\nAfter graduating Tesla returned to Smiljan but soon contracted cholera, was bedridden for nine months and was near death several times. In a moment of despair, Tesla\\'s father (who had originally wanted him to enter the priesthood), promised to send him to the best engineering school if he recovered from the illness. Tesla later said that he had read Mark Twain\\'s earlier works while recovering from his illness.\\nThe next year Tesla evaded conscription into the Austro-Hungarian Army in Smiljan by running away southeast of Lika to Tomingaj, near Gračac. There he explored the mountains wearing hunter\\'s garb. Tesla said that this contact with nature made him stronger, both physically and mentally. He enrolled at the Imperial-Royal Technical College in Graz in 1875 on a Military Frontier scholarship. Tesla passed nine exams (nearly twice as many as required) and received a letter of commendation from the dean of the technical faculty to his father, which stated, \"Your son is a star of first rank.\" At Graz, Tesla noted his fascination with the detailed lectures on electricity presented by Professor Jakob Pöschl and described how he made suggestions on improving the design of an electric motor the professor was demonstrating. But by his third year he was failing in school and never graduated, leaving Graz in December 1878. One biographer suggests Tesla was not studying and may have been expelled for gambling and womanizing.\\n\\nTesla\\'s family did not hear from him after he left school. There was a rumor among his classmates that he had drowned in the nearby river Mur but in January one of them ran into Tesla in the town of Maribor and reported that encounter to Tesla\\'s family. It turned out Tesla had been working there as a draftsman for 60 florins per month. In March 1879, Milutin finally located his son and tried to convince him to return home and take up his education in Prague. Tesla returned to Gospić later that month when he was deported for not having a residence permit. Tesla\\'s father died the next month, on 17 April 1879, at the age of 60 after an unspecified illness. During the rest of the year Tesla taught a large class of students in his old school in Gospić.\\nIn January 1880, two of Tesla\\'s uncles put together enough money to help him leave Gospić for Prague, where he was to study. He arrived too late to enroll at Charles-Ferdinand University; he had never studied Greek, a required subject; and he was illiterate in Czech, another required subject. Tesla did, however, attend lectures in philosophy at the university as an auditor but he did not receive grades for the courses.\\n\\n\\n=== Working at Budapest Telephone Exchange ===\\nTesla moved to Budapest, Hungary, in 1881 to work under Tivadar Puskás at a telegraph company, the Budapest Telephone Exchange. Upon arrival, Tesla realized that the company, then under construction, was not functional, so he worked as a draftsman in the Central Telegraph Office instead. Within a few months, the Budapest Telephone Exchange became functional, and Tesla was allocated the chief electrician position. During his employment, Tesla made many improvements to the Central Station equipment and claimed to have perfected a telephone repeater or amplifier, which was never patented nor publicly described.\\n\\n\\n== Working at Edison ==\\nIn 1882, Tivadar Puskás got Tesla another job in Paris with the Continental Edison Company. Tesla began working in what was then a brand new industry, installing indoor incandescent lighting citywide in large scale electric power utility. The company had several subdivisions and Tesla worked at the Société Electrique Edison, the division in the Ivry-sur-Seine suburb of Paris in charge of installing the lighting system. There he gained a great deal of practical experience in electrical engineering. Management took notice of his advanced knowledge in engineering and physics and soon had him designing and building improved versions of generating dynamos and motors. They also sent him on to troubleshoot engineering problems at other Edison utilities being built around France and in Germany.\\n\\n\\n=== Moving to the United States ===\\n\\nIn 1884, Edison manager Charles Batchelor, who had been overseeing the Paris installation, was brought back to the United States to manage the Edison Machine Works, a manufacturing division situated in New York City, and asked that Tesla be brought to the United States as well. In June 1884, Tesla emigrated and began working almost immediately at the Machine Works on Manhattan\\'s Lower East Side, an overcrowded shop with a workforce of several hundred machinists, laborers, managing staff, and 20 \"field engineers\" struggling with the task of building the large electric utility in that city. As in Paris, Tesla was working on troubleshooting installations and improving generators. Historian W. Bernard Carlson notes Tesla may have met company founder Thomas Edison only a couple of times. One of those times was noted in Tesla\\'s autobiography where, after staying up all night repairing the damaged dynamos on the ocean liner SS Oregon, he ran into Batchelor and Edison, who made a quip about their \"Parisian\" being out all night. After Tesla told them he had been up all night fixing the Oregon, Edison commented to Batchelor that \"this is a damned good man\". One of the projects given to Tesla was to develop an arc lamp–based street lighting system. Arc lighting was the most popular type of street lighting but it required high voltages and was incompatible with the Edison low-voltage incandescent system, causing the company to lose contracts in some cities. Tesla\\'s designs were never put into production, possibly because of technical improvements in incandescent street lighting or because of an installation deal that Edison made with an arc lighting company.\\nTesla had been working at the Machine Works for a total of six months when he quit. What event precipitated his leaving is unclear. It may have been over a bonus he did not receive, either for redesigning generators or for the arc lighting system that was shelved. Tesla had previous run-ins with the Edison company over unpaid bonuses he believed he had earned. In his autobiography, Tesla stated the manager of the Edison Machine Works offered a $50,000 bonus to design \"twenty-four different types of standard machines\" \"but it turned out to be a practical joke\". Later versions of this story have Thomas Edison himself offering and then reneging on the deal, quipping: \"Tesla, you don\\'t understand our American humor\". The size of the bonus in either story has been noted as odd, since Machine Works manager Batchelor was stingy with pay, and the company did not have that amount of cash (equal to $1,749,815 today) on hand. Tesla\\'s diary contains just one comment on what happened at the end of his employment, a note he scrawled across the two pages covering 7 December 1884, to 4 January 1885, saying \"Good By to the Edison Machine Works\".\\n\\n\\n== Tesla Electric Light and Manufacturing ==\\nSoon after leaving the Edison company, Tesla was working on patenting an arc lighting system, possibly the same one he had developed at Edison. In March 1885, he met with patent attorney Lemuel W. Serrell, the same attorney used by Edison, to obtain help with submitting the patents. Serrell introduced Tesla to two businessmen, Robert Lane and Benjamin Vail, who agreed to finance an arc lighting manufacturing and utility company in Tesla\\'s name, the Tesla Electric Light and Manufacturing Company. Tesla worked for the rest of the year obtaining the patents that included an improved DC generator, the first patents issued to Tesla in the US, and building and installing the system in Rahway, New Jersey. Tesla\\'s new system gained notice in the technical press, which commented on its advanced features.\\nThe investors showed little interest in Tesla\\'s ideas for new types of alternating current motors and electrical transmission equipment. After the utility was up and running in 1886, they decided that the manufacturing side of the business was too competitive and opted to simply run an electric utility. They formed a new utility company, abandoning Tesla\\'s company and leaving the inventor penniless. Tesla even lost control of the patents he had generated, since he had assigned them to the company in exchange for stock. He had to work at various electrical repair jobs and as a ditch digger for $2 per day. Later in life, Tesla recounted that part of 1886 as a time of hardship, writing \"My high education in various branches of science, mechanics and literature seemed to me like a mockery\".\\n\\n\\n== AC and the induction motor ==\\n\\nIn late 1886, Tesla met Alfred S. Brown, a Western Union superintendent, and New York attorney Charles Fletcher Peck. The two men were experienced in setting up companies and promoting inventions and patents for financial gain. Based on Tesla\\'s new ideas for electrical equipment, including a thermo-magnetic motor idea, they agreed to back the inventor financially and handle his patents. Together they formed the Tesla Electric Company in April 1887, with an agreement that profits from generated patents would go 1⁄3 to Tesla, 1⁄3 to Peck and Brown, and 1⁄3 to fund development. They set up a laboratory for Tesla at 89 Liberty Street in Manhattan, where he worked on improving and developing new types of electric motors, generators, and other devices.\\nIn 1887, Tesla developed an induction motor that ran on alternating current (AC), a power system format that was rapidly expanding in Europe and the United States because of its advantages in long-distance, high-voltage transmission. The motor used polyphase current, which generated a rotating magnetic field to turn the motor (a principle that Tesla claimed to have conceived in 1882). This innovative electric motor, patented in May 1888, was a simple self-starting design that did not need a commutator, thus avoiding sparking and the high maintenance of constantly servicing and replacing mechanical brushes.\\nAlong with getting the motor patented, Peck and Brown arranged to get the motor publicized, starting with independent testing to verify it was a functional improvement, followed by press releases sent to technical publications for articles to run concurrently with the issue of the patent. Physicist William Arnold Anthony (who tested the motor) and Electrical World magazine editor Thomas Commerford Martin arranged for Tesla to demonstrate his AC motor on 16 May 1888 at the American Institute of Electrical Engineers. Engineers working for the Westinghouse Electric & Manufacturing Company reported to George Westinghouse that Tesla had a viable AC motor and related power system—something Westinghouse needed for the alternating current system he was already marketing. Westinghouse looked into getting a patent on a similar commutator-less, rotating magnetic field-based induction motor developed in 1885 and presented in a paper in March 1888 by Italian physicist Galileo Ferraris, but decided that Tesla\\'s patent would probably control the market.\\n\\nIn July 1888, Brown and Peck negotiated a licensing deal with George Westinghouse for Tesla\\'s polyphase induction motor and transformer designs for $60,000 in cash and stock and a royalty of $2.50 per AC horsepower produced by each motor. Westinghouse also hired Tesla for one year for the large fee of $2,000 ($70,000 in today\\'s dollars) per month to be a consultant at the Westinghouse Electric & Manufacturing Company\\'s Pittsburgh labs.\\nDuring that year, Tesla worked in Pittsburgh, helping to create an alternating current system to power the city\\'s streetcars. He found it a frustrating period because of conflicts with the other Westinghouse engineers over how best to implement AC power. Between them, they settled on a 60-cycle AC system that Tesla proposed (to match the working frequency of Tesla\\'s motor), but they soon found that it would not work for streetcars, since Tesla\\'s induction motor could run only at a constant speed. They ended up using a DC traction motor instead.\\n\\n\\n=== Market turmoil ===\\nTesla\\'s demonstration of his induction motor and Westinghouse\\'s subsequent licensing of the patent, both in 1888, came at the time of extreme competition between electric companies. The three big firms, Westinghouse, Edison, and Thomson-Houston Electric Company, were trying to grow in a capital-intensive business while financially undercutting each other. There was even a \"war of currents\" propaganda campaign going on, with Edison Electric claiming their direct current system was better and safer than the Westinghouse alternating current system and Thomson-Houston sometimes siding with Edison. Competing in this market meant Westinghouse would not have the cash or engineering resources to develop Tesla\\'s motor and the related polyphase system right away.\\nTwo years after signing the Tesla contract, Westinghouse Electric was in trouble. The near collapse of Barings Bank in London triggered the financial panic of 1890, causing investors to call in their loans to Westinghouse Electric. The sudden cash shortage forced the company to refinance its debts. The new lenders demanded that Westinghouse cut back on what looked like excessive spending on acquisition of other companies, research, and patents, including the per motor royalty in the Tesla contract. At that point, the Tesla induction motor had been unsuccessful and was stuck in development. Westinghouse was paying a $15,000-a-year guaranteed royalty even though operating examples of the motor were rare and polyphase power systems needed to run it were even rarer. In early 1891, George Westinghouse explained his financial difficulties to Tesla in stark terms, saying that, if he did not meet the demands of his lenders, he would no longer be in control of Westinghouse Electric and Tesla would have to \"deal with the bankers\" to try to collect future royalties. The advantages of having Westinghouse continue to champion the motor probably seemed obvious to Tesla and he agreed to release the company from the royalty payment clause in the contract. Six years later Westinghouse purchased Tesla\\'s patent for a lump sum payment of $216,000 as part of a patent-sharing agreement signed with General Electric (a company created from the 1892 merger of Edison and Thomson-Houston).\\n\\n\\n== New York laboratories ==\\n\\nThe money Tesla made from licensing his AC patents made him independently wealthy and gave him the time and funds to pursue his own interests. In 1889, Tesla moved out of the Liberty Street shop Peck and Brown had rented and for the next dozen years worked out of a series of workshop/laboratory spaces in Manhattan. These included a lab at 175 Grand Street (1889–1892), the fourth floor of 33–35 South Fifth Avenue (1892–1895), and sixth and seventh floors of 46 & 48 East Houston Street (1895–1902). Tesla and his hired staff conducted some of his most significant work in these workshops.\\n\\n\\n=== Tesla coil ===\\n\\nIn the summer of 1889, Tesla traveled to the 1889 Exposition Universelle in Paris and learned of Heinrich Hertz\\'s 1886–1888 experiments that proved the existence of electromagnetic radiation, including radio waves. In repeating and then expanding on these experiments Tesla tried powering a Ruhmkorff coil with a high speed alternator he had been developing as par'"
            ],
            "application/vnd.google.colaboratory.intrinsic+json": {
              "type": "string"
            }
          },
          "metadata": {},
          "execution_count": 73
        }
      ]
    },
    {
      "cell_type": "code",
      "source": [
        "data[0].metadata"
      ],
      "metadata": {
        "colab": {
          "base_uri": "https://localhost:8080/"
        },
        "id": "MaLWBlkUUrpC",
        "outputId": "7923b1b5-b1a6-402a-f926-b8cd856a6e61"
      },
      "execution_count": 74,
      "outputs": [
        {
          "output_type": "execute_result",
          "data": {
            "text/plain": [
              "{'title': 'Nikola Tesla',\n",
              " 'summary': \"Nikola Tesla (; Serbian Cyrillic: Никола Тесла [nǐkola têsla]; 10 July 1856 – 7 January 1943) was a Serbian-American engineer, futurist, and inventor. He is known for his contributions to the design of the modern alternating current (AC) electricity supply system.\\nBorn and raised in the Austrian Empire, Tesla first studied engineering and physics in the 1870s without receiving a degree. He then gained practical experience in the early 1880s working in telephony and at Continental Edison in the new electric power industry. In 1884 he immigrated to the United States, where he became a naturalized citizen. He worked for a short time at the Edison Machine Works in New York City before he struck out on his own. With the help of partners to finance and market his ideas, Tesla set up laboratories and companies in New York to develop a range of electrical and mechanical devices. His AC induction motor and related polyphase AC patents, licensed by Westinghouse Electric in 1888, earned him a considerable amount of money and became the cornerstone of the polyphase system which that company eventually marketed.\\nAttempting to develop inventions he could patent and market, Tesla conducted a range of experiments with mechanical oscillators/generators, electrical discharge tubes, and early X-ray imaging. He also built a wirelessly controlled boat, one of the first ever exhibited. Tesla became well known as an inventor and demonstrated his achievements to celebrities and wealthy patrons at his lab, and was noted for his showmanship at public lectures. Throughout the 1890s, Tesla pursued his ideas for wireless lighting and worldwide wireless electric power distribution in his high-voltage, high-frequency power experiments in New York and Colorado Springs. In 1893, he made pronouncements on the possibility of wireless communication with his devices. Tesla tried to put these ideas to practical use in his unfinished Wardenclyffe Tower project, an intercontinental wireless communication and power transmitter, but ran out of funding before he could complete it.\\nAfter Wardenclyffe, Tesla experimented with a series of inventions in the 1910s and 1920s with varying degrees of success. Having spent most of his money, Tesla lived in a series of New York hotels, leaving behind unpaid bills. He died in New York City in January 1943. Tesla's work fell into relative obscurity following his death, until 1960, when the General Conference on Weights and Measures named the International System of Units (SI) measurement of magnetic flux density the tesla in his honor. There has been a resurgence in popular interest in Tesla since the 1990s.\\n\\n\",\n",
              " 'source': 'https://en.wikipedia.org/wiki/Nikola_Tesla'}"
            ]
          },
          "metadata": {},
          "execution_count": 74
        }
      ]
    },
    {
      "cell_type": "code",
      "source": [
        "!wget -O laravel.pdf https://laraveldaily.com/wp-content/uploads/2020/04/laravel-tips-2020-04.pdf"
      ],
      "metadata": {
        "colab": {
          "base_uri": "https://localhost:8080/"
        },
        "id": "YR0v-35zU88X",
        "outputId": "3ed2084b-7f74-48ce-80c3-58442ebbc61f"
      },
      "execution_count": 75,
      "outputs": [
        {
          "output_type": "stream",
          "name": "stdout",
          "text": [
            "--2025-06-16 15:07:32--  https://laraveldaily.com/wp-content/uploads/2020/04/laravel-tips-2020-04.pdf\n",
            "Resolving laraveldaily.com (laraveldaily.com)... 172.67.216.144, 104.21.86.73, 2606:4700:3036::6815:5649, ...\n",
            "Connecting to laraveldaily.com (laraveldaily.com)|172.67.216.144|:443... connected.\n",
            "HTTP request sent, awaiting response... 200 OK\n",
            "Length: 314570 (307K) [application/pdf]\n",
            "Saving to: ‘laravel.pdf’\n",
            "\n",
            "\rlaravel.pdf           0%[                    ]       0  --.-KB/s               \rlaravel.pdf         100%[===================>] 307.20K  --.-KB/s    in 0.03s   \n",
            "\n",
            "2025-06-16 15:07:32 (8.85 MB/s) - ‘laravel.pdf’ saved [314570/314570]\n",
            "\n"
          ]
        }
      ]
    },
    {
      "cell_type": "code",
      "source": [
        "llm_loader=PyPDFLoader(\"./laravel.pdf\")\n",
        "pages=llm_loader.load_and_split()\n",
        "pages[1]"
      ],
      "metadata": {
        "colab": {
          "base_uri": "https://localhost:8080/"
        },
        "id": "UjASjvpUdS8W",
        "outputId": "480c4912-5035-493a-9074-ab9ba5728921"
      },
      "execution_count": 76,
      "outputs": [
        {
          "output_type": "execute_result",
          "data": {
            "text/plain": [
              "Document(metadata={'producer': 'Skia/PDF m84', 'creator': 'PyPDF', 'creationdate': '', 'source': './laravel.pdf', 'total_pages': 41, 'page': 1, 'page_label': '2'}, page_content='History of changes\\n \\nApril 20, 2020: \\n\\u200b \\n40 more tips, total 100 now (removed duplicated, updated some old ones)\\n \\nApril 28, 2019: \\n\\u200b \\n10 more tips, total 60 now\\n \\nNovember 8, 2018\\n\\u200b \\n: 10 more tips, total 50 now\\n \\nOctober 9, 2018\\n\\u200b \\n: Book release with 40 tips\\n \\n \\nTip 1. Single Action Controllers\\n \\n \\nIf you want to create a controller with just one action, you can use \\n\\u200b \\n__invoke()\\n\\u200b \\n method and\\n \\neven create \"invokable\" controller.\\n \\n \\n<?php\\n \\nnamespace App\\\\Http\\\\Controllers;\\n \\n \\nuse App\\\\User;\\n \\nuse App\\\\Http\\\\Controllers\\\\Controller;\\n \\n \\nclass ShowProfile extends Controller\\n \\n{\\n \\n    /**\\n \\n     * Show the profile for the given user.\\n \\n     *\\n \\n     * @param  int  $id\\n \\n     * @return Response\\n \\n     */\\n \\n    public function __invoke($id)\\n \\n    {\\n \\n        return view(\\'user.profile\\', [\\'user\\' => User::findOrFail($id)]);\\n \\n    }\\n \\n}\\n \\nRoutes:\\n \\nRoute::get(\\'user/{id}\\', \\'ShowProfile\\');\\n \\nArtisan command to generate this controller:\\n \\nphp artisan make:controller ShowProfile --invokable\\n \\n \\nTip 2. Unsigned Integer\\n \\n \\nFor foreign key migrations instead of \\n\\u200b \\ninteger()\\n\\u200b \\n use \\n\\u200b \\nunsignedInteger()\\n\\u200b \\n type or\\n \\ninteger()->unsigned()\\n\\u200b \\n, otherwise you may get SQL errors.\\n \\nSupport our work by checking our Laravel adminpanel generator: \\n\\u200b \\nwww.quickadminpanel.com')"
            ]
          },
          "metadata": {},
          "execution_count": 76
        }
      ]
    },
    {
      "cell_type": "code",
      "source": [
        "pages[1].page_content"
      ],
      "metadata": {
        "colab": {
          "base_uri": "https://localhost:8080/",
          "height": 140
        },
        "id": "2N6DTmfqdxLa",
        "outputId": "c3b56f31-a577-4088-f103-5bcc96bc8dff"
      },
      "execution_count": 77,
      "outputs": [
        {
          "output_type": "execute_result",
          "data": {
            "text/plain": [
              "'History of changes\\n \\nApril 20, 2020: \\n\\u200b \\n40 more tips, total 100 now (removed duplicated, updated some old ones)\\n \\nApril 28, 2019: \\n\\u200b \\n10 more tips, total 60 now\\n \\nNovember 8, 2018\\n\\u200b \\n: 10 more tips, total 50 now\\n \\nOctober 9, 2018\\n\\u200b \\n: Book release with 40 tips\\n \\n \\nTip 1. Single Action Controllers\\n \\n \\nIf you want to create a controller with just one action, you can use \\n\\u200b \\n__invoke()\\n\\u200b \\n method and\\n \\neven create \"invokable\" controller.\\n \\n \\n<?php\\n \\nnamespace App\\\\Http\\\\Controllers;\\n \\n \\nuse App\\\\User;\\n \\nuse App\\\\Http\\\\Controllers\\\\Controller;\\n \\n \\nclass ShowProfile extends Controller\\n \\n{\\n \\n    /**\\n \\n     * Show the profile for the given user.\\n \\n     *\\n \\n     * @param  int  $id\\n \\n     * @return Response\\n \\n     */\\n \\n    public function __invoke($id)\\n \\n    {\\n \\n        return view(\\'user.profile\\', [\\'user\\' => User::findOrFail($id)]);\\n \\n    }\\n \\n}\\n \\nRoutes:\\n \\nRoute::get(\\'user/{id}\\', \\'ShowProfile\\');\\n \\nArtisan command to generate this controller:\\n \\nphp artisan make:controller ShowProfile --invokable\\n \\n \\nTip 2. Unsigned Integer\\n \\n \\nFor foreign key migrations instead of \\n\\u200b \\ninteger()\\n\\u200b \\n use \\n\\u200b \\nunsignedInteger()\\n\\u200b \\n type or\\n \\ninteger()->unsigned()\\n\\u200b \\n, otherwise you may get SQL errors.\\n \\nSupport our work by checking our Laravel adminpanel generator: \\n\\u200b \\nwww.quickadminpanel.com'"
            ],
            "application/vnd.google.colaboratory.intrinsic+json": {
              "type": "string"
            }
          },
          "metadata": {},
          "execution_count": 77
        }
      ]
    },
    {
      "cell_type": "code",
      "source": [
        "pages[1].metadata"
      ],
      "metadata": {
        "colab": {
          "base_uri": "https://localhost:8080/"
        },
        "id": "ovkXnSlMelyY",
        "outputId": "f0bb8299-085e-478d-bbf4-b4dbbe7aa94f"
      },
      "execution_count": 78,
      "outputs": [
        {
          "output_type": "execute_result",
          "data": {
            "text/plain": [
              "{'producer': 'Skia/PDF m84',\n",
              " 'creator': 'PyPDF',\n",
              " 'creationdate': '',\n",
              " 'source': './laravel.pdf',\n",
              " 'total_pages': 41,\n",
              " 'page': 1,\n",
              " 'page_label': '2'}"
            ]
          },
          "metadata": {},
          "execution_count": 78
        }
      ]
    },
    {
      "cell_type": "code",
      "source": [
        "len(pages)"
      ],
      "metadata": {
        "colab": {
          "base_uri": "https://localhost:8080/"
        },
        "id": "FlsvpaBxeV5e",
        "outputId": "eb5bf9bf-910a-4cb2-d970-382f0ad1d18e"
      },
      "execution_count": 79,
      "outputs": [
        {
          "output_type": "execute_result",
          "data": {
            "text/plain": [
              "41"
            ]
          },
          "metadata": {},
          "execution_count": 79
        }
      ]
    },
    {
      "cell_type": "markdown",
      "source": [
        "Text spliters"
      ],
      "metadata": {
        "id": "3eWh4FJRpAwl"
      }
    },
    {
      "cell_type": "code",
      "source": [
        "query1=\"Nikola Tesla\"\n",
        "query2=\"Thomas Edison\"\n",
        "\n",
        "doc1=WikipediaLoader(query=query1,load_max_docs=3,doc_content_chars_max=20000).load()\n",
        "doc2=WikipediaLoader(query=query2,load_max_docs=3,doc_content_chars_max=20000).load()\n",
        "text_documents1=doc1[0].page_content\n",
        "text_documents2=doc2[0].page_content"
      ],
      "metadata": {
        "id": "2t-KO0a7fkJ4"
      },
      "execution_count": 80,
      "outputs": []
    },
    {
      "cell_type": "code",
      "source": [
        "print(text_documents1)"
      ],
      "metadata": {
        "colab": {
          "base_uri": "https://localhost:8080/"
        },
        "id": "R9Y2W4B3pvWE",
        "outputId": "8120f58e-6d43-43b5-c69c-d8f6210f89a1"
      },
      "execution_count": 81,
      "outputs": [
        {
          "output_type": "stream",
          "name": "stdout",
          "text": [
            "Nikola Tesla (; Serbian Cyrillic: Никола Тесла [nǐkola têsla]; 10 July 1856 – 7 January 1943) was a Serbian-American engineer, futurist, and inventor. He is known for his contributions to the design of the modern alternating current (AC) electricity supply system.\n",
            "Born and raised in the Austrian Empire, Tesla first studied engineering and physics in the 1870s without receiving a degree. He then gained practical experience in the early 1880s working in telephony and at Continental Edison in the new electric power industry. In 1884 he immigrated to the United States, where he became a naturalized citizen. He worked for a short time at the Edison Machine Works in New York City before he struck out on his own. With the help of partners to finance and market his ideas, Tesla set up laboratories and companies in New York to develop a range of electrical and mechanical devices. His AC induction motor and related polyphase AC patents, licensed by Westinghouse Electric in 1888, earned him a considerable amount of money and became the cornerstone of the polyphase system which that company eventually marketed.\n",
            "Attempting to develop inventions he could patent and market, Tesla conducted a range of experiments with mechanical oscillators/generators, electrical discharge tubes, and early X-ray imaging. He also built a wirelessly controlled boat, one of the first ever exhibited. Tesla became well known as an inventor and demonstrated his achievements to celebrities and wealthy patrons at his lab, and was noted for his showmanship at public lectures. Throughout the 1890s, Tesla pursued his ideas for wireless lighting and worldwide wireless electric power distribution in his high-voltage, high-frequency power experiments in New York and Colorado Springs. In 1893, he made pronouncements on the possibility of wireless communication with his devices. Tesla tried to put these ideas to practical use in his unfinished Wardenclyffe Tower project, an intercontinental wireless communication and power transmitter, but ran out of funding before he could complete it.\n",
            "After Wardenclyffe, Tesla experimented with a series of inventions in the 1910s and 1920s with varying degrees of success. Having spent most of his money, Tesla lived in a series of New York hotels, leaving behind unpaid bills. He died in New York City in January 1943. Tesla's work fell into relative obscurity following his death, until 1960, when the General Conference on Weights and Measures named the International System of Units (SI) measurement of magnetic flux density the tesla in his honor. There has been a resurgence in popular interest in Tesla since the 1990s.\n",
            "\n",
            "\n",
            "== Early years ==\n",
            "\n",
            "Nikola Tesla was born into an ethnic Serb family in the village of Smiljan, within the Military Frontier, in the Austrian Empire (present-day Croatia), on 10 July 1856. His father, Milutin Tesla (1819–1879), was a priest of the Eastern Orthodox Church. His father's brother Josif was a lecturer at a military academy who wrote several textbooks on mathematics.\n",
            "Tesla's mother, Georgina \"Đuka\" Mandić (1822–1892), whose father was also an Eastern Orthodox priest, had a talent for making home craft tools and mechanical appliances and the ability to memorize Serbian epic poems. Đuka had never received a formal education. Tesla credited his eidetic memory and creative abilities to his mother's genetics and influence.\n",
            "Tesla was the fourth of five children. He had three sisters, Milka, Angelina, and Marica, and an older brother named Dane, who was killed in a horse-riding accident when Tesla was aged six or seven. In 1861, Tesla attended primary school in Smiljan where he studied German, arithmetic, and religion. In 1862, the Tesla family moved to the nearby town of Gospić, where Tesla's father worked as parish priest. Nikola completed primary school, followed by middle school. In 1870, Tesla moved to Karlovac to attend high school at the Higher Real Gymnasium where the classes were held in German, as it was usual throughout schools within the Austro-Hungarian Military Frontier. Later in his patent applications, before he obtained American citizenship, Tesla would identify himself as \"of Smiljan, Lika, border country of Austria-Hungary\".\n",
            "\n",
            "Tesla later wrote that he became interested in demonstrations of electricity by his physics professor. Tesla noted that these demonstrations of this \"mysterious phenomena\" made him want \"to know more of this wonderful force\". Tesla was able to perform integral calculus in his head, which prompted his teachers to believe that he was cheating. He finished a four-year term in three years, graduating in 1873.\n",
            "After graduating Tesla returned to Smiljan but soon contracted cholera, was bedridden for nine months and was near death several times. In a moment of despair, Tesla's father (who had originally wanted him to enter the priesthood), promised to send him to the best engineering school if he recovered from the illness. Tesla later said that he had read Mark Twain's earlier works while recovering from his illness.\n",
            "The next year Tesla evaded conscription into the Austro-Hungarian Army in Smiljan by running away southeast of Lika to Tomingaj, near Gračac. There he explored the mountains wearing hunter's garb. Tesla said that this contact with nature made him stronger, both physically and mentally. He enrolled at the Imperial-Royal Technical College in Graz in 1875 on a Military Frontier scholarship. Tesla passed nine exams (nearly twice as many as required) and received a letter of commendation from the dean of the technical faculty to his father, which stated, \"Your son is a star of first rank.\" At Graz, Tesla noted his fascination with the detailed lectures on electricity presented by Professor Jakob Pöschl and described how he made suggestions on improving the design of an electric motor the professor was demonstrating. But by his third year he was failing in school and never graduated, leaving Graz in December 1878. One biographer suggests Tesla was not studying and may have been expelled for gambling and womanizing.\n",
            "\n",
            "Tesla's family did not hear from him after he left school. There was a rumor among his classmates that he had drowned in the nearby river Mur but in January one of them ran into Tesla in the town of Maribor and reported that encounter to Tesla's family. It turned out Tesla had been working there as a draftsman for 60 florins per month. In March 1879, Milutin finally located his son and tried to convince him to return home and take up his education in Prague. Tesla returned to Gospić later that month when he was deported for not having a residence permit. Tesla's father died the next month, on 17 April 1879, at the age of 60 after an unspecified illness. During the rest of the year Tesla taught a large class of students in his old school in Gospić.\n",
            "In January 1880, two of Tesla's uncles put together enough money to help him leave Gospić for Prague, where he was to study. He arrived too late to enroll at Charles-Ferdinand University; he had never studied Greek, a required subject; and he was illiterate in Czech, another required subject. Tesla did, however, attend lectures in philosophy at the university as an auditor but he did not receive grades for the courses.\n",
            "\n",
            "\n",
            "=== Working at Budapest Telephone Exchange ===\n",
            "Tesla moved to Budapest, Hungary, in 1881 to work under Tivadar Puskás at a telegraph company, the Budapest Telephone Exchange. Upon arrival, Tesla realized that the company, then under construction, was not functional, so he worked as a draftsman in the Central Telegraph Office instead. Within a few months, the Budapest Telephone Exchange became functional, and Tesla was allocated the chief electrician position. During his employment, Tesla made many improvements to the Central Station equipment and claimed to have perfected a telephone repeater or amplifier, which was never patented nor publicly described.\n",
            "\n",
            "\n",
            "== Working at Edison ==\n",
            "In 1882, Tivadar Puskás got Tesla another job in Paris with the Continental Edison Company. Tesla began working in what was then a brand new industry, installing indoor incandescent lighting citywide in large scale electric power utility. The company had several subdivisions and Tesla worked at the Société Electrique Edison, the division in the Ivry-sur-Seine suburb of Paris in charge of installing the lighting system. There he gained a great deal of practical experience in electrical engineering. Management took notice of his advanced knowledge in engineering and physics and soon had him designing and building improved versions of generating dynamos and motors. They also sent him on to troubleshoot engineering problems at other Edison utilities being built around France and in Germany.\n",
            "\n",
            "\n",
            "=== Moving to the United States ===\n",
            "\n",
            "In 1884, Edison manager Charles Batchelor, who had been overseeing the Paris installation, was brought back to the United States to manage the Edison Machine Works, a manufacturing division situated in New York City, and asked that Tesla be brought to the United States as well. In June 1884, Tesla emigrated and began working almost immediately at the Machine Works on Manhattan's Lower East Side, an overcrowded shop with a workforce of several hundred machinists, laborers, managing staff, and 20 \"field engineers\" struggling with the task of building the large electric utility in that city. As in Paris, Tesla was working on troubleshooting installations and improving generators. Historian W. Bernard Carlson notes Tesla may have met company founder Thomas Edison only a couple of times. One of those times was noted in Tesla's autobiography where, after staying up all night repairing the damaged dynamos on the ocean liner SS Oregon, he ran into Batchelor and Edison, who made a quip about their \"Parisian\" being out all night. After Tesla told them he had been up all night fixing the Oregon, Edison commented to Batchelor that \"this is a damned good man\". One of the projects given to Tesla was to develop an arc lamp–based street lighting system. Arc lighting was the most popular type of street lighting but it required high voltages and was incompatible with the Edison low-voltage incandescent system, causing the company to lose contracts in some cities. Tesla's designs were never put into production, possibly because of technical improvements in incandescent street lighting or because of an installation deal that Edison made with an arc lighting company.\n",
            "Tesla had been working at the Machine Works for a total of six months when he quit. What event precipitated his leaving is unclear. It may have been over a bonus he did not receive, either for redesigning generators or for the arc lighting system that was shelved. Tesla had previous run-ins with the Edison company over unpaid bonuses he believed he had earned. In his autobiography, Tesla stated the manager of the Edison Machine Works offered a $50,000 bonus to design \"twenty-four different types of standard machines\" \"but it turned out to be a practical joke\". Later versions of this story have Thomas Edison himself offering and then reneging on the deal, quipping: \"Tesla, you don't understand our American humor\". The size of the bonus in either story has been noted as odd, since Machine Works manager Batchelor was stingy with pay, and the company did not have that amount of cash (equal to $1,749,815 today) on hand. Tesla's diary contains just one comment on what happened at the end of his employment, a note he scrawled across the two pages covering 7 December 1884, to 4 January 1885, saying \"Good By to the Edison Machine Works\".\n",
            "\n",
            "\n",
            "== Tesla Electric Light and Manufacturing ==\n",
            "Soon after leaving the Edison company, Tesla was working on patenting an arc lighting system, possibly the same one he had developed at Edison. In March 1885, he met with patent attorney Lemuel W. Serrell, the same attorney used by Edison, to obtain help with submitting the patents. Serrell introduced Tesla to two businessmen, Robert Lane and Benjamin Vail, who agreed to finance an arc lighting manufacturing and utility company in Tesla's name, the Tesla Electric Light and Manufacturing Company. Tesla worked for the rest of the year obtaining the patents that included an improved DC generator, the first patents issued to Tesla in the US, and building and installing the system in Rahway, New Jersey. Tesla's new system gained notice in the technical press, which commented on its advanced features.\n",
            "The investors showed little interest in Tesla's ideas for new types of alternating current motors and electrical transmission equipment. After the utility was up and running in 1886, they decided that the manufacturing side of the business was too competitive and opted to simply run an electric utility. They formed a new utility company, abandoning Tesla's company and leaving the inventor penniless. Tesla even lost control of the patents he had generated, since he had assigned them to the company in exchange for stock. He had to work at various electrical repair jobs and as a ditch digger for $2 per day. Later in life, Tesla recounted that part of 1886 as a time of hardship, writing \"My high education in various branches of science, mechanics and literature seemed to me like a mockery\".\n",
            "\n",
            "\n",
            "== AC and the induction motor ==\n",
            "\n",
            "In late 1886, Tesla met Alfred S. Brown, a Western Union superintendent, and New York attorney Charles Fletcher Peck. The two men were experienced in setting up companies and promoting inventions and patents for financial gain. Based on Tesla's new ideas for electrical equipment, including a thermo-magnetic motor idea, they agreed to back the inventor financially and handle his patents. Together they formed the Tesla Electric Company in April 1887, with an agreement that profits from generated patents would go 1⁄3 to Tesla, 1⁄3 to Peck and Brown, and 1⁄3 to fund development. They set up a laboratory for Tesla at 89 Liberty Street in Manhattan, where he worked on improving and developing new types of electric motors, generators, and other devices.\n",
            "In 1887, Tesla developed an induction motor that ran on alternating current (AC), a power system format that was rapidly expanding in Europe and the United States because of its advantages in long-distance, high-voltage transmission. The motor used polyphase current, which generated a rotating magnetic field to turn the motor (a principle that Tesla claimed to have conceived in 1882). This innovative electric motor, patented in May 1888, was a simple self-starting design that did not need a commutator, thus avoiding sparking and the high maintenance of constantly servicing and replacing mechanical brushes.\n",
            "Along with getting the motor patented, Peck and Brown arranged to get the motor publicized, starting with independent testing to verify it was a functional improvement, followed by press releases sent to technical publications for articles to run concurrently with the issue of the patent. Physicist William Arnold Anthony (who tested the motor) and Electrical World magazine editor Thomas Commerford Martin arranged for Tesla to demonstrate his AC motor on 16 May 1888 at the American Institute of Electrical Engineers. Engineers working for the Westinghouse Electric & Manufacturing Company reported to George Westinghouse that Tesla had a viable AC motor and related power system—something Westinghouse needed for the alternating current system he was already marketing. Westinghouse looked into getting a patent on a similar commutator-less, rotating magnetic field-based induction motor developed in 1885 and presented in a paper in March 1888 by Italian physicist Galileo Ferraris, but decided that Tesla's patent would probably control the market.\n",
            "\n",
            "In July 1888, Brown and Peck negotiated a licensing deal with George Westinghouse for Tesla's polyphase induction motor and transformer designs for $60,000 in cash and stock and a royalty of $2.50 per AC horsepower produced by each motor. Westinghouse also hired Tesla for one year for the large fee of $2,000 ($70,000 in today's dollars) per month to be a consultant at the Westinghouse Electric & Manufacturing Company's Pittsburgh labs.\n",
            "During that year, Tesla worked in Pittsburgh, helping to create an alternating current system to power the city's streetcars. He found it a frustrating period because of conflicts with the other Westinghouse engineers over how best to implement AC power. Between them, they settled on a 60-cycle AC system that Tesla proposed (to match the working frequency of Tesla's motor), but they soon found that it would not work for streetcars, since Tesla's induction motor could run only at a constant speed. They ended up using a DC traction motor instead.\n",
            "\n",
            "\n",
            "=== Market turmoil ===\n",
            "Tesla's demonstration of his induction motor and Westinghouse's subsequent licensing of the patent, both in 1888, came at the time of extreme competition between electric companies. The three big firms, Westinghouse, Edison, and Thomson-Houston Electric Company, were trying to grow in a capital-intensive business while financially undercutting each other. There was even a \"war of currents\" propaganda campaign going on, with Edison Electric claiming their direct current system was better and safer than the Westinghouse alternating current system and Thomson-Houston sometimes siding with Edison. Competing in this market meant Westinghouse would not have the cash or engineering resources to develop Tesla's motor and the related polyphase system right away.\n",
            "Two years after signing the Tesla contract, Westinghouse Electric was in trouble. The near collapse of Barings Bank in London triggered the financial panic of 1890, causing investors to call in their loans to Westinghouse Electric. The sudden cash shortage forced the company to refinance its debts. The new lenders demanded that Westinghouse cut back on what looked like excessive spending on acquisition of other companies, research, and patents, including the per motor royalty in the Tesla contract. At that point, the Tesla induction motor had been unsuccessful and was stuck in development. Westinghouse was paying a $15,000-a-year guaranteed royalty even though operating examples of the motor were rare and polyphase power systems needed to run it were even rarer. In early 1891, George Westinghouse explained his financial difficulties to Tesla in stark terms, saying that, if he did not meet the demands of his lenders, he would no longer be in control of Westinghouse Electric and Tesla would have to \"deal with the bankers\" to try to collect future royalties. The advantages of having Westinghouse continue to champion the motor probably seemed obvious to Tesla and he agreed to release the company from the royalty payment clause in the contract. Six years later Westinghouse purchased Tesla's patent for a lump sum payment of $216,000 as part of a patent-sharing agreement signed with General Electric (a company created from the 1892 merger of Edison and Thomson-Houston).\n",
            "\n",
            "\n",
            "== New York laboratories ==\n",
            "\n",
            "The money Tesla made from licensing his AC patents made him independently wealthy and gave him the time and funds to pursue his own interests. In 1889, Tesla moved out of the Liberty Street shop Peck and Brown had rented and for the next dozen years worked out of a series of workshop/laboratory spaces in Manhattan. These included a lab at 175 Grand Street (1889–1892), the fourth floor of 33–35 South Fifth Avenue (1892–1895), and sixth and seventh floors of 46 & 48 East Houston Street (1895–1902). Tesla and his hired staff conducted some of his most significant work in these workshops.\n",
            "\n",
            "\n",
            "=== Tesla coil ===\n",
            "\n",
            "In the summer of 1889, Tesla traveled to the 1889 Exposition Universelle in Paris and learned of Heinrich Hertz's 1886–1888 experiments that proved the existence of electromagnetic radiation, including radio waves. In repeating and then expanding on these experiments Tesla tried powering a Ruhmkorff coil with a high speed alternator he had been developing as par\n"
          ]
        }
      ]
    },
    {
      "cell_type": "code",
      "source": [
        "print(text_documents2)"
      ],
      "metadata": {
        "colab": {
          "base_uri": "https://localhost:8080/"
        },
        "id": "EufMG-_6pyaO",
        "outputId": "4b026ffa-4ce8-42c2-ccc5-1cd902045a86"
      },
      "execution_count": 82,
      "outputs": [
        {
          "output_type": "stream",
          "name": "stdout",
          "text": [
            "Thomas Alva Edison (February 11, 1847 – October 18, 1931) was an American inventor and businessman. He developed many devices in fields such as electric power generation, mass communication, sound recording, and motion pictures. These inventions, which include the phonograph, the motion picture camera, and early versions of the electric light bulb, have had a widespread impact on the modern industrialized world. He was one of the first inventors to apply the principles of organized science and teamwork to the process of invention, working with many researchers and employees. He established the first industrial research laboratory.\n",
            "Edison was raised in the American Midwest. Early in his career he worked as a telegraph operator, which inspired some of his earliest inventions. In 1876, he established his first laboratory facility in Menlo Park, New Jersey, where many of his early inventions were developed. He later established a botanical laboratory in Fort Myers, Florida, in collaboration with businessmen Henry Ford and Harvey S. Firestone, and a laboratory in West Orange, New Jersey, that featured the world's first film studio, the Black Maria. With 1,093 US patents in his name, as well as patents in other countries, Edison is regarded as the most prolific inventor in American history. Edison married twice and fathered six children. He died in 1931 due to complications from diabetes.\n",
            "\n",
            "\n",
            "== Early life ==\n",
            "\n",
            "Thomas Edison was born in 1847 in Milan, Ohio, but grew up in Port Huron, Michigan, after the family moved there in 1854. He was the seventh and last child of Samuel Ogden Edison Jr. (1804–1896, born in Marshalltown, Nova Scotia) and Nancy Matthews Elliott (1810–1871, born in Chenango County, New York). His patrilineal family line was Dutch by way of New Jersey; the surname had originally been \"Edeson\".\n",
            "His great-grandfather, loyalist John Edeson, fled New Jersey for Nova Scotia in 1784. The family moved to Middlesex County, Upper Canada, around 1811, and his grandfather, Capt. Samuel Edison Sr. served with the 1st Middlesex Militia during the War of 1812. His father, Samuel Edison Jr. moved to Vienna, Ontario, and fled to Ohio after his involvement in the Rebellion of 1837.\n",
            "Edison was taught reading, writing, and arithmetic by his mother, a former school teacher. He attended school for only a few months. However, one biographer described him as a very curious child who learned most things by reading on his own. As a child, he became fascinated with technology and spent hours working on experiments at home.\n",
            "Edison developed hearing problems at the age of 12. The cause of his deafness has been attributed to a bout of scarlet fever during childhood and recurring untreated middle-ear infections. He subsequently concocted elaborate fictitious stories about the cause of his deafness. He was completely deaf in one ear and barely hearing in the other.  It is alleged that Edison would listen to a music player or piano by clamping his teeth into the wood to absorb the sound waves into his skull. As he got older, Edison believed his hearing loss allowed him to avoid distraction and concentrate more easily on his work. Modern-day historians and medical professionals have suggested he may have had ADHD.\n",
            "It is known that early in his career he enrolled in a chemistry course at The Cooper Union for the Advancement of Science and Art to support his work on a new telegraphy system with Charles Batchelor. This appears to have been his only enrollment in courses at an institution of higher learning.\n",
            "\n",
            "\n",
            "== Early career ==\n",
            "Thomas Edison began his career as a news butcher, selling newspapers, candy, and vegetables on trains running from Port Huron to Detroit. He turned a $50-a-week profit by age 13, most of which went to buying equipment for electrical and chemical experiments. At age 15, in 1862, he saved 3-year-old Jimmie MacKenzie from being struck by a runaway train. Jimmie's father, station agent J. U. MacKenzie of Mount Clemens, Michigan, was so grateful that he trained Edison as a telegraph operator. Edison's first telegraphy job away from Port Huron was at Stratford Junction, Ontario, on the Grand Trunk Railway. He also studied qualitative analysis and conducted chemical experiments until he left the job rather than be fired after being held responsible for a near collision of two trains.\n",
            "Edison obtained the exclusive right to sell newspapers on the road, and, with the aid of four assistants, he set in type and printed the Grand Trunk Herald, which he sold with his other papers. This began Edison's long streak of entrepreneurial ventures, as he discovered his talents as a businessman. Ultimately, his entrepreneurship was central to the formation of some 14 companies, including General Electric, formerly one of the largest publicly traded companies in the world.\n",
            "In 1866, at the age of 19, Edison moved to Louisville, Kentucky, where, as an employee of Western Union, he worked the Associated Press bureau news wire. Edison requested the night shift, which allowed him plenty of time to spend at his two favorite pastimes—reading and experimenting. Eventually, the latter preoccupation cost him his job. One night in 1867, he was working with a lead–acid battery when he spilt sulfuric acid onto the floor. It ran between the floorboards and onto his boss's desk below. The next morning Edison was fired.\n",
            "His first patent was for the electric vote recorder, U.S. patent 90,646, which was granted on June 1, 1869. Finding little demand for the machine, Edison moved to New York City shortly thereafter. One of his mentors during those early years was a fellow telegrapher and inventor named Franklin Leonard Pope, who allowed the impoverished youth to live and work in the basement of his Elizabeth, New Jersey, home, while Edison worked for Samuel Laws at the Gold Indicator Company. Pope and Edison founded their own company in October 1869, working as electrical engineers and inventors. Edison began developing a multiplex telegraphic system, which could send two messages simultaneously, in 1874.\n",
            "\n",
            "\n",
            "== Menlo Park laboratory (1876–1886) ==\n",
            "\n",
            "\n",
            "=== Research and development facility ===\n",
            "\n",
            "Edison's major innovation was the establishment of an industrial research lab in 1876. It was built in Menlo Park, a part of Raritan Township (now named Edison Township in his honor) in Middlesex County, New Jersey, with the funds from the sale of Edison's quadruplex telegraph. After his demonstration of the telegraph, Edison was not sure that his original plan to sell it for $4,000 to $5,000 was right, so he asked Western Union to make a bid. He was surprised to hear them offer $10,000 ($277,912 in 2024), which he gratefully accepted. The quadruplex telegraph was Edison's first big financial success, and Menlo Park became the first institution set up with the specific purpose of producing constant technological innovation and improvement. Edison was legally credited with most of the inventions produced there, though many employees carried out research and development under his direction. His staff was generally told to carry out his directions in conducting research, and he drove them hard to produce results.\n",
            "William Joseph Hammer, a consulting electrical engineer, started working for Edison and began his duties as a laboratory assistant in December 1879. He assisted in experiments on the telephone, phonograph, electric railway, iron ore separator, electric lighting, and other developing inventions. However, Hammer worked primarily on the incandescent electric lamp and was put in charge of tests and records on that device. \n",
            "In 1880, Hammer was appointed chief engineer of the Edison Lamp Works. In his first year, the plant under general manager Francis Robbins Upton turned out 50,000 lamps. According to Edison, Hammer was \"a pioneer of incandescent electric lighting\". Frank J. Sprague, a competent mathematician and former naval officer, was recruited by Edward H. Johnson and joined the Edison organization in 1883. One of Sprague's contributions to the Edison Laboratory at Menlo Park was to expand Edison's mathematical methods. Despite the common belief that Edison did not use mathematics, analysis of his notebooks reveal that he was an astute user of mathematical analysis conducted by his assistants such as Francis Robbins Upton, for example, determining the critical parameters of his electric lighting system including lamp resistance by an analysis of Ohm's law, Joule's law and economics.\n",
            "Nearly all of Edison's patents were utility patents, which were protected for 17 years and included inventions or processes that are electrical, mechanical, or chemical in nature. About a dozen were design patents, which protect an ornamental design for up to 14 years. As in most patents, the inventions he described were improvements over prior art. The phonograph patent, in contrast, was unprecedented in describing the first device to record and reproduce sounds.\n",
            "In just over a decade, Edison's Menlo Park laboratory had expanded to occupy two city blocks. Edison said he wanted the lab to have \"a stock of almost every conceivable material\". A newspaper article printed in 1887 reveals the seriousness of his claim, stating the lab contained \"eight thousand kinds of chemicals, every kind of screw made, every size of needle, every kind of cord or wire, hair of humans, horses, hogs, cows, rabbits, goats, minx, camels ... silk in every texture, cocoons, various kinds of hoofs, shark's teeth, deer horns, tortoise shell ... cork, resin, varnish and oil, ostrich feathers, a peacock's tail, jet, amber, rubber, all ores ...\" and the list goes on.\n",
            "Over his desk Edison displayed a placard with Sir Joshua Reynolds' famous quotation: \"There is no expedient to which a man will not resort to avoid the real labor of thinking.\" This slogan was reputedly posted at several other locations throughout the facility.\n",
            "In Menlo Park, Edison had created the first industrial laboratory concerned with creating knowledge and then controlling its application. Edison's name is registered on 1,093 patents.\n",
            "\n",
            "\n",
            "=== Phonograph ===\n",
            "\n",
            "Edison began his career as an inventor in Newark, New Jersey, with the automatic repeater and his other improved telegraphic devices, but the invention that first gained him wider notice was the phonograph in 1877. This accomplishment was so unexpected by the public at large as to appear almost magical. Edison became known as \"The Wizard of Menlo Park\".\n",
            "His first phonograph recorded on tinfoil around a grooved cylinder. Despite its limited sound quality and that the recordings could be played only a few times, the phonograph made Edison a celebrity. Joseph Henry, president of the National Academy of Sciences and one of the most renowned electrical scientists in the US, described Edison as \"the most ingenious inventor in this country... or in any other\". In April 1878, Edison traveled to Washington to demonstrate the phonograph before the National Academy of Sciences, Congressmen, Senators and President Hayes. The Washington Post described Edison as a \"genius\" and his presentation as \"a scene... that will live in history\". Although Edison obtained a patent for the phonograph in 1878, he did little to develop it until Alexander Graham Bell, Chichester Bell, and Charles Tainter produced a phonograph-like device in the 1880s that used wax-coated cardboard cylinders.\n",
            "\n",
            "\n",
            "=== Carbon telephone transmitter ===\n",
            "In 1876, Edison began work to improve the microphone for telephones (at that time called a \"transmitter\") by developing a carbon microphone, which consists of two metal plates separated by granules of carbon that would change resistance with the pressure of sound waves. A steady direct current is passed between the plates through the granules and the varying resistance results in a modulation of the current, creating a varying electric current that reproduces the varying pressure of the sound wave.\n",
            "Up to that point, microphones, such as the ones developed by Johann Philipp Reis and Alexander Graham Bell, worked by generating a weak current. The carbon microphone works by modulating a direct current and, subsequently, using a transformer to transfer the signal so generated to the telephone line. Edison was one of many inventors working on the problem of creating a usable microphone for telephony by having it modulate an electric current passed through it. His work was concurrent with Emile Berliner's loose-contact carbon transmitter (who lost a later patent case against Edison over the carbon transmitter's invention) and David Edward Hughes' study and published paper on the physics of loose-contact carbon transmitters (work that Hughes did not bother to patent).\n",
            "Edison used the carbon microphone concept in 1877 to create an improved telephone for Western Union. In 1886, Edison found a way to improve a Bell Telephone microphone, one that used loose-contact ground carbon, with his discovery that it worked far better if the carbon was roasted. This type was put in use in 1890 and was used in all telephones along with the Bell receiver until the 1980s.\n",
            "\n",
            "\n",
            "=== Electric light ===\n",
            "\n",
            "In 1878, Edison began working on a system of electrical illumination, something he hoped could compete with gas and oil-based lighting. He began by tackling the problem of creating a long-lasting incandescent lamp, something that would be needed for indoor use. However, Thomas Edison did not invent the light bulb. In 1840, British scientist Warren de la Rue developed an efficient light bulb using a coiled platinum filament but the high cost of platinum kept the bulb from becoming a commercial success. Many other inventors had also devised incandescent lamps, including Alessandro Volta's demonstration of a glowing wire in 1800 and inventions by Henry Woodward and Mathew Evans. Others who developed early and commercially impractical incandescent electric lamps included Humphry Davy, James Bowman Lindsay, Moses G. Farmer, William E. Sawyer, Joseph Swan, and Heinrich Göbel.\n",
            "These early bulbs all had flaws such as an extremely short life and requiring a high electric current to operate which made them difficult to apply on a large scale commercially.: 217–218  In his first attempts to solve these problems, Edison tried using a filament made of cardboard, carbonized with compressed lampblack. This burnt out too quickly to provide lasting light. He then experimented with different grasses and canes such as hemp, and palmetto, before settling on bamboo as the best filament. Edison continued trying to improve this design and on November 4, 1879, filed for U.S. patent 223,898 (granted on January 27, 1880) for an electric lamp using \"a carbon filament or strip coiled and connected to platina contact wires\".\n",
            "The patent described several ways of creating the carbon filament including \"cotton and linen thread, wood splints, papers coiled in various ways\". It was not until several months after the patent was granted that Edison and his team discovered that a carbonized bamboo filament could last over 1,200 hours.\n",
            "Attempts to prevent blackening of the bulb due to emission of charged carbon from the hot filament culminated in Edison effect bulbs, which redirected and controlled the mysterious unidirectional current. Edison's 1883 patent for voltage-regulating is notably the first US patent for an electronic device due to its use of an Edison effect bulb as an active component. Subsequent scientists studied, applied, and eventually evolved the bulbs into vacuum tubes, a core component of early analog and digital electronics of the 20th century. \n",
            "\n",
            "In 1878, Edison formed the Edison Electric Light Company in New York City with several financiers, including J. P. Morgan, Spencer Trask, and the members of the Vanderbilt family. Edison made the first public demonstration of his incandescent light bulb on December 31, 1879, in Menlo Park. It was during this time that he said: \"We will make electricity so cheap that only the rich will burn candles.\"\n",
            "Henry Villard, president of the Oregon Railroad and Navigation Company, attended Edison's 1879 demonstration. Villard was impressed and requested Edison install his electric lighting system aboard Villard's company's new steamer, the Columbia. Although hesitant at first, Edison agreed to Villard's request. Most of the work was completed in May 1880, and the Columbia went to New York City, where Edison and his personnel installed Columbia's new lighting system. The Columbia was Edison's first commercial application for his incandescent light bulb. The Edison equipment was removed from Columbia in 1895.\n",
            "In 1880, Lewis Latimer, a draftsman and an expert witness in patent litigation, began working for the United States Electric Lighting Company run by Edison's rival Hiram S. Maxim. While working for Maxim, Latimer invented a process for making carbon filaments for light bulbs and helped install broad-scale lighting systems for New York City, Philadelphia, Montreal, and London. Latimer holds the patent for the electric lamp issued in 1881, and a second patent for the \"process of manufacturing carbons\" (the filament used in incandescent light bulbs), issued in 1882.\n",
            "On October 8, 1883, the US patent office ruled that Edison's patent was based on the work of William E. Sawyer and was, therefore, invalid. Litigation continued for nearly six years. In 1885, Latimer switched camps and started working with Edison. On October 6, 1889, a judge ruled that Edison's electric light improvement claim for \"a filament of carbon of high resistance\" was valid. To avoid a possible court battle with yet another competitor, Joseph Swan, who held an 1880 British patent on a similar incandescent electric lamp, he and Swan formed a joint company called Ediswan to manufacture and market the invention in Britain.\n",
            "The incandescent light bulb patented by Edison began to gain widespread popularity in Europe as well. Mahen Theatre in Brno (in what is now the Czech Republic), opened in 1882, and was the first public building in the world to use Edison's electric lamps. Francis Jehl, Edison's assistant in the invention of the lamp, supervised the installation. In September 2010, a sculpture of three giant light bulbs was erected in Brno, in front of the theater. The first Edison light bulbs in the Nordic countries were installed at the weaving hall of the Finlayson's textile factory in Tampere, Finland in March 1882.\n",
            "In 1901, Edison attended the Pan-American Exposition in Buffalo, New York. His company, the Edison Manufacturing Company, was given the task of installing the electric lights on the various buildings and structures that were built for the exposition. At night Edison made a panorama photograph of the illuminated buildings.\n",
            "\n",
            "\n",
            "=== Electric power distribution ===\n",
            "After devising a commercially viable electric light bulb on October 21, 1879, Edison developed an electric \"utility\" to compete with the existing gas light utilities. On December 17, 1880, he founded the Edison Illuminating Company, and during the 1880s, he patented a system for electricity distribution. The company established the first investor-owned electric utility. On September 4, 1882, in Pearl Street, New York City, his 600 kW cogeneration steam-powered generating station, Pearl Street Station's, electrical power distribution system was switched on, providing 110 volts direct current (DC), initially to 59 customers in lower Manhattan, quickly growing to 508 customers with 10,164 lamps.  The power station was decommissioned in 1895.\n",
            "Eight months earlier in January 1882, to demonstrate feasibility, Edison had switched on the 93 kW first steam-generating power station at Holborn Viaduct in London. This was a smaller 110 V DC supply system, eventually supplying 3,000 street lights and a number of nearby private dwellings, but was shut down in September 1886 as uneconomic, since he was unable to extend the premises.\n",
            "On January 19, 1883, the first standardized incandescent electr\n"
          ]
        }
      ]
    },
    {
      "cell_type": "markdown",
      "source": [
        "characters text splitter"
      ],
      "metadata": {
        "id": "kxqLgHDLrxqY"
      }
    },
    {
      "cell_type": "code",
      "source": [
        "documents=[text_documents1,text_documents2]\n",
        "metadata=[{\"document\":query1},{\"document\":query2}]\n",
        "text_splitter=CharacterTextSplitter(separator=\"\",chunk_size=300,chunk_overlap=40,length_function=len)\n",
        "normal_chunks=text_splitter.create_documents(documents,metadatas=metadata)"
      ],
      "metadata": {
        "id": "Nq85PoptqqlM"
      },
      "execution_count": 83,
      "outputs": []
    },
    {
      "cell_type": "code",
      "source": [
        "print(text_documents1)"
      ],
      "metadata": {
        "colab": {
          "base_uri": "https://localhost:8080/"
        },
        "id": "YHKxSUESImhw",
        "outputId": "5c9de0bc-3044-4fb9-8618-523fdeb6de7b"
      },
      "execution_count": 84,
      "outputs": [
        {
          "output_type": "stream",
          "name": "stdout",
          "text": [
            "Nikola Tesla (; Serbian Cyrillic: Никола Тесла [nǐkola têsla]; 10 July 1856 – 7 January 1943) was a Serbian-American engineer, futurist, and inventor. He is known for his contributions to the design of the modern alternating current (AC) electricity supply system.\n",
            "Born and raised in the Austrian Empire, Tesla first studied engineering and physics in the 1870s without receiving a degree. He then gained practical experience in the early 1880s working in telephony and at Continental Edison in the new electric power industry. In 1884 he immigrated to the United States, where he became a naturalized citizen. He worked for a short time at the Edison Machine Works in New York City before he struck out on his own. With the help of partners to finance and market his ideas, Tesla set up laboratories and companies in New York to develop a range of electrical and mechanical devices. His AC induction motor and related polyphase AC patents, licensed by Westinghouse Electric in 1888, earned him a considerable amount of money and became the cornerstone of the polyphase system which that company eventually marketed.\n",
            "Attempting to develop inventions he could patent and market, Tesla conducted a range of experiments with mechanical oscillators/generators, electrical discharge tubes, and early X-ray imaging. He also built a wirelessly controlled boat, one of the first ever exhibited. Tesla became well known as an inventor and demonstrated his achievements to celebrities and wealthy patrons at his lab, and was noted for his showmanship at public lectures. Throughout the 1890s, Tesla pursued his ideas for wireless lighting and worldwide wireless electric power distribution in his high-voltage, high-frequency power experiments in New York and Colorado Springs. In 1893, he made pronouncements on the possibility of wireless communication with his devices. Tesla tried to put these ideas to practical use in his unfinished Wardenclyffe Tower project, an intercontinental wireless communication and power transmitter, but ran out of funding before he could complete it.\n",
            "After Wardenclyffe, Tesla experimented with a series of inventions in the 1910s and 1920s with varying degrees of success. Having spent most of his money, Tesla lived in a series of New York hotels, leaving behind unpaid bills. He died in New York City in January 1943. Tesla's work fell into relative obscurity following his death, until 1960, when the General Conference on Weights and Measures named the International System of Units (SI) measurement of magnetic flux density the tesla in his honor. There has been a resurgence in popular interest in Tesla since the 1990s.\n",
            "\n",
            "\n",
            "== Early years ==\n",
            "\n",
            "Nikola Tesla was born into an ethnic Serb family in the village of Smiljan, within the Military Frontier, in the Austrian Empire (present-day Croatia), on 10 July 1856. His father, Milutin Tesla (1819–1879), was a priest of the Eastern Orthodox Church. His father's brother Josif was a lecturer at a military academy who wrote several textbooks on mathematics.\n",
            "Tesla's mother, Georgina \"Đuka\" Mandić (1822–1892), whose father was also an Eastern Orthodox priest, had a talent for making home craft tools and mechanical appliances and the ability to memorize Serbian epic poems. Đuka had never received a formal education. Tesla credited his eidetic memory and creative abilities to his mother's genetics and influence.\n",
            "Tesla was the fourth of five children. He had three sisters, Milka, Angelina, and Marica, and an older brother named Dane, who was killed in a horse-riding accident when Tesla was aged six or seven. In 1861, Tesla attended primary school in Smiljan where he studied German, arithmetic, and religion. In 1862, the Tesla family moved to the nearby town of Gospić, where Tesla's father worked as parish priest. Nikola completed primary school, followed by middle school. In 1870, Tesla moved to Karlovac to attend high school at the Higher Real Gymnasium where the classes were held in German, as it was usual throughout schools within the Austro-Hungarian Military Frontier. Later in his patent applications, before he obtained American citizenship, Tesla would identify himself as \"of Smiljan, Lika, border country of Austria-Hungary\".\n",
            "\n",
            "Tesla later wrote that he became interested in demonstrations of electricity by his physics professor. Tesla noted that these demonstrations of this \"mysterious phenomena\" made him want \"to know more of this wonderful force\". Tesla was able to perform integral calculus in his head, which prompted his teachers to believe that he was cheating. He finished a four-year term in three years, graduating in 1873.\n",
            "After graduating Tesla returned to Smiljan but soon contracted cholera, was bedridden for nine months and was near death several times. In a moment of despair, Tesla's father (who had originally wanted him to enter the priesthood), promised to send him to the best engineering school if he recovered from the illness. Tesla later said that he had read Mark Twain's earlier works while recovering from his illness.\n",
            "The next year Tesla evaded conscription into the Austro-Hungarian Army in Smiljan by running away southeast of Lika to Tomingaj, near Gračac. There he explored the mountains wearing hunter's garb. Tesla said that this contact with nature made him stronger, both physically and mentally. He enrolled at the Imperial-Royal Technical College in Graz in 1875 on a Military Frontier scholarship. Tesla passed nine exams (nearly twice as many as required) and received a letter of commendation from the dean of the technical faculty to his father, which stated, \"Your son is a star of first rank.\" At Graz, Tesla noted his fascination with the detailed lectures on electricity presented by Professor Jakob Pöschl and described how he made suggestions on improving the design of an electric motor the professor was demonstrating. But by his third year he was failing in school and never graduated, leaving Graz in December 1878. One biographer suggests Tesla was not studying and may have been expelled for gambling and womanizing.\n",
            "\n",
            "Tesla's family did not hear from him after he left school. There was a rumor among his classmates that he had drowned in the nearby river Mur but in January one of them ran into Tesla in the town of Maribor and reported that encounter to Tesla's family. It turned out Tesla had been working there as a draftsman for 60 florins per month. In March 1879, Milutin finally located his son and tried to convince him to return home and take up his education in Prague. Tesla returned to Gospić later that month when he was deported for not having a residence permit. Tesla's father died the next month, on 17 April 1879, at the age of 60 after an unspecified illness. During the rest of the year Tesla taught a large class of students in his old school in Gospić.\n",
            "In January 1880, two of Tesla's uncles put together enough money to help him leave Gospić for Prague, where he was to study. He arrived too late to enroll at Charles-Ferdinand University; he had never studied Greek, a required subject; and he was illiterate in Czech, another required subject. Tesla did, however, attend lectures in philosophy at the university as an auditor but he did not receive grades for the courses.\n",
            "\n",
            "\n",
            "=== Working at Budapest Telephone Exchange ===\n",
            "Tesla moved to Budapest, Hungary, in 1881 to work under Tivadar Puskás at a telegraph company, the Budapest Telephone Exchange. Upon arrival, Tesla realized that the company, then under construction, was not functional, so he worked as a draftsman in the Central Telegraph Office instead. Within a few months, the Budapest Telephone Exchange became functional, and Tesla was allocated the chief electrician position. During his employment, Tesla made many improvements to the Central Station equipment and claimed to have perfected a telephone repeater or amplifier, which was never patented nor publicly described.\n",
            "\n",
            "\n",
            "== Working at Edison ==\n",
            "In 1882, Tivadar Puskás got Tesla another job in Paris with the Continental Edison Company. Tesla began working in what was then a brand new industry, installing indoor incandescent lighting citywide in large scale electric power utility. The company had several subdivisions and Tesla worked at the Société Electrique Edison, the division in the Ivry-sur-Seine suburb of Paris in charge of installing the lighting system. There he gained a great deal of practical experience in electrical engineering. Management took notice of his advanced knowledge in engineering and physics and soon had him designing and building improved versions of generating dynamos and motors. They also sent him on to troubleshoot engineering problems at other Edison utilities being built around France and in Germany.\n",
            "\n",
            "\n",
            "=== Moving to the United States ===\n",
            "\n",
            "In 1884, Edison manager Charles Batchelor, who had been overseeing the Paris installation, was brought back to the United States to manage the Edison Machine Works, a manufacturing division situated in New York City, and asked that Tesla be brought to the United States as well. In June 1884, Tesla emigrated and began working almost immediately at the Machine Works on Manhattan's Lower East Side, an overcrowded shop with a workforce of several hundred machinists, laborers, managing staff, and 20 \"field engineers\" struggling with the task of building the large electric utility in that city. As in Paris, Tesla was working on troubleshooting installations and improving generators. Historian W. Bernard Carlson notes Tesla may have met company founder Thomas Edison only a couple of times. One of those times was noted in Tesla's autobiography where, after staying up all night repairing the damaged dynamos on the ocean liner SS Oregon, he ran into Batchelor and Edison, who made a quip about their \"Parisian\" being out all night. After Tesla told them he had been up all night fixing the Oregon, Edison commented to Batchelor that \"this is a damned good man\". One of the projects given to Tesla was to develop an arc lamp–based street lighting system. Arc lighting was the most popular type of street lighting but it required high voltages and was incompatible with the Edison low-voltage incandescent system, causing the company to lose contracts in some cities. Tesla's designs were never put into production, possibly because of technical improvements in incandescent street lighting or because of an installation deal that Edison made with an arc lighting company.\n",
            "Tesla had been working at the Machine Works for a total of six months when he quit. What event precipitated his leaving is unclear. It may have been over a bonus he did not receive, either for redesigning generators or for the arc lighting system that was shelved. Tesla had previous run-ins with the Edison company over unpaid bonuses he believed he had earned. In his autobiography, Tesla stated the manager of the Edison Machine Works offered a $50,000 bonus to design \"twenty-four different types of standard machines\" \"but it turned out to be a practical joke\". Later versions of this story have Thomas Edison himself offering and then reneging on the deal, quipping: \"Tesla, you don't understand our American humor\". The size of the bonus in either story has been noted as odd, since Machine Works manager Batchelor was stingy with pay, and the company did not have that amount of cash (equal to $1,749,815 today) on hand. Tesla's diary contains just one comment on what happened at the end of his employment, a note he scrawled across the two pages covering 7 December 1884, to 4 January 1885, saying \"Good By to the Edison Machine Works\".\n",
            "\n",
            "\n",
            "== Tesla Electric Light and Manufacturing ==\n",
            "Soon after leaving the Edison company, Tesla was working on patenting an arc lighting system, possibly the same one he had developed at Edison. In March 1885, he met with patent attorney Lemuel W. Serrell, the same attorney used by Edison, to obtain help with submitting the patents. Serrell introduced Tesla to two businessmen, Robert Lane and Benjamin Vail, who agreed to finance an arc lighting manufacturing and utility company in Tesla's name, the Tesla Electric Light and Manufacturing Company. Tesla worked for the rest of the year obtaining the patents that included an improved DC generator, the first patents issued to Tesla in the US, and building and installing the system in Rahway, New Jersey. Tesla's new system gained notice in the technical press, which commented on its advanced features.\n",
            "The investors showed little interest in Tesla's ideas for new types of alternating current motors and electrical transmission equipment. After the utility was up and running in 1886, they decided that the manufacturing side of the business was too competitive and opted to simply run an electric utility. They formed a new utility company, abandoning Tesla's company and leaving the inventor penniless. Tesla even lost control of the patents he had generated, since he had assigned them to the company in exchange for stock. He had to work at various electrical repair jobs and as a ditch digger for $2 per day. Later in life, Tesla recounted that part of 1886 as a time of hardship, writing \"My high education in various branches of science, mechanics and literature seemed to me like a mockery\".\n",
            "\n",
            "\n",
            "== AC and the induction motor ==\n",
            "\n",
            "In late 1886, Tesla met Alfred S. Brown, a Western Union superintendent, and New York attorney Charles Fletcher Peck. The two men were experienced in setting up companies and promoting inventions and patents for financial gain. Based on Tesla's new ideas for electrical equipment, including a thermo-magnetic motor idea, they agreed to back the inventor financially and handle his patents. Together they formed the Tesla Electric Company in April 1887, with an agreement that profits from generated patents would go 1⁄3 to Tesla, 1⁄3 to Peck and Brown, and 1⁄3 to fund development. They set up a laboratory for Tesla at 89 Liberty Street in Manhattan, where he worked on improving and developing new types of electric motors, generators, and other devices.\n",
            "In 1887, Tesla developed an induction motor that ran on alternating current (AC), a power system format that was rapidly expanding in Europe and the United States because of its advantages in long-distance, high-voltage transmission. The motor used polyphase current, which generated a rotating magnetic field to turn the motor (a principle that Tesla claimed to have conceived in 1882). This innovative electric motor, patented in May 1888, was a simple self-starting design that did not need a commutator, thus avoiding sparking and the high maintenance of constantly servicing and replacing mechanical brushes.\n",
            "Along with getting the motor patented, Peck and Brown arranged to get the motor publicized, starting with independent testing to verify it was a functional improvement, followed by press releases sent to technical publications for articles to run concurrently with the issue of the patent. Physicist William Arnold Anthony (who tested the motor) and Electrical World magazine editor Thomas Commerford Martin arranged for Tesla to demonstrate his AC motor on 16 May 1888 at the American Institute of Electrical Engineers. Engineers working for the Westinghouse Electric & Manufacturing Company reported to George Westinghouse that Tesla had a viable AC motor and related power system—something Westinghouse needed for the alternating current system he was already marketing. Westinghouse looked into getting a patent on a similar commutator-less, rotating magnetic field-based induction motor developed in 1885 and presented in a paper in March 1888 by Italian physicist Galileo Ferraris, but decided that Tesla's patent would probably control the market.\n",
            "\n",
            "In July 1888, Brown and Peck negotiated a licensing deal with George Westinghouse for Tesla's polyphase induction motor and transformer designs for $60,000 in cash and stock and a royalty of $2.50 per AC horsepower produced by each motor. Westinghouse also hired Tesla for one year for the large fee of $2,000 ($70,000 in today's dollars) per month to be a consultant at the Westinghouse Electric & Manufacturing Company's Pittsburgh labs.\n",
            "During that year, Tesla worked in Pittsburgh, helping to create an alternating current system to power the city's streetcars. He found it a frustrating period because of conflicts with the other Westinghouse engineers over how best to implement AC power. Between them, they settled on a 60-cycle AC system that Tesla proposed (to match the working frequency of Tesla's motor), but they soon found that it would not work for streetcars, since Tesla's induction motor could run only at a constant speed. They ended up using a DC traction motor instead.\n",
            "\n",
            "\n",
            "=== Market turmoil ===\n",
            "Tesla's demonstration of his induction motor and Westinghouse's subsequent licensing of the patent, both in 1888, came at the time of extreme competition between electric companies. The three big firms, Westinghouse, Edison, and Thomson-Houston Electric Company, were trying to grow in a capital-intensive business while financially undercutting each other. There was even a \"war of currents\" propaganda campaign going on, with Edison Electric claiming their direct current system was better and safer than the Westinghouse alternating current system and Thomson-Houston sometimes siding with Edison. Competing in this market meant Westinghouse would not have the cash or engineering resources to develop Tesla's motor and the related polyphase system right away.\n",
            "Two years after signing the Tesla contract, Westinghouse Electric was in trouble. The near collapse of Barings Bank in London triggered the financial panic of 1890, causing investors to call in their loans to Westinghouse Electric. The sudden cash shortage forced the company to refinance its debts. The new lenders demanded that Westinghouse cut back on what looked like excessive spending on acquisition of other companies, research, and patents, including the per motor royalty in the Tesla contract. At that point, the Tesla induction motor had been unsuccessful and was stuck in development. Westinghouse was paying a $15,000-a-year guaranteed royalty even though operating examples of the motor were rare and polyphase power systems needed to run it were even rarer. In early 1891, George Westinghouse explained his financial difficulties to Tesla in stark terms, saying that, if he did not meet the demands of his lenders, he would no longer be in control of Westinghouse Electric and Tesla would have to \"deal with the bankers\" to try to collect future royalties. The advantages of having Westinghouse continue to champion the motor probably seemed obvious to Tesla and he agreed to release the company from the royalty payment clause in the contract. Six years later Westinghouse purchased Tesla's patent for a lump sum payment of $216,000 as part of a patent-sharing agreement signed with General Electric (a company created from the 1892 merger of Edison and Thomson-Houston).\n",
            "\n",
            "\n",
            "== New York laboratories ==\n",
            "\n",
            "The money Tesla made from licensing his AC patents made him independently wealthy and gave him the time and funds to pursue his own interests. In 1889, Tesla moved out of the Liberty Street shop Peck and Brown had rented and for the next dozen years worked out of a series of workshop/laboratory spaces in Manhattan. These included a lab at 175 Grand Street (1889–1892), the fourth floor of 33–35 South Fifth Avenue (1892–1895), and sixth and seventh floors of 46 & 48 East Houston Street (1895–1902). Tesla and his hired staff conducted some of his most significant work in these workshops.\n",
            "\n",
            "\n",
            "=== Tesla coil ===\n",
            "\n",
            "In the summer of 1889, Tesla traveled to the 1889 Exposition Universelle in Paris and learned of Heinrich Hertz's 1886–1888 experiments that proved the existence of electromagnetic radiation, including radio waves. In repeating and then expanding on these experiments Tesla tried powering a Ruhmkorff coil with a high speed alternator he had been developing as par\n"
          ]
        }
      ]
    },
    {
      "cell_type": "code",
      "source": [
        "normal_chunks[1]"
      ],
      "metadata": {
        "colab": {
          "base_uri": "https://localhost:8080/"
        },
        "id": "9THschu_Ix6U",
        "outputId": "b8629cfc-f918-4fdf-cfe9-3c8fea3ff2bb"
      },
      "execution_count": 85,
      "outputs": [
        {
          "output_type": "execute_result",
          "data": {
            "text/plain": [
              "Document(metadata={'document': 'Nikola Tesla'}, page_content='tem.\\nBorn and raised in the Austrian Empire, Tesla first studied engineering and physics in the 1870s without receiving a degree. He then gained practical experience in the early 1880s working in telephony and at Continental Edison in the new electric power industry. In 1884 he immigrated to the Uni')"
            ]
          },
          "metadata": {},
          "execution_count": 85
        }
      ]
    },
    {
      "cell_type": "code",
      "source": [
        "normal_chunks[2]"
      ],
      "metadata": {
        "colab": {
          "base_uri": "https://localhost:8080/"
        },
        "id": "ZDxBp1c9MF52",
        "outputId": "c36855d2-06b5-419d-c219-2bdf192d308d"
      },
      "execution_count": 86,
      "outputs": [
        {
          "output_type": "execute_result",
          "data": {
            "text/plain": [
              "Document(metadata={'document': 'Nikola Tesla'}, page_content='dustry. In 1884 he immigrated to the United States, where he became a naturalized citizen. He worked for a short time at the Edison Machine Works in New York City before he struck out on his own. With the help of partners to finance and market his ideas, Tesla set up laboratories and companies in Ne')"
            ]
          },
          "metadata": {},
          "execution_count": 86
        }
      ]
    },
    {
      "cell_type": "code",
      "source": [
        "normal_chunks[3].page_content"
      ],
      "metadata": {
        "colab": {
          "base_uri": "https://localhost:8080/",
          "height": 53
        },
        "id": "4ytP1C_MMPYU",
        "outputId": "309ab40b-f3e8-4636-87e4-0e810d834312"
      },
      "execution_count": 87,
      "outputs": [
        {
          "output_type": "execute_result",
          "data": {
            "text/plain": [
              "'set up laboratories and companies in New York to develop a range of electrical and mechanical devices. His AC induction motor and related polyphase AC patents, licensed by Westinghouse Electric in 1888, earned him a considerable amount of money and became the cornerstone of the polyphase system whi'"
            ],
            "application/vnd.google.colaboratory.intrinsic+json": {
              "type": "string"
            }
          },
          "metadata": {},
          "execution_count": 87
        }
      ]
    },
    {
      "cell_type": "code",
      "source": [
        "normal_chunks[3].metadata"
      ],
      "metadata": {
        "colab": {
          "base_uri": "https://localhost:8080/"
        },
        "id": "gT-hbrciNje6",
        "outputId": "352168c3-a0b4-4e44-fd55-daa35954729a"
      },
      "execution_count": 88,
      "outputs": [
        {
          "output_type": "execute_result",
          "data": {
            "text/plain": [
              "{'document': 'Nikola Tesla'}"
            ]
          },
          "metadata": {},
          "execution_count": 88
        }
      ]
    },
    {
      "cell_type": "code",
      "source": [
        "len(normal_chunks)"
      ],
      "metadata": {
        "colab": {
          "base_uri": "https://localhost:8080/"
        },
        "id": "WxFWXsOiI2kD",
        "outputId": "6fa82396-d8ac-499c-e097-9262d6f7f4c1"
      },
      "execution_count": 89,
      "outputs": [
        {
          "output_type": "execute_result",
          "data": {
            "text/plain": [
              "154"
            ]
          },
          "metadata": {},
          "execution_count": 89
        }
      ]
    },
    {
      "cell_type": "markdown",
      "source": [
        "NLTK"
      ],
      "metadata": {
        "id": "uOt_02nkN12l"
      }
    },
    {
      "cell_type": "code",
      "source": [
        "import nltk\n",
        "from langchain.text_splitter import NLTKTextSplitter\n",
        "nltk.download('punkt')"
      ],
      "metadata": {
        "colab": {
          "base_uri": "https://localhost:8080/"
        },
        "id": "oqwX3ImrKsbm",
        "outputId": "cb60c86b-c467-4bef-b0b5-7a7ccc090c2e"
      },
      "execution_count": 90,
      "outputs": [
        {
          "output_type": "stream",
          "name": "stderr",
          "text": [
            "[nltk_data] Downloading package punkt to /root/nltk_data...\n",
            "[nltk_data]   Package punkt is already up-to-date!\n"
          ]
        },
        {
          "output_type": "execute_result",
          "data": {
            "text/plain": [
              "True"
            ]
          },
          "metadata": {},
          "execution_count": 90
        }
      ]
    },
    {
      "cell_type": "code",
      "source": [
        "text_splitter=NLTKTextSplitter(chunk_size=500)\n",
        "nltk_chunks=text_splitter.create_documents(documents,metadatas=metadata)"
      ],
      "metadata": {
        "colab": {
          "base_uri": "https://localhost:8080/"
        },
        "id": "L6bjSSpVPDUx",
        "outputId": "4348a47d-8006-4f3d-9fd0-b28149be9c42"
      },
      "execution_count": 91,
      "outputs": [
        {
          "output_type": "stream",
          "name": "stderr",
          "text": [
            "WARNING:langchain_text_splitters.base:Created a chunk of size 504, which is longer than the specified 500\n"
          ]
        }
      ]
    },
    {
      "cell_type": "code",
      "source": [
        "len(nltk_chunks)"
      ],
      "metadata": {
        "colab": {
          "base_uri": "https://localhost:8080/"
        },
        "id": "0gd2qlAAQIo7",
        "outputId": "362fce0e-6567-49f3-ba24-6c917851954c"
      },
      "execution_count": 92,
      "outputs": [
        {
          "output_type": "execute_result",
          "data": {
            "text/plain": [
              "131"
            ]
          },
          "metadata": {},
          "execution_count": 92
        }
      ]
    },
    {
      "cell_type": "code",
      "source": [
        "nltk_chunks[5].page_content"
      ],
      "metadata": {
        "colab": {
          "base_uri": "https://localhost:8080/",
          "height": 88
        },
        "id": "8dUnOCkSQTL2",
        "outputId": "308979fa-192e-4fe6-f517-64cb19884e28"
      },
      "execution_count": 93,
      "outputs": [
        {
          "output_type": "execute_result",
          "data": {
            "text/plain": [
              "'Tesla became well known as an inventor and demonstrated his achievements to celebrities and wealthy patrons at his lab, and was noted for his showmanship at public lectures.\\n\\nThroughout the 1890s, Tesla pursued his ideas for wireless lighting and worldwide wireless electric power distribution in his high-voltage, high-frequency power experiments in New York and Colorado Springs.\\n\\nIn 1893, he made pronouncements on the possibility of wireless communication with his devices.'"
            ],
            "application/vnd.google.colaboratory.intrinsic+json": {
              "type": "string"
            }
          },
          "metadata": {},
          "execution_count": 93
        }
      ]
    },
    {
      "cell_type": "code",
      "source": [
        "nltk_chunks[5].metadata"
      ],
      "metadata": {
        "colab": {
          "base_uri": "https://localhost:8080/"
        },
        "id": "RcjTe2YUQaGu",
        "outputId": "211de8a8-36e5-4fa7-bed1-e96eafab889b"
      },
      "execution_count": 94,
      "outputs": [
        {
          "output_type": "execute_result",
          "data": {
            "text/plain": [
              "{'document': 'Nikola Tesla'}"
            ]
          },
          "metadata": {},
          "execution_count": 94
        }
      ]
    },
    {
      "cell_type": "markdown",
      "source": [
        "Tokens | Transformers Tokens"
      ],
      "metadata": {
        "id": "hdBdYNbnQ6Zy"
      }
    },
    {
      "cell_type": "code",
      "source": [
        "model_id=\"stabilityai/stablelm-tuned-alpha-3b\"\n",
        "toknizer=AutoTokenizer.from_pretrained(model_id)"
      ],
      "metadata": {
        "colab": {
          "base_uri": "https://localhost:8080/",
          "height": 237,
          "referenced_widgets": [
            "4896a2cc284b4dfa864bcc8bc908129f",
            "0782fb59f6634d4181eba6604ef96c9c",
            "5e33c0a227ed488c8cbc0af4cc37cea3",
            "cca57bcce1d04853b723de4e5f8abf9f",
            "c293399ae0a7467eaa110d4b40f0b543",
            "bbbb6832c708468e8bf529e5488e8ca2",
            "56a36c7b8aa249fdbf0006bfab601e9a",
            "49f7b4cd1c6d45ef8ec04cc6d29d341f",
            "d45d511825574f3c89816e34ad09a6d4",
            "7d0ba5c29b7143be9d2d31d71aedf17a",
            "0d4a60bafe78487395a4d68e0cce6d51",
            "64c24569ebda459fba541bbe47b30336",
            "801e68a1a2bf47809125b958fddd557d",
            "d9f3a667ca634b14b723d1c4980ab42b",
            "6ff870d694ff49df9968875c1e710f59",
            "e36939ccf8eb40cea0268907b13803fd",
            "12cc0ab8e1ba4d29b4b8763ac0f445b6",
            "15b06d9992b14e66878b943a35219c8c",
            "b8805eb69fde42d29d3f76fc5e39048a",
            "d1d5d0462a4443b29b4a6351ef7517c2",
            "ccc0bc2d459d449a9beea44e77f2492b",
            "69fcb610090241b0af310adc1831f229",
            "e6762e748bd34b86a2685133a557bdc4",
            "639456768b184fb2828f2f9d94999c0b",
            "9ddd30d4b5904a8984c9047423fa77fe",
            "dc21154adb9c4ad5ad06a2f108f71edf",
            "f779eccb280743dfacf4074a774dc0fe",
            "4df026aa752e44b4a07088dbe5da4e0b",
            "61c975c1629946c4ab0e4a358b48520d",
            "76c29848c77148c2bd99754aaac3a172",
            "50ff654052f9491b997bcd443da68a2d",
            "8cb110c7d5154cdd998b12d16225183a",
            "5f6f8b45e08343eb98a95b413f6b72ae"
          ]
        },
        "id": "1hAgL0eGQuVM",
        "outputId": "4af0dca9-35a9-46eb-8402-ebf3d739ff4d"
      },
      "execution_count": 97,
      "outputs": [
        {
          "output_type": "stream",
          "name": "stderr",
          "text": [
            "/usr/local/lib/python3.11/dist-packages/huggingface_hub/utils/_auth.py:94: UserWarning: \n",
            "The secret `HF_TOKEN` does not exist in your Colab secrets.\n",
            "To authenticate with the Hugging Face Hub, create a token in your settings tab (https://huggingface.co/settings/tokens), set it as secret in your Google Colab and restart your session.\n",
            "You will be able to reuse this secret in all of your notebooks.\n",
            "Please note that authentication is recommended but still optional to access public models or datasets.\n",
            "  warnings.warn(\n"
          ]
        },
        {
          "output_type": "display_data",
          "data": {
            "text/plain": [
              "tokenizer_config.json:   0%|          | 0.00/264 [00:00<?, ?B/s]"
            ],
            "application/vnd.jupyter.widget-view+json": {
              "version_major": 2,
              "version_minor": 0,
              "model_id": "4896a2cc284b4dfa864bcc8bc908129f"
            }
          },
          "metadata": {}
        },
        {
          "output_type": "display_data",
          "data": {
            "text/plain": [
              "tokenizer.json:   0%|          | 0.00/2.11M [00:00<?, ?B/s]"
            ],
            "application/vnd.jupyter.widget-view+json": {
              "version_major": 2,
              "version_minor": 0,
              "model_id": "64c24569ebda459fba541bbe47b30336"
            }
          },
          "metadata": {}
        },
        {
          "output_type": "display_data",
          "data": {
            "text/plain": [
              "special_tokens_map.json:   0%|          | 0.00/99.0 [00:00<?, ?B/s]"
            ],
            "application/vnd.jupyter.widget-view+json": {
              "version_major": 2,
              "version_minor": 0,
              "model_id": "e6762e748bd34b86a2685133a557bdc4"
            }
          },
          "metadata": {}
        }
      ]
    },
    {
      "cell_type": "code",
      "source": [
        "text_splitter=CharacterTextSplitter.from_huggingface_tokenizer(toknizer,chunk_size=100,chunk_overlap=20)\n",
        "tokens_chunks=text_splitter.create_documents(documents,metadatas=metadata)\n",
        "tokens_chunks = text_splitter.create_documents(\n",
        "    documents, metadatas=metadata\n",
        ")"
      ],
      "metadata": {
        "colab": {
          "base_uri": "https://localhost:8080/"
        },
        "id": "HLlq_20oUfcf",
        "outputId": "a124f0e3-87a3-4623-8e7b-ec2dab6e7aaa"
      },
      "execution_count": 101,
      "outputs": [
        {
          "output_type": "stream",
          "name": "stderr",
          "text": [
            "WARNING:langchain_text_splitters.base:Created a chunk of size 537, which is longer than the specified 100\n",
            "WARNING:langchain_text_splitters.base:Created a chunk of size 352, which is longer than the specified 100\n",
            "WARNING:langchain_text_splitters.base:Created a chunk of size 380, which is longer than the specified 100\n",
            "WARNING:langchain_text_splitters.base:Created a chunk of size 260, which is longer than the specified 100\n",
            "WARNING:langchain_text_splitters.base:Created a chunk of size 131, which is longer than the specified 100\n",
            "WARNING:langchain_text_splitters.base:Created a chunk of size 158, which is longer than the specified 100\n",
            "WARNING:langchain_text_splitters.base:Created a chunk of size 590, which is longer than the specified 100\n",
            "WARNING:langchain_text_splitters.base:Created a chunk of size 323, which is longer than the specified 100\n",
            "WARNING:langchain_text_splitters.base:Created a chunk of size 459, which is longer than the specified 100\n",
            "WARNING:langchain_text_splitters.base:Created a chunk of size 210, which is longer than the specified 100\n",
            "WARNING:langchain_text_splitters.base:Created a chunk of size 446, which is longer than the specified 100\n",
            "WARNING:langchain_text_splitters.base:Created a chunk of size 131, which is longer than the specified 100\n",
            "WARNING:langchain_text_splitters.base:Created a chunk of size 273, which is longer than the specified 100\n",
            "WARNING:langchain_text_splitters.base:Created a chunk of size 469, which is longer than the specified 100\n",
            "WARNING:langchain_text_splitters.base:Created a chunk of size 536, which is longer than the specified 100\n",
            "WARNING:langchain_text_splitters.base:Created a chunk of size 809, which is longer than the specified 100\n",
            "WARNING:langchain_text_splitters.base:Created a chunk of size 261, which is longer than the specified 100\n",
            "WARNING:langchain_text_splitters.base:Created a chunk of size 328, which is longer than the specified 100\n",
            "WARNING:langchain_text_splitters.base:Created a chunk of size 501, which is longer than the specified 100\n",
            "WARNING:langchain_text_splitters.base:Created a chunk of size 648, which is longer than the specified 100\n",
            "WARNING:langchain_text_splitters.base:Created a chunk of size 537, which is longer than the specified 100\n",
            "WARNING:langchain_text_splitters.base:Created a chunk of size 352, which is longer than the specified 100\n",
            "WARNING:langchain_text_splitters.base:Created a chunk of size 380, which is longer than the specified 100\n",
            "WARNING:langchain_text_splitters.base:Created a chunk of size 260, which is longer than the specified 100\n",
            "WARNING:langchain_text_splitters.base:Created a chunk of size 131, which is longer than the specified 100\n",
            "WARNING:langchain_text_splitters.base:Created a chunk of size 158, which is longer than the specified 100\n",
            "WARNING:langchain_text_splitters.base:Created a chunk of size 590, which is longer than the specified 100\n",
            "WARNING:langchain_text_splitters.base:Created a chunk of size 323, which is longer than the specified 100\n",
            "WARNING:langchain_text_splitters.base:Created a chunk of size 459, which is longer than the specified 100\n",
            "WARNING:langchain_text_splitters.base:Created a chunk of size 210, which is longer than the specified 100\n",
            "WARNING:langchain_text_splitters.base:Created a chunk of size 446, which is longer than the specified 100\n",
            "WARNING:langchain_text_splitters.base:Created a chunk of size 131, which is longer than the specified 100\n",
            "WARNING:langchain_text_splitters.base:Created a chunk of size 273, which is longer than the specified 100\n",
            "WARNING:langchain_text_splitters.base:Created a chunk of size 469, which is longer than the specified 100\n",
            "WARNING:langchain_text_splitters.base:Created a chunk of size 536, which is longer than the specified 100\n",
            "WARNING:langchain_text_splitters.base:Created a chunk of size 809, which is longer than the specified 100\n",
            "WARNING:langchain_text_splitters.base:Created a chunk of size 261, which is longer than the specified 100\n",
            "WARNING:langchain_text_splitters.base:Created a chunk of size 328, which is longer than the specified 100\n",
            "WARNING:langchain_text_splitters.base:Created a chunk of size 501, which is longer than the specified 100\n",
            "WARNING:langchain_text_splitters.base:Created a chunk of size 648, which is longer than the specified 100\n"
          ]
        }
      ]
    },
    {
      "cell_type": "code",
      "source": [
        "tokens_chunks[5].page_content"
      ],
      "metadata": {
        "colab": {
          "base_uri": "https://localhost:8080/",
          "height": 105
        },
        "id": "_hQSb-y8VFka",
        "outputId": "67f957b1-1343-4703-b7ff-6a2a54dc7331"
      },
      "execution_count": 102,
      "outputs": [
        {
          "output_type": "execute_result",
          "data": {
            "text/plain": [
              "'=== Working at Budapest Telephone Exchange ===\\nTesla moved to Budapest, Hungary, in 1881 to work under Tivadar Puskás at a telegraph company, the Budapest Telephone Exchange. Upon arrival, Tesla realized that the company, then under construction, was not functional, so he worked as a draftsman in the Central Telegraph Office instead. Within a few months, the Budapest Telephone Exchange became functional, and Tesla was allocated the chief electrician position. During his employment, Tesla made many improvements to the Central Station equipment and claimed to have perfected a telephone repeater or amplifier, which was never patented nor publicly described.'"
            ],
            "application/vnd.google.colaboratory.intrinsic+json": {
              "type": "string"
            }
          },
          "metadata": {},
          "execution_count": 102
        }
      ]
    },
    {
      "cell_type": "code",
      "source": [
        " tokens_chunks[5].metadata"
      ],
      "metadata": {
        "colab": {
          "base_uri": "https://localhost:8080/"
        },
        "id": "fg1lq8p-VQpl",
        "outputId": "20c2f676-822c-4f22-e6ba-a4553656da1d"
      },
      "execution_count": 103,
      "outputs": [
        {
          "output_type": "execute_result",
          "data": {
            "text/plain": [
              "{'document': 'Nikola Tesla'}"
            ]
          },
          "metadata": {},
          "execution_count": 103
        }
      ]
    },
    {
      "cell_type": "code",
      "source": [],
      "metadata": {
        "id": "NRkIJLU8Vb_1"
      },
      "execution_count": null,
      "outputs": []
    }
  ]
}